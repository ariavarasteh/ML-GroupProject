{
 "cells": [
  {
   "cell_type": "markdown",
   "metadata": {
    "deletable": true,
    "editable": true
   },
   "source": [
    "# Linear Regression Starter Kit for Kaggle House Prices "
   ]
  },
  {
   "cell_type": "markdown",
   "metadata": {
    "deletable": true,
    "editable": true
   },
   "source": [
    "## Imports and inits"
   ]
  },
  {
   "cell_type": "code",
   "execution_count": 2,
   "metadata": {
    "collapsed": false,
    "deletable": true,
    "editable": true
   },
   "outputs": [
    {
     "name": "stdout",
     "output_type": "stream",
     "text": [
      "Checking whether there is an H2O instance running at http://localhost:54321. connected.\n"
     ]
    },
    {
     "data": {
      "text/html": [
       "<div style=\"overflow:auto\"><table style=\"width:50%\"><tr><td>H2O cluster uptime:</td>\n",
       "<td>16 secs</td></tr>\n",
       "<tr><td>H2O cluster version:</td>\n",
       "<td>3.10.4.4</td></tr>\n",
       "<tr><td>H2O cluster version age:</td>\n",
       "<td>1 month and 27 days </td></tr>\n",
       "<tr><td>H2O cluster name:</td>\n",
       "<td>H2O_from_python_yataolu_sxebkd</td></tr>\n",
       "<tr><td>H2O cluster total nodes:</td>\n",
       "<td>1</td></tr>\n",
       "<tr><td>H2O cluster free memory:</td>\n",
       "<td>1.778 Gb</td></tr>\n",
       "<tr><td>H2O cluster total cores:</td>\n",
       "<td>0</td></tr>\n",
       "<tr><td>H2O cluster allowed cores:</td>\n",
       "<td>0</td></tr>\n",
       "<tr><td>H2O cluster status:</td>\n",
       "<td>accepting new members, healthy</td></tr>\n",
       "<tr><td>H2O connection url:</td>\n",
       "<td>http://localhost:54321</td></tr>\n",
       "<tr><td>H2O connection proxy:</td>\n",
       "<td>None</td></tr>\n",
       "<tr><td>H2O internal security:</td>\n",
       "<td>False</td></tr>\n",
       "<tr><td>Python version:</td>\n",
       "<td>2.7.12 final</td></tr></table></div>"
      ],
      "text/plain": [
       "--------------------------  ------------------------------\n",
       "H2O cluster uptime:         16 secs\n",
       "H2O cluster version:        3.10.4.4\n",
       "H2O cluster version age:    1 month and 27 days\n",
       "H2O cluster name:           H2O_from_python_yataolu_sxebkd\n",
       "H2O cluster total nodes:    1\n",
       "H2O cluster free memory:    1.778 Gb\n",
       "H2O cluster total cores:    0\n",
       "H2O cluster allowed cores:  0\n",
       "H2O cluster status:         accepting new members, healthy\n",
       "H2O connection url:         http://localhost:54321\n",
       "H2O connection proxy:\n",
       "H2O internal security:      False\n",
       "Python version:             2.7.12 final\n",
       "--------------------------  ------------------------------"
      ]
     },
     "metadata": {},
     "output_type": "display_data"
    }
   ],
   "source": [
    "import h2o\n",
    "from h2o.estimators.glm import H2OGeneralizedLinearEstimator\n",
    "from h2o.grid.grid_search import H2OGridSearch \n",
    "h2o.init() # give h2o as much memory as possible\n",
    "h2o.no_progress() # turn off h2o progress bars\n",
    "\n",
    "import numpy as np\n",
    "import pandas as pd"
   ]
  },
  {
   "cell_type": "markdown",
   "metadata": {
    "deletable": true,
    "editable": true
   },
   "source": [
    "## Import data"
   ]
  },
  {
   "cell_type": "code",
   "execution_count": 5,
   "metadata": {
    "collapsed": false,
    "deletable": true,
    "editable": true
   },
   "outputs": [
    {
     "name": "stdout",
     "output_type": "stream",
     "text": [
      "(1460, 81)\n",
      "(1459, 81)\n"
     ]
    }
   ],
   "source": [
    "train = h2o.import_file('../Desktop/train.csv')\n",
    "test = h2o.import_file('../Desktop/test.csv')\n",
    "\n",
    "# bug fix - from Keston\n",
    "dummy_col = np.random.rand(test.shape[0])\n",
    "test = test.cbind(h2o.H2OFrame(dummy_col))\n",
    "cols = test.columns\n",
    "cols[-1] = 'SalePrice'\n",
    "test.columns = cols\n",
    "print(train.shape)\n",
    "print(test.shape)"
   ]
  },
  {
   "cell_type": "markdown",
   "metadata": {
    "deletable": true,
    "editable": true
   },
   "source": [
    "#### Determine data types"
   ]
  },
  {
   "cell_type": "code",
   "execution_count": 6,
   "metadata": {
    "collapsed": false,
    "deletable": true,
    "editable": true
   },
   "outputs": [],
   "source": [
    "def get_type_lists(frame=train, rejects=['Id', 'SalePrice']):\n",
    "\n",
    "    \"\"\"Creates lists of numeric and categorical variables.\n",
    "    \n",
    "    :param frame: The frame from which to determine types.\n",
    "    :param rejects: Variable names not to be included in returned lists.\n",
    "    :return: Tuple of lists for numeric and categorical variables in the frame.\n",
    "    \n",
    "    \"\"\"\n",
    "    \n",
    "    nums, cats = [], []\n",
    "    for key, val in frame.types.items():\n",
    "        if key not in rejects:\n",
    "            if val == 'enum':\n",
    "                cats.append(key)\n",
    "            else: \n",
    "                nums.append(key)\n",
    "                \n",
    "    print('Numeric =', nums)                \n",
    "    print()\n",
    "    print('Categorical =', cats)\n",
    "    \n",
    "    return nums, cats"
   ]
  },
  {
   "cell_type": "code",
   "execution_count": 7,
   "metadata": {
    "collapsed": false,
    "deletable": true,
    "editable": true
   },
   "outputs": [
    {
     "name": "stdout",
     "output_type": "stream",
     "text": [
      "('Numeric =', [u'3SsnPorch', u'GarageYrBlt', u'OverallQual', u'LotArea', u'GrLivArea', u'YearRemodAdd', u'EnclosedPorch', u'BsmtFullBath', u'LotFrontage', u'KitchenAbvGr', u'MoSold', u'OpenPorchSF', u'BsmtUnfSF', u'FullBath', u'MSSubClass', u'YearBuilt', u'PoolArea', u'LowQualFinSF', u'2ndFlrSF', u'HalfBath', u'OverallCond', u'WoodDeckSF', u'MasVnrArea', u'1stFlrSF', u'MiscVal', u'Fireplaces', u'BsmtHalfBath', u'TotalBsmtSF', u'TotRmsAbvGrd', u'YrSold', u'BsmtFinSF1', u'BsmtFinSF2', u'ScreenPorch', u'BedroomAbvGr', u'GarageArea', u'GarageCars'])\n",
      "()\n",
      "('Categorical =', [u'MasVnrType', u'LotConfig', u'GarageFinish', u'Electrical', u'HouseStyle', u'Foundation', u'HeatingQC', u'CentralAir', u'BsmtExposure', u'GarageCond', u'PavedDrive', u'SaleType', u'KitchenQual', u'BsmtFinType2', u'BsmtFinType1', u'Condition2', u'Condition1', u'Fence', u'SaleCondition', u'Functional', u'Alley', u'MiscFeature', u'PoolQC', u'LandSlope', u'GarageQual', u'Exterior1st', u'BsmtQual', u'BsmtCond', u'Utilities', u'LotShape', u'BldgType', u'MSZoning', u'Exterior2nd', u'Heating', u'RoofMatl', u'GarageType', u'LandContour', u'Neighborhood', u'ExterCond', u'ExterQual', u'RoofStyle', u'Street', u'FireplaceQu'])\n"
     ]
    }
   ],
   "source": [
    "original_nums, cats = get_type_lists()"
   ]
  },
  {
   "cell_type": "markdown",
   "metadata": {},
   "source": [
    "## Split into to train and validation (before doing data prep!!!)"
   ]
  },
  {
   "cell_type": "code",
   "execution_count": 8,
   "metadata": {
    "collapsed": false
   },
   "outputs": [
    {
     "name": "stdout",
     "output_type": "stream",
     "text": [
      "(1001, 81)\n",
      "(459, 81)\n"
     ]
    }
   ],
   "source": [
    "train, valid = train.split_frame([0.7], seed=12345)\n",
    "print(train.shape)\n",
    "print(valid.shape)"
   ]
  },
  {
   "cell_type": "markdown",
   "metadata": {
    "deletable": true,
    "editable": true
   },
   "source": [
    "## Impute numeric missing"
   ]
  },
  {
   "cell_type": "code",
   "execution_count": 9,
   "metadata": {
    "collapsed": false,
    "deletable": true,
    "editable": true
   },
   "outputs": [],
   "source": [
    "# median usually better than mean\n",
    "# (_ signifies temporary throw-away variable, used to suppress output)\n",
    "_ = train[['MasVnrArea', 'GarageYrBlt', 'LotFrontage']].impute(method='median')\n",
    "_ = valid[['MasVnrArea', 'GarageYrBlt', 'LotFrontage']].impute(method='median')\n",
    "_ = test[['BsmtHalfBath', 'BsmtFinSF1', 'BsmtFullBath', 'BsmtFinSF2', 'BsmtUnfSF', 'MasVnrArea', \n",
    "          'GarageYrBlt', 'LotFrontage', 'GarageCars', 'TotalBsmtSF', 'GarageArea']].impute(method='median')"
   ]
  },
  {
   "cell_type": "markdown",
   "metadata": {
    "deletable": true,
    "editable": true
   },
   "source": [
    "## Encode categorical vars using shrunken averages\n",
    "http://helios.mm.di.uoa.gr/~rouvas/ssi/sigkdd/sigkdd.vol3.1/barreca.ps"
   ]
  },
  {
   "cell_type": "code",
   "execution_count": 10,
   "metadata": {
    "collapsed": false,
    "deletable": true,
    "editable": true
   },
   "outputs": [],
   "source": [
    "def target_encoder(training_frame, test_frame, x, y, lambda_=0.15, threshold=150, test=False):\n",
    "\n",
    "    \"\"\" Applies simple target encoding to categorical variables.\n",
    "\n",
    "    :param training_frame: Training frame which to create target means and to be encoded.\n",
    "    :param test_frame: Test frame to be encoded using information from training frame.\n",
    "    :param x: Name of input variable to be encoded.\n",
    "    :param y: Name of target variable to use for encoding.\n",
    "    :param lambda_: Balance between level mean and overall mean for small groups.\n",
    "    :param threshold: Number below which a level is considered small enough to be shrunken.\n",
    "    :param test: Whether or not to print the row_val_dict for testing purposes.\n",
    "    :return: Tuple of encoded variable from train and test set as H2OFrames.\n",
    "\n",
    "    \"\"\"\n",
    "\n",
    "    # convert to pandas\n",
    "    trdf = training_frame.as_data_frame().loc[:, [x,y]] # df\n",
    "    tss = test_frame.as_data_frame().loc[:, x]          # series\n",
    "\n",
    "\n",
    "    # create dictionary of level:encode val\n",
    "\n",
    "    encode_name = x + '_Tencode'\n",
    "    overall_mean = trdf[y].mean()\n",
    "    row_val_dict = {}\n",
    "\n",
    "    for level in trdf[x].unique():\n",
    "        level_df = trdf[trdf[x] == level][y]\n",
    "        level_n = level_df.shape[0]\n",
    "        level_mean = level_df.mean()\n",
    "        if level_n >= threshold:\n",
    "            row_val_dict[level] = level_mean\n",
    "        else:\n",
    "            row_val_dict[level] = ((1 - lambda_) * level_mean) +\\\n",
    "                                  (lambda_ * overall_mean)\n",
    "\n",
    "    row_val_dict[np.nan] = overall_mean # handle missing values\n",
    "\n",
    "    if test:\n",
    "        print(row_val_dict)\n",
    "\n",
    "    # apply the transform to training data\n",
    "    trdf[encode_name] = trdf[x].apply(lambda i: row_val_dict[i])\n",
    "\n",
    "    # apply the transform to test data\n",
    "    tsdf = pd.DataFrame(columns=[x, encode_name])\n",
    "    tsdf[x] = tss\n",
    "    tsdf.loc[:, encode_name] = overall_mean # handle previously unseen values\n",
    "    # handle values that are seen in tsdf but not row_val_dict\n",
    "    for i, col_i in enumerate(tsdf[x]):\n",
    "        try:\n",
    "            row_val_dict[col_i]\n",
    "        except:\n",
    "            # a value that appeared in tsdf isn't in the row_val_dict so just\n",
    "            # make it the overall_mean\n",
    "            row_val_dict[col_i] = overall_mean\n",
    "    tsdf[encode_name] = tsdf[x].apply(lambda i: row_val_dict[i])\n",
    "\n",
    "\n",
    "    # convert back to H2O\n",
    "\n",
    "    trdf = h2o.H2OFrame(trdf[encode_name].as_matrix())\n",
    "    trdf.columns = [encode_name]\n",
    "\n",
    "    tsdf = h2o.H2OFrame(tsdf[encode_name].as_matrix())\n",
    "    tsdf.columns = [encode_name]\n",
    "\n",
    "    return (trdf, tsdf)\n"
   ]
  },
  {
   "cell_type": "markdown",
   "metadata": {
    "deletable": true,
    "editable": true
   },
   "source": [
    "#### Execute encoding"
   ]
  },
  {
   "cell_type": "code",
   "execution_count": 11,
   "metadata": {
    "collapsed": false,
    "deletable": true,
    "editable": true
   },
   "outputs": [
    {
     "name": "stdout",
     "output_type": "stream",
     "text": [
      "Encoding: MasVnrType (1/43) ...\n",
      "Encoding: LotConfig (2/43) ...\n",
      "Encoding: GarageFinish (3/43) ...\n",
      "Encoding: Electrical (4/43) ...\n",
      "Encoding: HouseStyle (5/43) ...\n",
      "Encoding: Foundation (6/43) ...\n",
      "Encoding: HeatingQC (7/43) ...\n",
      "Encoding: CentralAir (8/43) ...\n",
      "Encoding: BsmtExposure (9/43) ...\n",
      "Encoding: GarageCond (10/43) ...\n",
      "Encoding: PavedDrive (11/43) ...\n",
      "Encoding: SaleType (12/43) ...\n",
      "Encoding: KitchenQual (13/43) ...\n",
      "Encoding: BsmtFinType2 (14/43) ...\n",
      "Encoding: BsmtFinType1 (15/43) ...\n",
      "Encoding: Condition2 (16/43) ...\n",
      "Encoding: Condition1 (17/43) ...\n",
      "Encoding: Fence (18/43) ...\n",
      "Encoding: SaleCondition (19/43) ...\n",
      "Encoding: Functional (20/43) ...\n",
      "Encoding: Alley (21/43) ...\n",
      "Encoding: MiscFeature (22/43) ...\n",
      "Encoding: PoolQC (23/43) ...\n",
      "Encoding: LandSlope (24/43) ...\n",
      "Encoding: GarageQual (25/43) ...\n",
      "Encoding: Exterior1st (26/43) ...\n",
      "Encoding: BsmtQual (27/43) ...\n",
      "Encoding: BsmtCond (28/43) ...\n",
      "Encoding: Utilities (29/43) ...\n",
      "Encoding: LotShape (30/43) ...\n",
      "Encoding: BldgType (31/43) ...\n",
      "Encoding: MSZoning (32/43) ...\n",
      "Encoding: Exterior2nd (33/43) ...\n",
      "Encoding: Heating (34/43) ...\n",
      "Encoding: RoofMatl (35/43) ...\n",
      "Encoding: GarageType (36/43) ...\n",
      "Encoding: LandContour (37/43) ...\n",
      "Encoding: Neighborhood (38/43) ...\n",
      "Encoding: ExterCond (39/43) ...\n",
      "Encoding: ExterQual (40/43) ...\n",
      "Encoding: RoofStyle (41/43) ...\n",
      "Encoding: Street (42/43) ...\n",
      "Encoding: FireplaceQu (43/43) ...\n",
      "Done.\n"
     ]
    }
   ],
   "source": [
    "total = len(cats)\n",
    "for i, var in enumerate(cats):\n",
    "    \n",
    "    tr_enc, _ = target_encoder(train, test, var, 'SalePrice')\n",
    "    v_enc, ts_enc = target_encoder(valid, test, var, 'SalePrice')\n",
    "    \n",
    "    print('Encoding: ' + var + ' (' + str(i+1) + '/' + str(total) + ') ...')\n",
    "\n",
    "    train = train.cbind(tr_enc)\n",
    "    valid = valid.cbind(v_enc)\n",
    "    test = test.cbind(ts_enc)    \n",
    "    \n",
    "print('Done.')"
   ]
  },
  {
   "cell_type": "markdown",
   "metadata": {
    "collapsed": false,
    "deletable": true,
    "editable": true
   },
   "source": [
    "#### Redefine numerics and explore"
   ]
  },
  {
   "cell_type": "code",
   "execution_count": 12,
   "metadata": {
    "collapsed": false,
    "deletable": true,
    "editable": true
   },
   "outputs": [
    {
     "name": "stdout",
     "output_type": "stream",
     "text": [
      "('Numeric =', [u'3SsnPorch', u'Heating_Tencode', u'GarageYrBlt', u'OverallQual', u'LotArea', u'Condition2_Tencode', u'HeatingQC_Tencode', u'GrLivArea', u'YearRemodAdd', u'BsmtFinType2_Tencode', u'EnclosedPorch', u'Street_Tencode', u'BsmtFullBath', u'MiscFeature_Tencode', u'LotFrontage', u'SaleCondition_Tencode', u'KitchenAbvGr', u'FireplaceQu_Tencode', u'MoSold', u'KitchenQual_Tencode', u'Foundation_Tencode', u'GarageCond_Tencode', u'OpenPorchSF', u'BsmtUnfSF', u'ExterCond_Tencode', u'2ndFlrSF', u'Electrical_Tencode', u'Exterior1st_Tencode', u'GarageQual_Tencode', u'FullBath', u'HouseStyle_Tencode', u'ExterQual_Tencode', u'CentralAir_Tencode', u'RoofStyle_Tencode', u'MSSubClass', u'YearBuilt', u'PoolArea', u'Exterior2nd_Tencode', u'BsmtQual_Tencode', u'LotConfig_Tencode', u'PavedDrive_Tencode', u'LowQualFinSF', u'BsmtFinType1_Tencode', u'GarageType_Tencode', u'RoofMatl_Tencode', u'HalfBath', u'BldgType_Tencode', u'Alley_Tencode', u'OverallCond', u'Utilities_Tencode', u'BsmtCond_Tencode', u'LandSlope_Tencode', u'WoodDeckSF', u'MasVnrArea', u'1stFlrSF', u'GarageFinish_Tencode', u'MiscVal', u'Fireplaces', u'BsmtHalfBath', u'TotalBsmtSF', u'TotRmsAbvGrd', u'BsmtFinSF2', u'Condition1_Tencode', u'Neighborhood_Tencode', u'MasVnrType_Tencode', u'Functional_Tencode', u'YrSold', u'MSZoning_Tencode', u'PoolQC_Tencode', u'Fence_Tencode', u'BsmtFinSF1', u'BsmtExposure_Tencode', u'ScreenPorch', u'BedroomAbvGr', u'LotShape_Tencode', u'SaleType_Tencode', u'LandContour_Tencode', u'GarageArea', u'GarageCars'])\n",
      "()\n",
      "('Categorical =', [u'MasVnrType', u'LotConfig', u'GarageFinish', u'Electrical', u'HouseStyle', u'Foundation', u'HeatingQC', u'CentralAir', u'BsmtExposure', u'GarageCond', u'PavedDrive', u'SaleType', u'KitchenQual', u'BsmtFinType2', u'BsmtFinType1', u'Condition2', u'Condition1', u'Fence', u'SaleCondition', u'Functional', u'Alley', u'BldgType', u'PoolQC', u'MiscFeature', u'LandSlope', u'GarageQual', u'Exterior1st', u'BsmtQual', u'BsmtCond', u'Utilities', u'LotShape', u'Street', u'MSZoning', u'Exterior2nd', u'Heating', u'RoofMatl', u'GarageType', u'LandContour', u'Neighborhood', u'ExterCond', u'ExterQual', u'RoofStyle', u'FireplaceQu'])\n"
     ]
    }
   ],
   "source": [
    "encoded_nums, cats = get_type_lists(frame=train)"
   ]
  },
  {
   "cell_type": "code",
   "execution_count": 13,
   "metadata": {
    "collapsed": false,
    "deletable": true,
    "editable": true
   },
   "outputs": [
    {
     "name": "stdout",
     "output_type": "stream",
     "text": [
      "Imputed and encoded numeric training data:\n",
      "Rows:1001\n",
      "Cols:79\n",
      "\n",
      "\n"
     ]
    },
    {
     "data": {
      "text/html": [
       "<table>\n",
       "<thead>\n",
       "<tr><th>       </th><th>3SsnPorch    </th><th>Heating_Tencode  </th><th>GarageYrBlt  </th><th>OverallQual  </th><th>LotArea      </th><th>Condition2_Tencode  </th><th>HeatingQC_Tencode  </th><th>GrLivArea   </th><th>YearRemodAdd  </th><th>BsmtFinType2_Tencode  </th><th>EnclosedPorch  </th><th>Street_Tencode  </th><th>BsmtFullBath  </th><th>MiscFeature_Tencode  </th><th>LotFrontage  </th><th>SaleCondition_Tencode  </th><th>KitchenAbvGr  </th><th>FireplaceQu_Tencode  </th><th>MoSold       </th><th>KitchenQual_Tencode  </th><th>Foundation_Tencode  </th><th>GarageCond_Tencode  </th><th>OpenPorchSF  </th><th>BsmtUnfSF    </th><th>ExterCond_Tencode  </th><th>2ndFlrSF     </th><th>Electrical_Tencode  </th><th>Exterior1st_Tencode  </th><th>GarageQual_Tencode  </th><th>FullBath      </th><th>HouseStyle_Tencode  </th><th>ExterQual_Tencode  </th><th>CentralAir_Tencode  </th><th>RoofStyle_Tencode  </th><th>MSSubClass   </th><th>YearBuilt   </th><th>PoolArea     </th><th>Exterior2nd_Tencode  </th><th>BsmtQual_Tencode  </th><th>LotConfig_Tencode  </th><th>PavedDrive_Tencode  </th><th>LowQualFinSF  </th><th>BsmtFinType1_Tencode  </th><th>GarageType_Tencode  </th><th>RoofMatl_Tencode  </th><th>HalfBath      </th><th>BldgType_Tencode  </th><th>Alley_Tencode  </th><th>OverallCond  </th><th>Utilities_Tencode  </th><th>BsmtCond_Tencode  </th><th>LandSlope_Tencode  </th><th>WoodDeckSF   </th><th>MasVnrArea   </th><th>1stFlrSF     </th><th>GarageFinish_Tencode  </th><th>MiscVal      </th><th>Fireplaces    </th><th>BsmtHalfBath   </th><th>TotalBsmtSF  </th><th>TotRmsAbvGrd  </th><th>BsmtFinSF2   </th><th>Condition1_Tencode  </th><th>Neighborhood_Tencode  </th><th>MasVnrType_Tencode  </th><th>Functional_Tencode  </th><th>YrSold       </th><th>MSZoning_Tencode  </th><th>PoolQC_Tencode  </th><th>Fence_Tencode  </th><th>BsmtFinSF1   </th><th>BsmtExposure_Tencode  </th><th>ScreenPorch  </th><th>BedroomAbvGr  </th><th>LotShape_Tencode  </th><th>SaleType_Tencode  </th><th>LandContour_Tencode  </th><th>GarageArea   </th><th>GarageCars    </th></tr>\n",
       "</thead>\n",
       "<tbody>\n",
       "<tr><td>type   </td><td>int          </td><td>real             </td><td>real         </td><td>int          </td><td>int          </td><td>real                </td><td>real               </td><td>int         </td><td>int           </td><td>real                  </td><td>int            </td><td>real            </td><td>int           </td><td>real                 </td><td>real         </td><td>real                   </td><td>int           </td><td>real                 </td><td>int          </td><td>real                 </td><td>real                </td><td>real                </td><td>int          </td><td>int          </td><td>real               </td><td>int          </td><td>real                </td><td>real                 </td><td>real                </td><td>int           </td><td>real                </td><td>real               </td><td>real                </td><td>real               </td><td>int          </td><td>int         </td><td>int          </td><td>real                 </td><td>real              </td><td>real               </td><td>real                </td><td>int           </td><td>real                  </td><td>real                </td><td>real              </td><td>int           </td><td>real              </td><td>real           </td><td>int          </td><td>real               </td><td>real              </td><td>real               </td><td>int          </td><td>real         </td><td>int          </td><td>real                  </td><td>int          </td><td>int           </td><td>int            </td><td>int          </td><td>int           </td><td>int          </td><td>real                </td><td>real                  </td><td>real                </td><td>real                </td><td>int          </td><td>real              </td><td>real            </td><td>real           </td><td>int          </td><td>real                  </td><td>int          </td><td>int           </td><td>real              </td><td>real              </td><td>real                 </td><td>int          </td><td>int           </td></tr>\n",
       "<tr><td>mins   </td><td>0.0          </td><td>93469.9605228    </td><td>1908.0       </td><td>2.0          </td><td>1300.0       </td><td>108075.793856       </td><td>135668.699029      </td><td>480.0       </td><td>1950.0        </td><td>154536.935523         </td><td>0.0            </td><td>146350.103856   </td><td>0.0           </td><td>140375.793856        </td><td>21.0         </td><td>115832.043856          </td><td>0.0           </td><td>141462.348856        </td><td>1.0          </td><td>124936.948204        </td><td>121726.893856       </td><td>112070.793856       </td><td>0.0          </td><td>0.0          </td><td>122047.149412      </td><td>0.0          </td><td>84275.7938561       </td><td>78325.7938561        </td><td>96813.2938561       </td><td>0.0           </td><td>118907.222428       </td><td>116078.968856      </td><td>119608.233687       </td><td>161577.222428      </td><td>20.0         </td><td>1875.0      </td><td>0.0          </td><td>129978.239689        </td><td>121216.120939     </td><td>176473.289916      </td><td>129253.89465        </td><td>0.0           </td><td>150410.446488         </td><td>125174.960523       </td><td>143775.793856     </td><td>0.0           </td><td>138273.460523     </td><td>128075.200999  </td><td>2.0          </td><td>144200.793856      </td><td>84275.7938561     </td><td>181486.518275      </td><td>0.0          </td><td>0.0          </td><td>480.0        </td><td>141354.57177          </td><td>0.0          </td><td>0.0           </td><td>0.0            </td><td>0.0          </td><td>3.0           </td><td>0.0          </td><td>134468.293856       </td><td>109690.793856         </td><td>155578.618881       </td><td>110059.127189       </td><td>2006.0       </td><td>78614.7938561     </td><td>182171.959041   </td><td>141306.738142  </td><td>0.0          </td><td>167645.412308         </td><td>0.0          </td><td>0.0           </td><td>163944.593856     </td><td>125968.293856     </td><td>145140.162856        </td><td>0.0          </td><td>0.0           </td></tr>\n",
       "<tr><td>mean   </td><td>3.45654345654</td><td>182323.57986     </td><td>1978.73452256</td><td>6.14485514486</td><td>10628.2627373</td><td>182224.44204        </td><td>182409.708563      </td><td>1519.8011988</td><td>1985.13886114 </td><td>184056.757876         </td><td>21.2577422577  </td><td>182203.534984   </td><td>0.426573426573</td><td>181198.192241        </td><td>70.599756691 </td><td>181541.324945          </td><td>1.04695304695 </td><td>200266.801149        </td><td>6.36263736264</td><td>180810.97024         </td><td>183119.902423       </td><td>186002.746716       </td><td>44.9240759241</td><td>575.99000999 </td><td>182637.235059      </td><td>341.787212787</td><td>182952.641282       </td><td>183565.713794        </td><td>186018.329715       </td><td>1.57442557443 </td><td>183188.256353       </td><td>181095.696027      </td><td>182822.70708        </td><td>182159.008694      </td><td>57.0879120879</td><td>1972.2987013</td><td>3.37662337662</td><td>183994.526093        </td><td>182245.412787     </td><td>181772.161181      </td><td>182908.18056        </td><td>5.92507492507 </td><td>185645.795152         </td><td>185255.622658       </td><td>182033.940055     </td><td>0.381618381618</td><td>182849.797976     </td><td>180171.385469  </td><td>5.58341658342</td><td>182178.653141      </td><td>184043.119008     </td><td>182145.055669      </td><td>91.0739260739</td><td>106.911468813</td><td>1172.08891109</td><td>185712.872162         </td><td>39.6843156843</td><td>0.62037962038 </td><td>0.0599400599401</td><td>1063.23876124</td><td>6.51248751249 </td><td>41.6493506494</td><td>182645.117764       </td><td>182171.959041         </td><td>180574.40005        </td><td>182576.245337       </td><td>2007.82817183</td><td>183387.926402     </td><td>182802.825683   </td><td>177450.87031   </td><td>445.599400599</td><td>182844.625291         </td><td>14.7632367632</td><td>2.87112887113 </td><td>181993.927863     </td><td>181180.33117      </td><td>182186.732997        </td><td>477.468531469</td><td>1.79320679321 </td></tr>\n",
       "<tr><td>maxs   </td><td>508.0        </td><td>185483.958142    </td><td>2010.0       </td><td>10.0         </td><td>164660.0     </td><td>269469.543856       </td><td>216426.0           </td><td>5642.0      </td><td>2010.0        </td><td>218122.460523         </td><td>552.0          </td><td>182383.522088   </td><td>3.0           </td><td>239825.793856        </td><td>313.0        </td><td>260380.616748          </td><td>3.0           </td><td>306119.08333         </td><td>12.0         </td><td>305958.087692        </td><td>226465.827434       </td><td>188146.750273       </td><td>523.0        </td><td>2153.0       </td><td>185708.339408      </td><td>2065.0       </td><td>187738.312704       </td><td>250025.793856        </td><td>222252.043856       </td><td>3.0           </td><td>210965.119205       </td><td>348876.587446      </td><td>186782.0            </td><td>248325.793856      </td><td>190.0        </td><td>2010.0      </td><td>738.0        </td><td>298475.793856        </td><td>312352.666531     </td><td>215932.781356      </td><td>187523.867102       </td><td>528.0         </td><td>236446.986486         </td><td>243875.54558        </td><td>669075.793856     </td><td>2.0           </td><td>187595.754197     </td><td>182171.959041  </td><td>9.0          </td><td>182216.631         </td><td>212500.143856     </td><td>200379.843856      </td><td>736.0        </td><td>1378.0       </td><td>4692.0       </td><td>243708.832            </td><td>15500.0      </td><td>3.0           </td><td>2.0            </td><td>6110.0       </td><td>14.0          </td><td>1127.0       </td><td>219155.339311       </td><td>329868.358142         </td><td>256064.377877       </td><td>185063.6388         </td><td>2010.0       </td><td>204495.203856     </td><td>443825.793856   </td><td>182171.959041  </td><td>5644.0       </td><td>243510.207398         </td><td>440.0        </td><td>8.0           </td><td>220137.097304     </td><td>263880.687606     </td><td>215016.866225        </td><td>1418.0       </td><td>4.0           </td></tr>\n",
       "<tr><td>sigma  </td><td>29.8360580446</td><td>8588.03954953    </td><td>24.0757519967</td><td>1.3535124691 </td><td>9442.37310711</td><td>6389.71988151       </td><td>35398.5404431      </td><td>520.2774293 </td><td>20.6068362031 </td><td>7125.75433939         </td><td>61.0444223701  </td><td>2541.5759667    </td><td>0.520435535732</td><td>5900.12706884        </td><td>22.7496663701</td><td>24904.8253558          </td><td>0.225373482897</td><td>24220.2651904        </td><td>2.67681950033</td><td>49556.8159925        </td><td>39735.2403771       </td><td>10671.4298493       </td><td>63.0187450666</td><td>444.457507418</td><td>9945.86100035      </td><td>432.908595059</td><td>16469.4850828       </td><td>29589.1504088        </td><td>11950.130372        </td><td>0.553809800117</td><td>21247.3315402       </td><td>52277.8992458      </td><td>15828.2943345       </td><td>20695.3776555      </td><td>42.2212773816</td><td>29.873026099</td><td>43.9879189436</td><td>30224.6733934        </td><td>49068.1836011     </td><td>10669.0402256      </td><td>15415.6295757       </td><td>49.5194848582 </td><td>33760.0248715         </td><td>34065.8091124       </td><td>15980.2063758     </td><td>0.500221729058</td><td>13615.6841283     </td><td>9252.69549005  </td><td>1.08870781906</td><td>1201.5656926       </td><td>10415.5288164     </td><td>1835.41541723      </td><td>120.050441605</td><td>179.44114971 </td><td>392.473957209</td><td>41548.007813          </td><td>516.249354715</td><td>0.641673013103</td><td>0.245771431219 </td><td>450.468353978</td><td>1.587480364   </td><td>148.918386783</td><td>13080.7597352       </td><td>51529.9324408         </td><td>32873.1783244       </td><td>9673.47275082       </td><td>1.31698350576</td><td>22616.4199503     </td><td>11861.8012299   </td><td>11076.4607161  </td><td>467.173265887</td><td>24443.6454883         </td><td>54.1698152767</td><td>0.805217749665</td><td>21926.2581712     </td><td>25459.9304787     </td><td>11064.9306556        </td><td>209.922579202</td><td>0.734978779417</td></tr>\n",
       "<tr><td>zeros  </td><td>985          </td><td>0                </td><td>0            </td><td>0            </td><td>0            </td><td>0                   </td><td>0                  </td><td>0           </td><td>0             </td><td>0                     </td><td>867            </td><td>0               </td><td>586           </td><td>0                    </td><td>0            </td><td>0                      </td><td>1             </td><td>0                    </td><td>0            </td><td>0                    </td><td>0                   </td><td>0                   </td><td>460          </td><td>78           </td><td>0                  </td><td>572          </td><td>0                   </td><td>0                    </td><td>0                   </td><td>6             </td><td>0                   </td><td>0                  </td><td>0                   </td><td>0                  </td><td>0            </td><td>0           </td><td>995          </td><td>0                    </td><td>0                 </td><td>0                  </td><td>0                   </td><td>984           </td><td>0                     </td><td>0                   </td><td>0                 </td><td>626           </td><td>0                 </td><td>0              </td><td>0            </td><td>0                  </td><td>0                 </td><td>0                  </td><td>523          </td><td>570          </td><td>0            </td><td>0                     </td><td>969          </td><td>466           </td><td>943            </td><td>25           </td><td>0             </td><td>894          </td><td>0                   </td><td>0                     </td><td>0                   </td><td>0                   </td><td>0            </td><td>0                 </td><td>0               </td><td>0              </td><td>326          </td><td>0                     </td><td>921          </td><td>4             </td><td>0                 </td><td>0                 </td><td>0                    </td><td>48           </td><td>48            </td></tr>\n",
       "<tr><td>missing</td><td>0            </td><td>0                </td><td>0            </td><td>0            </td><td>0            </td><td>0                   </td><td>0                  </td><td>0           </td><td>0             </td><td>0                     </td><td>0              </td><td>0               </td><td>0             </td><td>0                    </td><td>0            </td><td>0                      </td><td>0             </td><td>0                    </td><td>0            </td><td>0                    </td><td>0                   </td><td>0                   </td><td>0            </td><td>0            </td><td>0                  </td><td>0            </td><td>0                   </td><td>0                    </td><td>0                   </td><td>0             </td><td>0                   </td><td>0                  </td><td>0                   </td><td>0                  </td><td>0            </td><td>0           </td><td>0            </td><td>0                    </td><td>0                 </td><td>0                  </td><td>0                   </td><td>0             </td><td>0                     </td><td>0                   </td><td>0                 </td><td>0             </td><td>0                 </td><td>0              </td><td>0            </td><td>0                  </td><td>0                 </td><td>0                  </td><td>0            </td><td>0            </td><td>0            </td><td>0                     </td><td>0            </td><td>0             </td><td>0              </td><td>0            </td><td>0             </td><td>0            </td><td>0                   </td><td>0                     </td><td>0                   </td><td>0                   </td><td>0            </td><td>0                 </td><td>0               </td><td>0              </td><td>0            </td><td>0                     </td><td>0            </td><td>0             </td><td>0                 </td><td>0                 </td><td>0                    </td><td>0            </td><td>0             </td></tr>\n",
       "<tr><td>0      </td><td>0.0          </td><td>183201.273652    </td><td>2003.0       </td><td>7.0          </td><td>8450.0       </td><td>182525.733333       </td><td>216426.0           </td><td>1710.0      </td><td>2003.0        </td><td>185630.718067         </td><td>0.0            </td><td>182383.522088   </td><td>1.0           </td><td>182171.959041        </td><td>65.0         </td><td>177020.880049          </td><td>1.0           </td><td>182171.959041        </td><td>2.0          </td><td>212221.985149        </td><td>226465.827434       </td><td>188146.750273       </td><td>61.0         </td><td>150.0        </td><td>185708.339408      </td><td>854.0        </td><td>187738.312704       </td><td>216859.72905         </td><td>188334.071744       </td><td>2.0           </td><td>210965.119205       </td><td>229333.445428      </td><td>186782.0            </td><td>171522.797419      </td><td>60.0         </td><td>2003.0      </td><td>0.0          </td><td>216626.909348        </td><td>200924.053864     </td><td>176473.289916      </td><td>187523.867102       </td><td>0.0           </td><td>236446.986486         </td><td>203664.603589       </td><td>181235.935976     </td><td>1.0           </td><td>187595.754197     </td><td>182171.959041  </td><td>5.0          </td><td>182216.631         </td><td>184737.951701     </td><td>181982.575949      </td><td>0.0          </td><td>196.0        </td><td>856.0        </td><td>200494.42807          </td><td>0.0          </td><td>0.0           </td><td>0.0            </td><td>856.0        </td><td>8.0           </td><td>0.0          </td><td>185776.46347        </td><td>197940.302189         </td><td>203515.308917       </td><td>185063.6388         </td><td>2008.0       </td><td>192391.802267     </td><td>182171.959041   </td><td>182171.959041  </td><td>706.0        </td><td>167645.412308         </td><td>0.0          </td><td>3.0           </td><td>165131.57074      </td><td>174574.41217      </td><td>182282.487668        </td><td>548.0        </td><td>2.0           </td></tr>\n",
       "<tr><td>1      </td><td>0.0          </td><td>183201.273652    </td><td>1976.0       </td><td>6.0          </td><td>9600.0       </td><td>182525.733333       </td><td>216426.0           </td><td>1262.0      </td><td>1976.0        </td><td>185630.718067         </td><td>0.0            </td><td>182383.522088   </td><td>0.0           </td><td>182171.959041        </td><td>80.0         </td><td>177020.880049          </td><td>1.0           </td><td>204076.035714        </td><td>5.0          </td><td>139811.59481         </td><td>150397.280742       </td><td>188146.750273       </td><td>0.0          </td><td>284.0        </td><td>185708.339408      </td><td>0.0          </td><td>187738.312704       </td><td>155330.248618        </td><td>188334.071744       </td><td>2.0           </td><td>178321.971831       </td><td>144619.275527      </td><td>186782.0            </td><td>171522.797419      </td><td>20.0         </td><td>1976.0      </td><td>0.0          </td><td>155721.172132        </td><td>200924.053864     </td><td>178818.258142      </td><td>187523.867102       </td><td>0.0           </td><td>161782.77449          </td><td>203664.603589       </td><td>181235.935976     </td><td>0.0           </td><td>187595.754197     </td><td>182171.959041  </td><td>8.0          </td><td>182216.631         </td><td>184737.951701     </td><td>181982.575949      </td><td>298.0        </td><td>0.0          </td><td>1262.0       </td><td>200494.42807          </td><td>0.0          </td><td>1.0           </td><td>1.0            </td><td>1262.0       </td><td>6.0           </td><td>0.0          </td><td>147024.160523       </td><td>218575.793856         </td><td>155578.618881       </td><td>185063.6388         </td><td>2007.0       </td><td>192391.802267     </td><td>182171.959041   </td><td>182171.959041  </td><td>978.0        </td><td>243510.207398         </td><td>0.0          </td><td>3.0           </td><td>165131.57074      </td><td>174574.41217      </td><td>182282.487668        </td><td>460.0        </td><td>2.0           </td></tr>\n",
       "<tr><td>2      </td><td>0.0          </td><td>183201.273652    </td><td>2001.0       </td><td>7.0          </td><td>11250.0      </td><td>182525.733333       </td><td>216426.0           </td><td>1786.0      </td><td>2002.0        </td><td>185630.718067         </td><td>0.0            </td><td>182383.522088   </td><td>1.0           </td><td>182171.959041        </td><td>68.0         </td><td>177020.880049          </td><td>1.0           </td><td>204076.035714        </td><td>9.0          </td><td>212221.985149        </td><td>226465.827434       </td><td>188146.750273       </td><td>42.0         </td><td>434.0        </td><td>185708.339408      </td><td>866.0        </td><td>187738.312704       </td><td>216859.72905         </td><td>188334.071744       </td><td>2.0           </td><td>210965.119205       </td><td>229333.445428      </td><td>186782.0            </td><td>171522.797419      </td><td>60.0         </td><td>2001.0      </td><td>0.0          </td><td>216626.909348        </td><td>200924.053864     </td><td>176473.289916      </td><td>187523.867102       </td><td>0.0           </td><td>236446.986486         </td><td>203664.603589       </td><td>181235.935976     </td><td>1.0           </td><td>187595.754197     </td><td>182171.959041  </td><td>5.0          </td><td>182216.631         </td><td>184737.951701     </td><td>181982.575949      </td><td>0.0          </td><td>162.0        </td><td>920.0        </td><td>200494.42807          </td><td>0.0          </td><td>1.0           </td><td>0.0            </td><td>920.0        </td><td>6.0           </td><td>0.0          </td><td>185776.46347        </td><td>197940.302189         </td><td>203515.308917       </td><td>185063.6388         </td><td>2008.0       </td><td>192391.802267     </td><td>182171.959041   </td><td>182171.959041  </td><td>486.0        </td><td>187129.270138         </td><td>0.0          </td><td>3.0           </td><td>209450.394203     </td><td>174574.41217      </td><td>182282.487668        </td><td>608.0        </td><td>2.0           </td></tr>\n",
       "<tr><td>3      </td><td>0.0          </td><td>183201.273652    </td><td>2000.0       </td><td>8.0          </td><td>14260.0      </td><td>182525.733333       </td><td>216426.0           </td><td>2198.0      </td><td>2000.0        </td><td>185630.718067         </td><td>0.0            </td><td>182383.522088   </td><td>1.0           </td><td>182171.959041        </td><td>84.0         </td><td>177020.880049          </td><td>1.0           </td><td>204076.035714        </td><td>12.0         </td><td>212221.985149        </td><td>226465.827434       </td><td>188146.750273       </td><td>84.0         </td><td>490.0        </td><td>185708.339408      </td><td>1053.0       </td><td>187738.312704       </td><td>216859.72905         </td><td>188334.071744       </td><td>2.0           </td><td>210965.119205       </td><td>229333.445428      </td><td>186782.0            </td><td>171522.797419      </td><td>60.0         </td><td>2000.0      </td><td>0.0          </td><td>216626.909348        </td><td>200924.053864     </td><td>178818.258142      </td><td>187523.867102       </td><td>0.0           </td><td>236446.986486         </td><td>203664.603589       </td><td>181235.935976     </td><td>1.0           </td><td>187595.754197     </td><td>182171.959041  </td><td>5.0          </td><td>182216.631         </td><td>184737.951701     </td><td>181982.575949      </td><td>192.0        </td><td>350.0        </td><td>1145.0       </td><td>200494.42807          </td><td>0.0          </td><td>1.0           </td><td>0.0            </td><td>1145.0       </td><td>9.0           </td><td>0.0          </td><td>185776.46347        </td><td>329868.358142         </td><td>203515.308917       </td><td>185063.6388         </td><td>2008.0       </td><td>192391.802267     </td><td>182171.959041   </td><td>182171.959041  </td><td>655.0        </td><td>207605.417219         </td><td>0.0          </td><td>4.0           </td><td>209450.394203     </td><td>174574.41217      </td><td>182282.487668        </td><td>836.0        </td><td>3.0           </td></tr>\n",
       "<tr><td>4      </td><td>320.0        </td><td>183201.273652    </td><td>1993.0       </td><td>5.0          </td><td>14115.0      </td><td>182525.733333       </td><td>216426.0           </td><td>1362.0      </td><td>1995.0        </td><td>185630.718067         </td><td>0.0            </td><td>182383.522088   </td><td>1.0           </td><td>151058.182566        </td><td>85.0         </td><td>177020.880049          </td><td>1.0           </td><td>182171.959041        </td><td>10.0         </td><td>139811.59481         </td><td>185142.460523       </td><td>188146.750273       </td><td>30.0         </td><td>64.0         </td><td>185708.339408      </td><td>566.0        </td><td>187738.312704       </td><td>216859.72905         </td><td>188334.071744       </td><td>1.0           </td><td>149995.43881        </td><td>144619.275527      </td><td>186782.0            </td><td>171522.797419      </td><td>50.0         </td><td>1993.0      </td><td>0.0          </td><td>216626.909348        </td><td>200924.053864     </td><td>176473.289916      </td><td>187523.867102       </td><td>0.0           </td><td>236446.986486         </td><td>203664.603589       </td><td>181235.935976     </td><td>1.0           </td><td>187595.754197     </td><td>182171.959041  </td><td>5.0          </td><td>182216.631         </td><td>184737.951701     </td><td>181982.575949      </td><td>40.0         </td><td>0.0          </td><td>796.0        </td><td>141354.57177          </td><td>700.0        </td><td>0.0           </td><td>0.0            </td><td>796.0        </td><td>5.0           </td><td>0.0          </td><td>185776.46347        </td><td>157653.373343         </td><td>155578.618881       </td><td>185063.6388         </td><td>2009.0       </td><td>192391.802267     </td><td>182171.959041   </td><td>154576.69791   </td><td>732.0        </td><td>167645.412308         </td><td>0.0          </td><td>1.0           </td><td>209450.394203     </td><td>174574.41217      </td><td>182282.487668        </td><td>480.0        </td><td>2.0           </td></tr>\n",
       "<tr><td>5      </td><td>0.0          </td><td>183201.273652    </td><td>2004.0       </td><td>8.0          </td><td>10084.0      </td><td>182525.733333       </td><td>216426.0           </td><td>1694.0      </td><td>2005.0        </td><td>185630.718067         </td><td>0.0            </td><td>182383.522088   </td><td>1.0           </td><td>182171.959041        </td><td>75.0         </td><td>177020.880049          </td><td>1.0           </td><td>225928.180769        </td><td>8.0          </td><td>212221.985149        </td><td>226465.827434       </td><td>188146.750273       </td><td>57.0         </td><td>317.0        </td><td>185708.339408      </td><td>0.0          </td><td>187738.312704       </td><td>216859.72905         </td><td>188334.071744       </td><td>2.0           </td><td>178321.971831       </td><td>229333.445428      </td><td>186782.0            </td><td>171522.797419      </td><td>20.0         </td><td>2004.0      </td><td>0.0          </td><td>216626.909348        </td><td>312352.666531     </td><td>176473.289916      </td><td>187523.867102       </td><td>0.0           </td><td>236446.986486         </td><td>203664.603589       </td><td>181235.935976     </td><td>0.0           </td><td>187595.754197     </td><td>182171.959041  </td><td>5.0          </td><td>182216.631         </td><td>184737.951701     </td><td>181982.575949      </td><td>255.0        </td><td>186.0        </td><td>1694.0       </td><td>200494.42807          </td><td>0.0          </td><td>1.0           </td><td>0.0            </td><td>1686.0       </td><td>7.0           </td><td>0.0          </td><td>185776.46347        </td><td>214617.516737         </td><td>256064.377877       </td><td>185063.6388         </td><td>2007.0       </td><td>192391.802267     </td><td>182171.959041   </td><td>182171.959041  </td><td>1369.0       </td><td>207605.417219         </td><td>0.0          </td><td>3.0           </td><td>165131.57074      </td><td>174574.41217      </td><td>182282.487668        </td><td>636.0        </td><td>2.0           </td></tr>\n",
       "<tr><td>6      </td><td>0.0          </td><td>183201.273652    </td><td>1931.0       </td><td>7.0          </td><td>6120.0       </td><td>182525.733333       </td><td>157465.018293      </td><td>1774.0      </td><td>1950.0        </td><td>185630.718067         </td><td>205.0          </td><td>182383.522088   </td><td>0.0           </td><td>182171.959041        </td><td>51.0         </td><td>153108.761164          </td><td>2.0           </td><td>204076.035714        </td><td>4.0          </td><td>139811.59481         </td><td>136922.753856       </td><td>188146.750273       </td><td>0.0          </td><td>952.0        </td><td>185708.339408      </td><td>752.0        </td><td>129502.643856       </td><td>174764.543856        </td><td>131334.202189       </td><td>2.0           </td><td>149995.43881        </td><td>144619.275527      </td><td>186782.0            </td><td>171522.797419      </td><td>50.0         </td><td>1931.0      </td><td>0.0          </td><td>153754.054726        </td><td>141930.004556     </td><td>176473.289916      </td><td>187523.867102       </td><td>0.0           </td><td>172096.887043         </td><td>133017.248062       </td><td>181235.935976     </td><td>0.0           </td><td>187595.754197     </td><td>182171.959041  </td><td>5.0          </td><td>182216.631         </td><td>184737.951701     </td><td>181982.575949      </td><td>90.0         </td><td>0.0          </td><td>1022.0       </td><td>141354.57177          </td><td>0.0          </td><td>2.0           </td><td>0.0            </td><td>952.0        </td><td>8.0           </td><td>0.0          </td><td>134468.293856       </td><td>133772.617428         </td><td>155578.618881       </td><td>153787.093856       </td><td>2008.0       </td><td>135492.298434     </td><td>182171.959041   </td><td>182171.959041  </td><td>0.0          </td><td>167645.412308         </td><td>0.0          </td><td>2.0           </td><td>165131.57074      </td><td>174574.41217      </td><td>182282.487668        </td><td>468.0        </td><td>2.0           </td></tr>\n",
       "<tr><td>7      </td><td>0.0          </td><td>183201.273652    </td><td>1965.0       </td><td>5.0          </td><td>11200.0      </td><td>182525.733333       </td><td>216426.0           </td><td>1040.0      </td><td>1965.0        </td><td>185630.718067         </td><td>0.0            </td><td>182383.522088   </td><td>1.0           </td><td>182171.959041        </td><td>70.0         </td><td>177020.880049          </td><td>1.0           </td><td>182171.959041        </td><td>2.0          </td><td>139811.59481         </td><td>150397.280742       </td><td>188146.750273       </td><td>0.0          </td><td>134.0        </td><td>185708.339408      </td><td>0.0          </td><td>187738.312704       </td><td>162189.705128        </td><td>188334.071744       </td><td>1.0           </td><td>178321.971831       </td><td>144619.275527      </td><td>186782.0            </td><td>222601.059406      </td><td>20.0         </td><td>1965.0      </td><td>0.0          </td><td>169688.486814        </td><td>141930.004556     </td><td>176473.289916      </td><td>187523.867102       </td><td>0.0           </td><td>150410.446488         </td><td>133017.248062       </td><td>181235.935976     </td><td>0.0           </td><td>187595.754197     </td><td>182171.959041  </td><td>5.0          </td><td>182216.631         </td><td>184737.951701     </td><td>181982.575949      </td><td>0.0          </td><td>0.0          </td><td>1040.0       </td><td>141354.57177          </td><td>0.0          </td><td>0.0           </td><td>0.0            </td><td>1040.0       </td><td>5.0           </td><td>0.0          </td><td>185776.46347        </td><td>143540.989227         </td><td>155578.618881       </td><td>185063.6388         </td><td>2008.0       </td><td>192391.802267     </td><td>182171.959041   </td><td>182171.959041  </td><td>906.0        </td><td>167645.412308         </td><td>0.0          </td><td>3.0           </td><td>165131.57074      </td><td>174574.41217      </td><td>182282.487668        </td><td>384.0        </td><td>1.0           </td></tr>\n",
       "<tr><td>8      </td><td>0.0          </td><td>183201.273652    </td><td>2005.0       </td><td>9.0          </td><td>11924.0      </td><td>182525.733333       </td><td>216426.0           </td><td>2324.0      </td><td>2006.0        </td><td>185630.718067         </td><td>0.0            </td><td>182383.522088   </td><td>1.0           </td><td>182171.959041        </td><td>85.0         </td><td>260380.616748          </td><td>1.0           </td><td>225928.180769        </td><td>7.0          </td><td>305958.087692        </td><td>226465.827434       </td><td>188146.750273       </td><td>21.0         </td><td>177.0        </td><td>185708.339408      </td><td>1142.0       </td><td>187738.312704       </td><td>155487.093856        </td><td>188334.071744       </td><td>3.0           </td><td>210965.119205       </td><td>348876.587446      </td><td>186782.0            </td><td>222601.059406      </td><td>60.0         </td><td>2005.0      </td><td>0.0          </td><td>153754.054726        </td><td>312352.666531     </td><td>176473.289916      </td><td>187523.867102       </td><td>0.0           </td><td>236446.986486         </td><td>243875.54558        </td><td>181235.935976     </td><td>0.0           </td><td>187595.754197     </td><td>182171.959041  </td><td>5.0          </td><td>182216.631         </td><td>184737.951701     </td><td>181982.575949      </td><td>147.0        </td><td>286.0        </td><td>1182.0       </td><td>243708.832            </td><td>0.0          </td><td>2.0           </td><td>0.0            </td><td>1175.0       </td><td>11.0          </td><td>0.0          </td><td>185776.46347        </td><td>301677.890972         </td><td>256064.377877       </td><td>185063.6388         </td><td>2006.0       </td><td>192391.802267     </td><td>182171.959041   </td><td>182171.959041  </td><td>998.0        </td><td>167645.412308         </td><td>0.0          </td><td>4.0           </td><td>209450.394203     </td><td>263880.687606     </td><td>182282.487668        </td><td>736.0        </td><td>3.0           </td></tr>\n",
       "<tr><td>9      </td><td>0.0          </td><td>183201.273652    </td><td>1962.0       </td><td>5.0          </td><td>12968.0      </td><td>182525.733333       </td><td>141464.282313      </td><td>912.0       </td><td>1962.0        </td><td>185630.718067         </td><td>0.0            </td><td>182383.522088   </td><td>1.0           </td><td>182171.959041        </td><td>70.599756691 </td><td>177020.880049          </td><td>1.0           </td><td>182171.959041        </td><td>9.0          </td><td>139811.59481         </td><td>150397.280742       </td><td>188146.750273       </td><td>0.0          </td><td>175.0        </td><td>185708.339408      </td><td>0.0          </td><td>187738.312704       </td><td>162189.705128        </td><td>188334.071744       </td><td>1.0           </td><td>178321.971831       </td><td>144619.275527      </td><td>186782.0            </td><td>222601.059406      </td><td>20.0         </td><td>1962.0      </td><td>0.0          </td><td>172512.371041        </td><td>141930.004556     </td><td>176473.289916      </td><td>187523.867102       </td><td>0.0           </td><td>161782.77449          </td><td>133017.248062       </td><td>181235.935976     </td><td>0.0           </td><td>187595.754197     </td><td>182171.959041  </td><td>6.0          </td><td>182216.631         </td><td>184737.951701     </td><td>181982.575949      </td><td>140.0        </td><td>0.0          </td><td>912.0        </td><td>141354.57177          </td><td>0.0          </td><td>0.0           </td><td>0.0            </td><td>912.0        </td><td>4.0           </td><td>0.0          </td><td>185776.46347        </td><td>143540.989227         </td><td>155578.618881       </td><td>185063.6388         </td><td>2008.0       </td><td>192391.802267     </td><td>182171.959041   </td><td>182171.959041  </td><td>737.0        </td><td>167645.412308         </td><td>176.0        </td><td>2.0           </td><td>220137.097304     </td><td>174574.41217      </td><td>182282.487668        </td><td>352.0        </td><td>1.0           </td></tr>\n",
       "</tbody>\n",
       "</table>"
      ]
     },
     "metadata": {},
     "output_type": "display_data"
    },
    {
     "name": "stdout",
     "output_type": "stream",
     "text": [
      "--------------------------------------------------------------------------------\n",
      "Imputed and encoded numeric validation data:\n",
      "Rows:459\n",
      "Cols:79\n",
      "\n",
      "\n"
     ]
    },
    {
     "data": {
      "text/html": [
       "<table>\n",
       "<thead>\n",
       "<tr><th>       </th><th>3SsnPorch    </th><th>Heating_Tencode  </th><th>GarageYrBlt  </th><th>OverallQual  </th><th>LotArea      </th><th>Condition2_Tencode  </th><th>HeatingQC_Tencode  </th><th>GrLivArea    </th><th>YearRemodAdd  </th><th>BsmtFinType2_Tencode  </th><th>EnclosedPorch  </th><th>Street_Tencode  </th><th>BsmtFullBath  </th><th>MiscFeature_Tencode  </th><th>LotFrontage  </th><th>SaleCondition_Tencode  </th><th>KitchenAbvGr  </th><th>FireplaceQu_Tencode  </th><th>MoSold       </th><th>KitchenQual_Tencode  </th><th>Foundation_Tencode  </th><th>GarageCond_Tencode  </th><th>OpenPorchSF  </th><th>BsmtUnfSF    </th><th>ExterCond_Tencode  </th><th>2ndFlrSF     </th><th>Electrical_Tencode  </th><th>Exterior1st_Tencode  </th><th>GarageQual_Tencode  </th><th>FullBath      </th><th>HouseStyle_Tencode  </th><th>ExterQual_Tencode  </th><th>CentralAir_Tencode  </th><th>RoofStyle_Tencode  </th><th>MSSubClass   </th><th>YearBuilt    </th><th>PoolArea     </th><th>Exterior2nd_Tencode  </th><th>BsmtQual_Tencode  </th><th>LotConfig_Tencode  </th><th>PavedDrive_Tencode  </th><th>LowQualFinSF  </th><th>BsmtFinType1_Tencode  </th><th>GarageType_Tencode  </th><th>RoofMatl_Tencode  </th><th>HalfBath      </th><th>BldgType_Tencode  </th><th>Alley_Tencode  </th><th>OverallCond  </th><th>Utilities_Tencode  </th><th>BsmtCond_Tencode  </th><th>LandSlope_Tencode  </th><th>WoodDeckSF   </th><th>MasVnrArea   </th><th>1stFlrSF    </th><th>GarageFinish_Tencode  </th><th>MiscVal      </th><th>Fireplaces    </th><th>BsmtHalfBath   </th><th>TotalBsmtSF  </th><th>TotRmsAbvGrd  </th><th>BsmtFinSF2   </th><th>Condition1_Tencode  </th><th>Neighborhood_Tencode  </th><th>MasVnrType_Tencode  </th><th>Functional_Tencode  </th><th>YrSold       </th><th>MSZoning_Tencode  </th><th>PoolQC_Tencode  </th><th>Fence_Tencode  </th><th>BsmtFinSF1   </th><th>BsmtExposure_Tencode  </th><th>ScreenPorch  </th><th>BedroomAbvGr  </th><th>LotShape_Tencode  </th><th>SaleType_Tencode  </th><th>LandContour_Tencode  </th><th>GarageArea   </th><th>GarageCars    </th></tr>\n",
       "</thead>\n",
       "<tbody>\n",
       "<tr><td>type   </td><td>int          </td><td>real             </td><td>real         </td><td>int          </td><td>int          </td><td>real                </td><td>real               </td><td>int          </td><td>int           </td><td>real                  </td><td>int            </td><td>real            </td><td>int           </td><td>real                 </td><td>real         </td><td>real                   </td><td>int           </td><td>real                 </td><td>int          </td><td>real                 </td><td>real                </td><td>real                </td><td>int          </td><td>int          </td><td>real               </td><td>int          </td><td>real                </td><td>real                 </td><td>real                </td><td>int           </td><td>real                </td><td>real               </td><td>real                </td><td>real               </td><td>int          </td><td>int          </td><td>int          </td><td>real                 </td><td>real              </td><td>real               </td><td>real                </td><td>int           </td><td>real                  </td><td>real                </td><td>real              </td><td>int           </td><td>real              </td><td>real           </td><td>int          </td><td>real               </td><td>real              </td><td>real               </td><td>int          </td><td>real         </td><td>int         </td><td>real                  </td><td>int          </td><td>int           </td><td>int            </td><td>int          </td><td>int           </td><td>int          </td><td>real                </td><td>real                  </td><td>real                </td><td>real                </td><td>int          </td><td>real              </td><td>real            </td><td>real           </td><td>int          </td><td>real                  </td><td>int          </td><td>int           </td><td>real              </td><td>real              </td><td>real                 </td><td>int          </td><td>int           </td></tr>\n",
       "<tr><td>mins   </td><td>0.0          </td><td>77729.0245098    </td><td>1900.0       </td><td>1.0          </td><td>1491.0       </td><td>84954.0245098       </td><td>100679.02451       </td><td>334.0        </td><td>1950.0        </td><td>145091.52451          </td><td>0.0            </td><td>95579.0245098   </td><td>0.0           </td><td>73479.0245098        </td><td>21.0         </td><td>143816.52451           </td><td>1.0           </td><td>133191.52451         </td><td>1.0          </td><td>105130.89951         </td><td>110363.317367       </td><td>118776.941176       </td><td>0.0          </td><td>0.0          </td><td>91754.0245098      </td><td>0.0          </td><td>100143.52451        </td><td>96429.0245098        </td><td>134853.203676       </td><td>0.0           </td><td>122402.595938       </td><td>91042.1495098      </td><td>111601.52451        </td><td>139864.02451       </td><td>20.0         </td><td>1872.0       </td><td>0.0          </td><td>106204.02451         </td><td>134771.751783     </td><td>165751.573305      </td><td>114840.968954       </td><td>0.0           </td><td>146338.191176         </td><td>111434.07451        </td><td>175904.02451      </td><td>0.0           </td><td>128987.566176     </td><td>134607.547237  </td><td>1.0          </td><td>178193.496732      </td><td>78579.0245098     </td><td>175531.831797      </td><td>0.0          </td><td>0.0          </td><td>334.0       </td><td>143948.796791         </td><td>0.0          </td><td>0.0           </td><td>0.0            </td><td>0.0          </td><td>2.0           </td><td>0.0          </td><td>150223.031176       </td><td>112866.716817         </td><td>131576.52451        </td><td>84954.0245098       </td><td>2006.0       </td><td>118217.357843     </td><td>178193.496732   </td><td>133419.96201   </td><td>0.0          </td><td>161376.633663         </td><td>0.0          </td><td>0.0           </td><td>163981.419142     </td><td>107734.02451      </td><td>163075.562971        </td><td>0.0          </td><td>0.0           </td></tr>\n",
       "<tr><td>mean   </td><td>3.30718954248</td><td>178371.048678    </td><td>1977.99530516</td><td>6.0          </td><td>10273.8082789</td><td>178197.181041       </td><td>180663.661517      </td><td>1506.0043573 </td><td>1984.27015251 </td><td>180587.699742         </td><td>23.4727668845  </td><td>178225.259313   </td><td>0.42265795207 </td><td>177409.66352         </td><td>68.8575197889</td><td>177335.482923          </td><td>1.04575163399 </td><td>194587.773154        </td><td>6.23311546841</td><td>177298.284431        </td><td>179041.903693       </td><td>184432.012655       </td><td>50.4466230937</td><td>548.159041394</td><td>178484.556314      </td><td>358.34422658 </td><td>179083.627729       </td><td>179651.105233        </td><td>184195.203828       </td><td>1.54466230937 </td><td>177648.766748       </td><td>174940.299492      </td><td>179115.184929       </td><td>177381.145816      </td><td>56.4814814815</td><td>1969.01960784</td><td>1.41176470588</td><td>179728.608821        </td><td>179069.59943      </td><td>178163.266374      </td><td>179002.960581       </td><td>5.6688453159  </td><td>180031.309622         </td><td>185134.530794       </td><td>177969.719435     </td><td>0.385620915033</td><td>178649.149105     </td><td>176164.996926  </td><td>5.55773420479</td><td>178193.496732      </td><td>180413.23554      </td><td>177815.99262       </td><td>101.159041394</td><td>96.6834061135</td><td>1141.9912854</td><td>181122.034314         </td><td>51.7864923747</td><td>0.596949891068</td><td>0.0522875816993</td><td>1044.76034858</td><td>6.52941176471 </td><td>57.2352941176</td><td>178617.6259         </td><td>178193.496732         </td><td>176108.204609       </td><td>178425.732646       </td><td>2007.78867102</td><td>179328.326688     </td><td>178198.69396    </td><td>173941.17877   </td><td>439.366013072</td><td>178366.110436         </td><td>15.7102396514</td><td>2.85620915033 </td><td>176786.222382     </td><td>177239.637024     </td><td>177854.228062        </td><td>463.191721133</td><td>1.71023965142 </td></tr>\n",
       "<tr><td>maxs   </td><td>407.0        </td><td>179414.41573     </td><td>2009.0       </td><td>10.0         </td><td>215245.0     </td><td>302979.02451        </td><td>211491.753304      </td><td>3608.0       </td><td>2009.0        </td><td>194068.52451          </td><td>301.0          </td><td>178405.709607   </td><td>2.0           </td><td>188229.02451         </td><td>182.0        </td><td>255001.604272          </td><td>2.0           </td><td>345181.52451         </td><td>12.0         </td><td>307728.635621        </td><td>222366.882051       </td><td>187300.525672       </td><td>547.0        </td><td>2336.0       </td><td>197862.357843      </td><td>1611.0       </td><td>184788.656174       </td><td>230256.21201         </td><td>282791.52451        </td><td>3.0           </td><td>221634.02451        </td><td>311103.912971      </td><td>184861.028369       </td><td>205162.127486      </td><td>190.0        </td><td>2009.0       </td><td>648.0        </td><td>237481.802288        </td><td>287410.740224     </td><td>221371.668741      </td><td>184063.06872        </td><td>572.0         </td><td>224699.786395         </td><td>243247.172843       </td><td>296434.02451      </td><td>2.0           </td><td>183943.19951      </td><td>180974.44451   </td><td>9.0          </td><td>178193.496732      </td><td>204324.734187     </td><td>219485.842692      </td><td>857.0        </td><td>1600.0       </td><td>3228.0      </td><td>223156.84951          </td><td>8300.0       </td><td>3.0           </td><td>1.0            </td><td>3200.0       </td><td>12.0          </td><td>1474.0       </td><td>311479.02451        </td><td>288359.02451          </td><td>243111.468058       </td><td>181312.14951        </td><td>2010.0       </td><td>219311.69701      </td><td>180579.02451    </td><td>181956.919247  </td><td>1880.0       </td><td>252970.213983         </td><td>480.0        </td><td>6.0           </td><td>257372.27451      </td><td>255001.604272     </td><td>252389.99951         </td><td>1248.0       </td><td>4.0           </td></tr>\n",
       "<tr><td>sigma  </td><td>28.1845790114</td><td>7482.963821      </td><td>23.8354067944</td><td>1.44173597447</td><td>11072.9887857</td><td>7675.71672469       </td><td>31183.8766236      </td><td>537.104943661</td><td>20.7393104517 </td><td>6894.84890001         </td><td>61.3210181735  </td><td>3866.01858559   </td><td>0.516125042605</td><td>5663.06003999        </td><td>20.3336957673</td><td>25636.5564485          </td><td>0.20917396119 </td><td>26261.6530077        </td><td>2.7620544237 </td><td>48579.9322721        </td><td>37636.6365          </td><td>11807.8134695       </td><td>72.7478063155</td><td>436.035827897</td><td>12461.3904368      </td><td>444.585699914</td><td>17731.9705977       </td><td>27697.0426575        </td><td>10759.7701121       </td><td>0.544593159028</td><td>21371.8580603       </td><td>46704.6769726      </td><td>19717.2492023       </td><td>13516.2964849      </td><td>42.5161821901</td><td>30.8235159309</td><td>30.246049815 </td><td>26639.0548926        </td><td>44973.3005221     </td><td>11574.4525615      </td><td>17370.7313305       </td><td>46.660851635  </td><td>27951.8217672         </td><td>30435.6681239       </td><td>12445.8724129     </td><td>0.509184419451</td><td>11313.6862911     </td><td>9343.37774237  </td><td>1.16463541119</td><td>2.0367100838e-11   </td><td>13346.5506403     </td><td>9612.48500403      </td><td>136.042805603</td><td>183.006592419</td><td>373.01668824</td><td>32859.9587685         </td><td>449.541093216</td><td>0.65156132577 </td><td>0.222849245257 </td><td>412.081185133</td><td>1.70687854559 </td><td>185.240010652</td><td>12058.5317233       </td><td>47446.3530738         </td><td>27404.3045536       </td><td>8139.87420454       </td><td>1.35306629721</td><td>22954.5075679     </td><td>111.346901237   </td><td>10548.0865087  </td><td>431.424143397</td><td>27626.1695648         </td><td>59.1279137021</td><td>0.839148304865</td><td>21170.422649      </td><td>25705.648619      </td><td>12704.5464418        </td><td>221.954985446</td><td>0.771294315166</td></tr>\n",
       "<tr><td>zeros  </td><td>451          </td><td>0                </td><td>0            </td><td>0            </td><td>0            </td><td>0                   </td><td>0                  </td><td>0            </td><td>0             </td><td>0                     </td><td>385            </td><td>0               </td><td>270           </td><td>0                    </td><td>0            </td><td>0                      </td><td>0             </td><td>0                    </td><td>0            </td><td>0                    </td><td>0                   </td><td>0                   </td><td>196          </td><td>40           </td><td>0                  </td><td>257          </td><td>0                   </td><td>0                    </td><td>0                   </td><td>3             </td><td>0                   </td><td>0                  </td><td>0                   </td><td>0                  </td><td>0            </td><td>0            </td><td>458          </td><td>0                    </td><td>0                 </td><td>0                  </td><td>0                   </td><td>450           </td><td>0                     </td><td>0                   </td><td>0                 </td><td>287           </td><td>0                 </td><td>0              </td><td>0            </td><td>0                  </td><td>0                 </td><td>0                  </td><td>238          </td><td>291          </td><td>0           </td><td>0                     </td><td>439          </td><td>224           </td><td>435            </td><td>12           </td><td>0             </td><td>399          </td><td>0                   </td><td>0                     </td><td>0                   </td><td>0                   </td><td>0            </td><td>0                 </td><td>0               </td><td>0              </td><td>141          </td><td>0                     </td><td>423          </td><td>2             </td><td>0                 </td><td>0                 </td><td>0                    </td><td>33           </td><td>33            </td></tr>\n",
       "<tr><td>missing</td><td>0            </td><td>0                </td><td>0            </td><td>0            </td><td>0            </td><td>0                   </td><td>0                  </td><td>0            </td><td>0             </td><td>0                     </td><td>0              </td><td>0               </td><td>0             </td><td>0                    </td><td>0            </td><td>0                      </td><td>0             </td><td>0                    </td><td>0            </td><td>0                    </td><td>0                   </td><td>0                   </td><td>0            </td><td>0            </td><td>0                  </td><td>0            </td><td>0                   </td><td>0                    </td><td>0                   </td><td>0             </td><td>0                   </td><td>0                  </td><td>0                   </td><td>0                  </td><td>0            </td><td>0            </td><td>0            </td><td>0                    </td><td>0                 </td><td>0                  </td><td>0                   </td><td>0             </td><td>0                     </td><td>0                   </td><td>0                 </td><td>0             </td><td>0                 </td><td>0              </td><td>0            </td><td>0                  </td><td>0                 </td><td>0                  </td><td>0            </td><td>0            </td><td>0           </td><td>0                     </td><td>0            </td><td>0             </td><td>0              </td><td>0            </td><td>0             </td><td>0            </td><td>0                   </td><td>0                     </td><td>0                   </td><td>0                   </td><td>0            </td><td>0                 </td><td>0               </td><td>0              </td><td>0            </td><td>0                     </td><td>0            </td><td>0             </td><td>0                 </td><td>0                 </td><td>0                    </td><td>0            </td><td>0             </td></tr>\n",
       "<tr><td>0      </td><td>0.0          </td><td>179414.41573     </td><td>1998.0       </td><td>7.0          </td><td>9550.0       </td><td>178218.274725       </td><td>158961.703081      </td><td>1717.0       </td><td>1970.0        </td><td>182592.860465         </td><td>272.0          </td><td>178405.709607   </td><td>1.0           </td><td>178193.496732        </td><td>60.0         </td><td>147087.250597          </td><td>1.0           </td><td>219907.18576         </td><td>2.0          </td><td>211880.813187        </td><td>144486.107843       </td><td>187300.525672       </td><td>35.0         </td><td>540.0        </td><td>180398.056931      </td><td>756.0        </td><td>184788.656174       </td><td>154595.817988        </td><td>185601.249383       </td><td>1.0           </td><td>203633.455629       </td><td>143747.878893      </td><td>184861.028369       </td><td>171401.710383      </td><td>70.0         </td><td>1915.0       </td><td>0.0          </td><td>180267.357843        </td><td>138313.571429     </td><td>165751.573305      </td><td>184063.06872        </td><td>0.0           </td><td>169309.441176         </td><td>142532.167921       </td><td>176671.811111     </td><td>0.0           </td><td>181805.663212     </td><td>178193.496732  </td><td>5.0          </td><td>178193.496732      </td><td>204324.734187     </td><td>175531.831797      </td><td>0.0          </td><td>0.0          </td><td>961.0       </td><td>143948.796791         </td><td>0.0          </td><td>1.0           </td><td>0.0            </td><td>756.0        </td><td>7.0           </td><td>0.0          </td><td>181573.276042       </td><td>216008.845938         </td><td>157482.0            </td><td>179857.763466       </td><td>2006.0       </td><td>187920.610644     </td><td>178193.496732   </td><td>178193.496732  </td><td>216.0        </td><td>161376.633663         </td><td>0.0          </td><td>3.0           </td><td>194850.585661     </td><td>170822.762626     </td><td>175715.782816        </td><td>642.0        </td><td>3.0           </td></tr>\n",
       "<tr><td>1      </td><td>0.0          </td><td>179414.41573     </td><td>1973.0       </td><td>7.0          </td><td>10382.0      </td><td>178218.274725       </td><td>211491.753304      </td><td>2090.0       </td><td>1973.0        </td><td>156634.52451          </td><td>228.0          </td><td>178405.709607   </td><td>1.0           </td><td>163465.691176        </td><td>68.8575197889</td><td>171302.362205          </td><td>1.0           </td><td>205118.429004        </td><td>11.0         </td><td>140285.628205        </td><td>148549.729064       </td><td>187300.525672       </td><td>204.0        </td><td>216.0        </td><td>180398.056931      </td><td>983.0        </td><td>184788.656174       </td><td>167128.418449        </td><td>185601.249383       </td><td>2.0           </td><td>203633.455629       </td><td>143747.878893      </td><td>184861.028369       </td><td>171401.710383      </td><td>60.0         </td><td>1973.0       </td><td>0.0          </td><td>169568.255279        </td><td>206633.031414     </td><td>165751.573305      </td><td>184063.06872        </td><td>0.0           </td><td>169309.441176         </td><td>201051.396887       </td><td>176671.811111     </td><td>1.0           </td><td>181805.663212     </td><td>178193.496732  </td><td>6.0          </td><td>178193.496732      </td><td>181115.23         </td><td>175531.831797      </td><td>235.0        </td><td>240.0        </td><td>1107.0      </td><td>201271.567211         </td><td>350.0        </td><td>2.0           </td><td>0.0            </td><td>1107.0       </td><td>7.0           </td><td>32.0         </td><td>197366.52451        </td><td>184610.14951          </td><td>243111.468058       </td><td>179857.763466       </td><td>2009.0       </td><td>187920.610644     </td><td>178193.496732   </td><td>178193.496732  </td><td>859.0        </td><td>199413.655065         </td><td>0.0          </td><td>3.0           </td><td>194850.585661     </td><td>170822.762626     </td><td>175715.782816        </td><td>484.0        </td><td>2.0           </td></tr>\n",
       "<tr><td>2      </td><td>0.0          </td><td>179414.41573     </td><td>1939.0       </td><td>5.0          </td><td>7420.0       </td><td>127029.02451        </td><td>211491.753304      </td><td>1077.0       </td><td>1950.0        </td><td>182592.860465         </td><td>0.0            </td><td>178405.709607   </td><td>1.0           </td><td>178193.496732        </td><td>50.0         </td><td>171302.362205          </td><td>2.0           </td><td>205118.429004        </td><td>1.0          </td><td>140285.628205        </td><td>144486.107843       </td><td>187300.525672       </td><td>4.0          </td><td>140.0        </td><td>180398.056931      </td><td>0.0          </td><td>184788.656174       </td><td>151733.028619        </td><td>194951.107843       </td><td>1.0           </td><td>122402.595938       </td><td>143747.878893      </td><td>184861.028369       </td><td>171401.710383      </td><td>190.0        </td><td>1939.0       </td><td>0.0          </td><td>151828.550597        </td><td>138313.571429     </td><td>165751.573305      </td><td>184063.06872        </td><td>0.0           </td><td>224699.786395         </td><td>201051.396887       </td><td>176671.811111     </td><td>0.0           </td><td>128987.566176     </td><td>178193.496732  </td><td>6.0          </td><td>178193.496732      </td><td>181115.23         </td><td>175531.831797      </td><td>0.0          </td><td>0.0          </td><td>1077.0      </td><td>201271.567211         </td><td>0.0          </td><td>2.0           </td><td>0.0            </td><td>991.0        </td><td>5.0           </td><td>0.0          </td><td>152316.52451        </td><td>129965.77451          </td><td>157482.0            </td><td>179857.763466       </td><td>2008.0       </td><td>187920.610644     </td><td>178193.496732   </td><td>178193.496732  </td><td>851.0        </td><td>161376.633663         </td><td>0.0          </td><td>2.0           </td><td>163981.419142     </td><td>170822.762626     </td><td>175715.782816        </td><td>205.0        </td><td>1.0           </td></tr>\n",
       "<tr><td>3      </td><td>0.0          </td><td>179414.41573     </td><td>1991.0       </td><td>7.0          </td><td>6120.0       </td><td>178218.274725       </td><td>211491.753304      </td><td>854.0        </td><td>2001.0        </td><td>182592.860465         </td><td>0.0            </td><td>178405.709607   </td><td>0.0           </td><td>178193.496732        </td><td>51.0         </td><td>171302.362205          </td><td>1.0           </td><td>178193.496732        </td><td>7.0          </td><td>140285.628205        </td><td>144486.107843       </td><td>187300.525672       </td><td>112.0        </td><td>832.0        </td><td>180398.056931      </td><td>0.0          </td><td>135344.453081       </td><td>154595.817988        </td><td>185601.249383       </td><td>1.0           </td><td>122402.595938       </td><td>143747.878893      </td><td>184861.028369       </td><td>171401.710383      </td><td>45.0         </td><td>1929.0       </td><td>0.0          </td><td>163767.737196        </td><td>138313.571429     </td><td>165751.573305      </td><td>184063.06872        </td><td>0.0           </td><td>168970.165983         </td><td>142532.167921       </td><td>176671.811111     </td><td>0.0           </td><td>181805.663212     </td><td>178193.496732  </td><td>8.0          </td><td>178193.496732      </td><td>181115.23         </td><td>175531.831797      </td><td>48.0         </td><td>0.0          </td><td>854.0       </td><td>143948.796791         </td><td>0.0          </td><td>0.0           </td><td>0.0            </td><td>832.0        </td><td>5.0           </td><td>0.0          </td><td>181573.276042       </td><td>129965.77451          </td><td>157482.0            </td><td>179857.763466       </td><td>2007.0       </td><td>132608.827141     </td><td>178193.496732   </td><td>181956.919247  </td><td>0.0          </td><td>161376.633663         </td><td>0.0          </td><td>2.0           </td><td>163981.419142     </td><td>170822.762626     </td><td>175715.782816        </td><td>576.0        </td><td>2.0           </td></tr>\n",
       "<tr><td>4      </td><td>0.0          </td><td>179414.41573     </td><td>1970.0       </td><td>6.0          </td><td>11241.0      </td><td>178218.274725       </td><td>211491.753304      </td><td>1004.0       </td><td>1970.0        </td><td>182592.860465         </td><td>0.0            </td><td>178405.709607   </td><td>1.0           </td><td>163465.691176        </td><td>68.8575197889</td><td>171302.362205          </td><td>1.0           </td><td>205118.429004        </td><td>3.0          </td><td>140285.628205        </td><td>148549.729064       </td><td>187300.525672       </td><td>0.0          </td><td>426.0        </td><td>180398.056931      </td><td>0.0          </td><td>184788.656174       </td><td>154595.817988        </td><td>185601.249383       </td><td>1.0           </td><td>170914.572052       </td><td>143747.878893      </td><td>184861.028369       </td><td>171401.710383      </td><td>20.0         </td><td>1970.0       </td><td>0.0          </td><td>163767.737196        </td><td>138313.571429     </td><td>221371.668741      </td><td>184063.06872        </td><td>0.0           </td><td>169309.441176         </td><td>201051.396887       </td><td>176671.811111     </td><td>0.0           </td><td>181805.663212     </td><td>178193.496732  </td><td>7.0          </td><td>178193.496732      </td><td>181115.23         </td><td>175531.831797      </td><td>0.0          </td><td>180.0        </td><td>1004.0      </td><td>223156.84951          </td><td>700.0        </td><td>1.0           </td><td>0.0            </td><td>1004.0       </td><td>5.0           </td><td>0.0          </td><td>181573.276042       </td><td>152080.322587         </td><td>203114.250464       </td><td>179857.763466       </td><td>2010.0       </td><td>187920.610644     </td><td>178193.496732   </td><td>178193.496732  </td><td>578.0        </td><td>161376.633663         </td><td>0.0          </td><td>2.0           </td><td>194850.585661     </td><td>170822.762626     </td><td>175715.782816        </td><td>480.0        </td><td>2.0           </td></tr>\n",
       "<tr><td>5      </td><td>0.0          </td><td>179414.41573     </td><td>2004.0       </td><td>5.0          </td><td>13695.0      </td><td>178218.274725       </td><td>211491.753304      </td><td>1114.0       </td><td>2004.0        </td><td>182592.860465         </td><td>0.0            </td><td>178405.709607   </td><td>1.0           </td><td>178193.496732        </td><td>66.0         </td><td>171302.362205          </td><td>1.0           </td><td>178193.496732        </td><td>6.0          </td><td>211880.813187        </td><td>222366.882051       </td><td>187300.525672       </td><td>102.0        </td><td>468.0        </td><td>180398.056931      </td><td>0.0          </td><td>184788.656174       </td><td>206602.936306        </td><td>185601.249383       </td><td>1.0           </td><td>170914.572052       </td><td>143747.878893      </td><td>184861.028369       </td><td>171401.710383      </td><td>20.0         </td><td>2004.0       </td><td>0.0          </td><td>209302.390728        </td><td>138313.571429     </td><td>177919.813609      </td><td>184063.06872        </td><td>0.0           </td><td>224699.786395         </td><td>142532.167921       </td><td>176671.811111     </td><td>1.0           </td><td>181805.663212     </td><td>178193.496732  </td><td>5.0          </td><td>178193.496732      </td><td>181115.23         </td><td>175531.831797      </td><td>0.0          </td><td>0.0          </td><td>1114.0      </td><td>143948.796791         </td><td>0.0          </td><td>0.0           </td><td>0.0            </td><td>1114.0       </td><td>6.0           </td><td>0.0          </td><td>150829.02451        </td><td>189097.777635         </td><td>157482.0            </td><td>179857.763466       </td><td>2008.0       </td><td>187920.610644     </td><td>178193.496732   </td><td>178193.496732  </td><td>646.0        </td><td>161376.633663         </td><td>0.0          </td><td>3.0           </td><td>163981.419142     </td><td>170822.762626     </td><td>175715.782816        </td><td>576.0        </td><td>2.0           </td></tr>\n",
       "<tr><td>6      </td><td>0.0          </td><td>179414.41573     </td><td>1930.0       </td><td>7.0          </td><td>7449.0       </td><td>178218.274725       </td><td>211491.753304      </td><td>1108.0       </td><td>1950.0        </td><td>182592.860465         </td><td>205.0          </td><td>178405.709607   </td><td>0.0           </td><td>178193.496732        </td><td>57.0         </td><td>171302.362205          </td><td>1.0           </td><td>219907.18576         </td><td>6.0          </td><td>211880.813187        </td><td>222366.882051       </td><td>187300.525672       </td><td>0.0          </td><td>637.0        </td><td>180398.056931      </td><td>0.0          </td><td>100143.52451        </td><td>154595.817988        </td><td>185601.249383       </td><td>1.0           </td><td>122402.595938       </td><td>143747.878893      </td><td>184861.028369       </td><td>171401.710383      </td><td>45.0         </td><td>1930.0       </td><td>0.0          </td><td>163767.737196        </td><td>138313.571429     </td><td>177919.813609      </td><td>114840.968954       </td><td>0.0           </td><td>168970.165983         </td><td>201051.396887       </td><td>176671.811111     </td><td>0.0           </td><td>181805.663212     </td><td>134607.547237  </td><td>7.0          </td><td>178193.496732      </td><td>181115.23         </td><td>175531.831797      </td><td>0.0          </td><td>0.0          </td><td>1108.0      </td><td>143948.796791         </td><td>0.0          </td><td>1.0           </td><td>0.0            </td><td>637.0        </td><td>6.0           </td><td>0.0          </td><td>181573.276042       </td><td>112866.716817         </td><td>157482.0            </td><td>179857.763466       </td><td>2007.0       </td><td>132608.827141     </td><td>178193.496732   </td><td>181956.919247  </td><td>0.0          </td><td>161376.633663         </td><td>0.0          </td><td>3.0           </td><td>163981.419142     </td><td>170822.762626     </td><td>163075.562971        </td><td>280.0        </td><td>1.0           </td></tr>\n",
       "<tr><td>7      </td><td>0.0          </td><td>179414.41573     </td><td>1920.0       </td><td>4.0          </td><td>6324.0       </td><td>84954.0245098       </td><td>127694.14951       </td><td>520.0        </td><td>1950.0        </td><td>182592.860465         </td><td>87.0           </td><td>178405.709607   </td><td>0.0           </td><td>178193.496732        </td><td>60.0         </td><td>171302.362205          </td><td>1.0           </td><td>178193.496732        </td><td>5.0          </td><td>105130.89951         </td><td>144486.107843       </td><td>187300.525672       </td><td>0.0          </td><td>520.0        </td><td>180398.056931      </td><td>0.0          </td><td>184788.656174       </td><td>151733.028619        </td><td>134853.203676       </td><td>1.0           </td><td>170914.572052       </td><td>143747.878893      </td><td>111601.52451        </td><td>171401.710383      </td><td>30.0         </td><td>1927.0       </td><td>0.0          </td><td>151828.550597        </td><td>138313.571429     </td><td>177919.813609      </td><td>184063.06872        </td><td>0.0           </td><td>168970.165983         </td><td>142532.167921       </td><td>176671.811111     </td><td>0.0           </td><td>181805.663212     </td><td>178193.496732  </td><td>6.0          </td><td>178193.496732      </td><td>181115.23         </td><td>175531.831797      </td><td>49.0         </td><td>0.0          </td><td>520.0       </td><td>143948.796791         </td><td>0.0          </td><td>0.0           </td><td>0.0            </td><td>520.0        </td><td>4.0           </td><td>0.0          </td><td>150223.031176       </td><td>129965.77451          </td><td>157482.0            </td><td>179857.763466       </td><td>2008.0       </td><td>132608.827141     </td><td>178193.496732   </td><td>178193.496732  </td><td>0.0          </td><td>161376.633663         </td><td>0.0          </td><td>1.0           </td><td>194850.585661     </td><td>170822.762626     </td><td>175715.782816        </td><td>240.0        </td><td>1.0           </td></tr>\n",
       "<tr><td>8      </td><td>0.0          </td><td>179414.41573     </td><td>1966.0       </td><td>5.0          </td><td>8544.0       </td><td>178218.274725       </td><td>158961.703081      </td><td>1228.0       </td><td>2006.0        </td><td>182592.860465         </td><td>0.0            </td><td>178405.709607   </td><td>0.0           </td><td>178193.496732        </td><td>68.8575197889</td><td>171302.362205          </td><td>1.0           </td><td>178193.496732        </td><td>6.0          </td><td>211880.813187        </td><td>148549.729064       </td><td>187300.525672       </td><td>65.0         </td><td>1228.0       </td><td>180398.056931      </td><td>0.0          </td><td>184788.656174       </td><td>167128.418449        </td><td>185601.249383       </td><td>1.0           </td><td>170914.572052       </td><td>143747.878893      </td><td>184861.028369       </td><td>171401.710383      </td><td>20.0         </td><td>1966.0       </td><td>0.0          </td><td>169568.255279        </td><td>138313.571429     </td><td>221371.668741      </td><td>184063.06872        </td><td>0.0           </td><td>168970.165983         </td><td>201051.396887       </td><td>176671.811111     </td><td>1.0           </td><td>181805.663212     </td><td>178193.496732  </td><td>6.0          </td><td>178193.496732      </td><td>181115.23         </td><td>175531.831797      </td><td>0.0          </td><td>0.0          </td><td>1228.0      </td><td>143948.796791         </td><td>0.0          </td><td>0.0           </td><td>0.0            </td><td>1228.0       </td><td>6.0           </td><td>0.0          </td><td>181573.276042       </td><td>143162.40701          </td><td>157482.0            </td><td>179857.763466       </td><td>2008.0       </td><td>187920.610644     </td><td>178193.496732   </td><td>151206.904945  </td><td>0.0          </td><td>161376.633663         </td><td>0.0          </td><td>3.0           </td><td>194850.585661     </td><td>170822.762626     </td><td>175715.782816        </td><td>271.0        </td><td>1.0           </td></tr>\n",
       "<tr><td>9      </td><td>0.0          </td><td>179414.41573     </td><td>1995.0       </td><td>5.0          </td><td>10859.0      </td><td>178218.274725       </td><td>211491.753304      </td><td>1097.0       </td><td>1995.0        </td><td>182592.860465         </td><td>0.0            </td><td>178405.709607   </td><td>0.0           </td><td>178193.496732        </td><td>112.0        </td><td>171302.362205          </td><td>1.0           </td><td>178193.496732        </td><td>6.0          </td><td>140285.628205        </td><td>222366.882051       </td><td>187300.525672       </td><td>64.0         </td><td>1097.0       </td><td>180398.056931      </td><td>0.0          </td><td>184788.656174       </td><td>206602.936306        </td><td>185601.249383       </td><td>1.0           </td><td>170914.572052       </td><td>143747.878893      </td><td>184861.028369       </td><td>171401.710383      </td><td>20.0         </td><td>1994.0       </td><td>0.0          </td><td>209302.390728        </td><td>206633.031414     </td><td>165751.573305      </td><td>184063.06872        </td><td>0.0           </td><td>168970.165983         </td><td>201051.396887       </td><td>176671.811111     </td><td>1.0           </td><td>181805.663212     </td><td>178193.496732  </td><td>5.0          </td><td>178193.496732      </td><td>181115.23         </td><td>175531.831797      </td><td>392.0        </td><td>0.0          </td><td>1097.0      </td><td>143948.796791         </td><td>0.0          </td><td>0.0           </td><td>0.0            </td><td>1097.0       </td><td>6.0           </td><td>0.0          </td><td>181573.276042       </td><td>190019.779718         </td><td>157482.0            </td><td>179857.763466       </td><td>2009.0       </td><td>187920.610644     </td><td>178193.496732   </td><td>178193.496732  </td><td>0.0          </td><td>161376.633663         </td><td>0.0          </td><td>3.0           </td><td>163981.419142     </td><td>170822.762626     </td><td>175715.782816        </td><td>672.0        </td><td>2.0           </td></tr>\n",
       "</tbody>\n",
       "</table>"
      ]
     },
     "metadata": {},
     "output_type": "display_data"
    },
    {
     "name": "stdout",
     "output_type": "stream",
     "text": [
      "--------------------------------------------------------------------------------\n",
      "Imputed and encoded numeric test data:\n",
      "Rows:1459\n",
      "Cols:79\n",
      "\n",
      "\n"
     ]
    },
    {
     "data": {
      "text/html": [
       "<table>\n",
       "<thead>\n",
       "<tr><th>       </th><th>3SsnPorch    </th><th>Heating_Tencode  </th><th>GarageYrBlt  </th><th>OverallQual  </th><th>LotArea      </th><th>Condition2_Tencode  </th><th>HeatingQC_Tencode  </th><th>GrLivArea    </th><th>YearRemodAdd  </th><th>BsmtFinType2_Tencode  </th><th>EnclosedPorch  </th><th>Street_Tencode  </th><th>BsmtFullBath  </th><th>MiscFeature_Tencode  </th><th>LotFrontage  </th><th>SaleCondition_Tencode  </th><th>KitchenAbvGr  </th><th>FireplaceQu_Tencode  </th><th>MoSold       </th><th>KitchenQual_Tencode  </th><th>Foundation_Tencode  </th><th>GarageCond_Tencode  </th><th>OpenPorchSF  </th><th>BsmtUnfSF    </th><th>ExterCond_Tencode  </th><th>2ndFlrSF     </th><th>Electrical_Tencode  </th><th>Exterior1st_Tencode  </th><th>GarageQual_Tencode  </th><th>FullBath      </th><th>HouseStyle_Tencode  </th><th>ExterQual_Tencode  </th><th>CentralAir_Tencode  </th><th>RoofStyle_Tencode  </th><th>MSSubClass   </th><th>YearBuilt    </th><th>PoolArea     </th><th>Exterior2nd_Tencode  </th><th>BsmtQual_Tencode  </th><th>LotConfig_Tencode  </th><th>PavedDrive_Tencode  </th><th>LowQualFinSF  </th><th>BsmtFinType1_Tencode  </th><th>GarageType_Tencode  </th><th>RoofMatl_Tencode  </th><th>HalfBath      </th><th>BldgType_Tencode  </th><th>Alley_Tencode  </th><th>OverallCond  </th><th>Utilities_Tencode  </th><th>BsmtCond_Tencode  </th><th>LandSlope_Tencode  </th><th>WoodDeckSF   </th><th>MasVnrArea   </th><th>1stFlrSF     </th><th>GarageFinish_Tencode  </th><th>MiscVal      </th><th>Fireplaces    </th><th>BsmtHalfBath   </th><th>TotalBsmtSF  </th><th>TotRmsAbvGrd  </th><th>BsmtFinSF2   </th><th>Condition1_Tencode  </th><th>Neighborhood_Tencode  </th><th>MasVnrType_Tencode  </th><th>Functional_Tencode  </th><th>YrSold       </th><th>MSZoning_Tencode  </th><th>PoolQC_Tencode  </th><th>Fence_Tencode  </th><th>BsmtFinSF1   </th><th>BsmtExposure_Tencode  </th><th>ScreenPorch  </th><th>BedroomAbvGr  </th><th>LotShape_Tencode  </th><th>SaleType_Tencode  </th><th>LandContour_Tencode  </th><th>GarageArea   </th><th>GarageCars    </th></tr>\n",
       "</thead>\n",
       "<tbody>\n",
       "<tr><td>type   </td><td>int          </td><td>real             </td><td>real         </td><td>int          </td><td>int          </td><td>real                </td><td>real               </td><td>int          </td><td>int           </td><td>real                  </td><td>int            </td><td>real            </td><td>real          </td><td>real                 </td><td>real         </td><td>real                   </td><td>int           </td><td>real                 </td><td>int          </td><td>real                 </td><td>real                </td><td>real                </td><td>int          </td><td>real         </td><td>real               </td><td>int          </td><td>real                </td><td>real                 </td><td>real                </td><td>int           </td><td>real                </td><td>real               </td><td>real                </td><td>real               </td><td>int          </td><td>int          </td><td>int          </td><td>real                 </td><td>real              </td><td>real               </td><td>real                </td><td>int           </td><td>real                  </td><td>real                </td><td>real              </td><td>int           </td><td>real              </td><td>real           </td><td>int          </td><td>real               </td><td>real              </td><td>real               </td><td>int          </td><td>real         </td><td>int          </td><td>real                  </td><td>int          </td><td>int           </td><td>real           </td><td>real         </td><td>int           </td><td>real         </td><td>real                </td><td>real                  </td><td>real                </td><td>real                </td><td>int          </td><td>real              </td><td>real            </td><td>real           </td><td>real         </td><td>real                  </td><td>int          </td><td>int           </td><td>real              </td><td>real              </td><td>real                 </td><td>real         </td><td>real          </td></tr>\n",
       "<tr><td>mins   </td><td>0.0          </td><td>77729.0245098    </td><td>1895.0       </td><td>1.0          </td><td>1470.0       </td><td>127029.02451        </td><td>100679.02451       </td><td>407.0        </td><td>1950.0        </td><td>145091.52451          </td><td>0.0            </td><td>95579.0245098   </td><td>0.0           </td><td>73479.0245098        </td><td>21.0         </td><td>143816.52451           </td><td>0.0           </td><td>133191.52451         </td><td>1.0          </td><td>105130.89951         </td><td>110363.317367       </td><td>118776.941176       </td><td>0.0          </td><td>0.0          </td><td>91754.0245098      </td><td>0.0          </td><td>100143.52451        </td><td>96429.0245098        </td><td>134853.203676       </td><td>0.0           </td><td>122402.595938       </td><td>91042.1495098      </td><td>111601.52451        </td><td>139864.02451       </td><td>20.0         </td><td>1879.0       </td><td>0.0          </td><td>106204.02451         </td><td>134771.751783     </td><td>165751.573305      </td><td>114840.968954       </td><td>0.0           </td><td>146338.191176         </td><td>111434.07451        </td><td>175904.02451      </td><td>0.0           </td><td>128987.566176     </td><td>134607.547237  </td><td>1.0          </td><td>178193.496732      </td><td>78579.0245098     </td><td>175531.831797      </td><td>0.0          </td><td>0.0          </td><td>407.0        </td><td>143948.796791         </td><td>0.0          </td><td>0.0           </td><td>0.0            </td><td>0.0          </td><td>3.0           </td><td>0.0          </td><td>150223.031176       </td><td>112866.716817         </td><td>131576.52451        </td><td>84954.0245098       </td><td>2006.0       </td><td>118217.357843     </td><td>178193.496732   </td><td>133419.96201   </td><td>0.0          </td><td>161376.633663         </td><td>0.0          </td><td>0.0           </td><td>163981.419142     </td><td>107734.02451      </td><td>163075.562971        </td><td>0.0          </td><td>0.0           </td></tr>\n",
       "<tr><td>mean   </td><td>1.79437971213</td><td>179140.348339    </td><td>1977.72121651</td><td>6.07882111035</td><td>9819.16106923</td><td>178369.399809       </td><td>182227.812739      </td><td>1486.04592186</td><td>1983.66278273 </td><td>180689.578158         </td><td>24.2433173406  </td><td>178065.09267    </td><td>0.43445435827 </td><td>177606.244219        </td><td>68.5803571429</td><td>176492.096378          </td><td>1.04249485949 </td><td>194452.820353        </td><td>6.10418094585</td><td>179340.396246        </td><td>181006.290186       </td><td>184620.937551       </td><td>48.3139136395</td><td>554.294924554</td><td>178138.292477      </td><td>325.967786155</td><td>180126.119315       </td><td>179810.686881        </td><td>182567.663334       </td><td>1.57093899931 </td><td>176296.032753       </td><td>177673.688376      </td><td>179789.60281        </td><td>177370.703717      </td><td>57.3783413297</td><td>1971.3577793 </td><td>1.74434544208</td><td>180995.235318        </td><td>181062.106897     </td><td>178278.008974      </td><td>177090.154406       </td><td>3.54352296093 </td><td>182091.991473         </td><td>186339.708938       </td><td>176751.753206     </td><td>0.377655928718</td><td>178370.369655     </td><td>176172.851498  </td><td>5.55380397533</td><td>178193.496732      </td><td>179283.617252     </td><td>177395.219208      </td><td>93.1747772447</td><td>100.709141274</td><td>1156.53461275</td><td>180987.178996         </td><td>58.1679232351</td><td>0.581220013708</td><td>0.0652024708305</td><td>1046.11796982</td><td>6.38519533927 </td><td>52.6193415638</td><td>179939.773727       </td><td>179660.931854         </td><td>178207.079869       </td><td>178383.037209       </td><td>2007.76970528</td><td>179232.09043      </td><td>178193.496732   </td><td>174246.978357  </td><td>439.203703704</td><td>179354.861018         </td><td>17.0644276902</td><td>2.85400959561 </td><td>176844.083637     </td><td>175933.107153     </td><td>179174.226338        </td><td>472.768861454</td><td>1.76611796982 </td></tr>\n",
       "<tr><td>maxs   </td><td>360.0        </td><td>179414.41573     </td><td>2207.0       </td><td>10.0         </td><td>56600.0      </td><td>302979.02451        </td><td>211491.753304      </td><td>5095.0       </td><td>2010.0        </td><td>194068.52451          </td><td>1012.0         </td><td>178405.709607   </td><td>3.0           </td><td>188229.02451         </td><td>200.0        </td><td>255001.604272          </td><td>2.0           </td><td>345181.52451         </td><td>12.0         </td><td>307728.635621        </td><td>222366.882051       </td><td>187300.525672       </td><td>742.0        </td><td>2140.0       </td><td>197862.357843      </td><td>1862.0       </td><td>184788.656174       </td><td>230256.21201         </td><td>194951.107843       </td><td>4.0           </td><td>203633.455629       </td><td>311103.912971      </td><td>184861.028369       </td><td>205162.127486      </td><td>190.0        </td><td>2010.0       </td><td>800.0        </td><td>237481.802288        </td><td>287410.740224     </td><td>221371.668741      </td><td>184063.06872        </td><td>1064.0        </td><td>224699.786395         </td><td>243247.172843       </td><td>296434.02451      </td><td>2.0           </td><td>183943.19951      </td><td>180974.44451   </td><td>9.0          </td><td>178193.496732      </td><td>204324.734187     </td><td>219485.842692      </td><td>1424.0       </td><td>1290.0       </td><td>5095.0       </td><td>223156.84951          </td><td>17000.0      </td><td>4.0           </td><td>2.0            </td><td>5095.0       </td><td>15.0          </td><td>1526.0       </td><td>311479.02451        </td><td>288359.02451          </td><td>243111.468058       </td><td>181312.14951        </td><td>2010.0       </td><td>219311.69701      </td><td>178193.496732   </td><td>181956.919247  </td><td>4010.0       </td><td>252970.213983         </td><td>576.0        </td><td>6.0           </td><td>257372.27451      </td><td>255001.604272     </td><td>252389.99951         </td><td>1488.0       </td><td>5.0           </td></tr>\n",
       "<tr><td>sigma  </td><td>20.2078417515</td><td>4120.71252263    </td><td>25.7144505812</td><td>1.43681164047</td><td>4955.51732693</td><td>6115.23069917       </td><td>30689.890057       </td><td>485.566098653</td><td>21.1304669082 </td><td>6944.95953583         </td><td>67.2277654196  </td><td>5302.39777752   </td><td>0.530283455023</td><td>4663.3584579         </td><td>20.5612278567</td><td>24614.4488081          </td><td>0.208471672113</td><td>26907.819555         </td><td>2.72243190125</td><td>50064.3696593        </td><td>38032.6749094       </td><td>11764.2695649       </td><td>68.8833641132</td><td>437.110507935</td><td>13372.2617492      </td><td>420.610226469</td><td>15963.223969        </td><td>27215.5851847        </td><td>11447.223084        </td><td>0.555189888036</td><td>20533.3775914       </td><td>48363.3317008      </td><td>18602.3639537       </td><td>13409.5597799      </td><td>42.7468796187</td><td>30.3900708372</td><td>30.4916463053</td><td>25951.2868532        </td><td>46910.286848      </td><td>11456.7301912      </td><td>20263.2565326       </td><td>44.0432508644 </td><td>28488.1229768         </td><td>30059.1242813       </td><td>3137.23596097     </td><td>0.503016676942</td><td>11421.9222904     </td><td>9344.44106427  </td><td>1.11373960329</td><td>0.0                </td><td>13660.6213645     </td><td>8806.02800443      </td><td>127.744881519</td><td>176.709824372</td><td>398.165819592</td><td>33850.8749626         </td><td>630.80697759 </td><td>0.647420453072</td><td>0.252295042067 </td><td>442.746712442</td><td>1.50889457519 </td><td>176.693300529</td><td>15269.9467726       </td><td>48658.8290869         </td><td>28422.5413535       </td><td>7764.75339858       </td><td>1.30174014938</td><td>23489.4065732     </td><td>0.0             </td><td>9594.99292153  </td><td>455.111887613</td><td>28882.7155369         </td><td>56.6097629069</td><td>0.829788362735</td><td>19890.63719       </td><td>24826.2586399     </td><td>16731.1495244        </td><td>216.97416468 </td><td>0.775678926349</td></tr>\n",
       "<tr><td>zeros  </td><td>1446         </td><td>0                </td><td>0            </td><td>0            </td><td>0            </td><td>0                   </td><td>0                  </td><td>0            </td><td>0             </td><td>0                     </td><td>1208           </td><td>0               </td><td>849           </td><td>0                    </td><td>0            </td><td>0                      </td><td>2             </td><td>0                    </td><td>0            </td><td>0                    </td><td>0                   </td><td>0                   </td><td>642          </td><td>123          </td><td>0                  </td><td>839          </td><td>0                   </td><td>0                    </td><td>0                   </td><td>3             </td><td>0                   </td><td>0                  </td><td>0                   </td><td>0                  </td><td>0            </td><td>0            </td><td>1453         </td><td>0                    </td><td>0                 </td><td>0                  </td><td>0                   </td><td>1445          </td><td>0                     </td><td>0                   </td><td>0                 </td><td>921           </td><td>0                 </td><td>0              </td><td>0            </td><td>0                  </td><td>0                 </td><td>0                  </td><td>762          </td><td>877          </td><td>0            </td><td>0                     </td><td>1408         </td><td>730           </td><td>1364           </td><td>41           </td><td>0             </td><td>1278         </td><td>0                   </td><td>0                     </td><td>0                   </td><td>0                   </td><td>0            </td><td>0                 </td><td>0               </td><td>0              </td><td>462          </td><td>0                     </td><td>1319         </td><td>2             </td><td>0                 </td><td>0                 </td><td>0                    </td><td>76           </td><td>76            </td></tr>\n",
       "<tr><td>missing</td><td>0            </td><td>0                </td><td>0            </td><td>0            </td><td>0            </td><td>0                   </td><td>0                  </td><td>0            </td><td>0             </td><td>0                     </td><td>0              </td><td>0               </td><td>0             </td><td>0                    </td><td>0            </td><td>0                      </td><td>0             </td><td>0                    </td><td>0            </td><td>0                    </td><td>0                   </td><td>0                   </td><td>0            </td><td>0            </td><td>0                  </td><td>0            </td><td>0                   </td><td>0                    </td><td>0                   </td><td>0             </td><td>0                   </td><td>0                  </td><td>0                   </td><td>0                  </td><td>0            </td><td>0            </td><td>0            </td><td>0                    </td><td>0                 </td><td>0                  </td><td>0                   </td><td>0             </td><td>0                     </td><td>0                   </td><td>0                 </td><td>0             </td><td>0                 </td><td>0              </td><td>0            </td><td>0                  </td><td>0                 </td><td>0                  </td><td>0            </td><td>0            </td><td>0            </td><td>0                     </td><td>0            </td><td>0             </td><td>0              </td><td>0            </td><td>0             </td><td>0            </td><td>0                   </td><td>0                     </td><td>0                   </td><td>0                   </td><td>0            </td><td>0                 </td><td>0               </td><td>0              </td><td>0            </td><td>0                     </td><td>0            </td><td>0             </td><td>0                 </td><td>0                 </td><td>0                    </td><td>0            </td><td>0             </td></tr>\n",
       "<tr><td>0      </td><td>0.0          </td><td>179414.41573     </td><td>1961.0       </td><td>5.0          </td><td>11622.0      </td><td>178218.274725       </td><td>149413.279734      </td><td>896.0        </td><td>1961.0        </td><td>168862.101433         </td><td>0.0            </td><td>178405.709607   </td><td>0.0           </td><td>178193.496732        </td><td>80.0         </td><td>171302.362205          </td><td>1.0           </td><td>178193.496732        </td><td>6.0          </td><td>140285.628205        </td><td>148549.729064       </td><td>187300.525672       </td><td>0.0          </td><td>270.0        </td><td>180398.056931      </td><td>0.0          </td><td>184788.656174       </td><td>206602.936306        </td><td>185601.249383       </td><td>1.0           </td><td>170914.572052       </td><td>143747.878893      </td><td>184861.028369       </td><td>171401.710383      </td><td>20.0         </td><td>1961.0       </td><td>0.0          </td><td>209302.390728        </td><td>138313.571429     </td><td>177919.813609      </td><td>184063.06872        </td><td>0.0           </td><td>156012.906089         </td><td>201051.396887       </td><td>176671.811111     </td><td>0.0           </td><td>181805.663212     </td><td>178193.496732  </td><td>6.0          </td><td>178193.496732      </td><td>181115.23         </td><td>175531.831797      </td><td>140.0        </td><td>0.0          </td><td>896.0        </td><td>143948.796791         </td><td>0.0          </td><td>0.0           </td><td>0.0            </td><td>882.0        </td><td>5.0           </td><td>144.0        </td><td>150223.031176       </td><td>152080.322587         </td><td>157482.0            </td><td>179857.763466       </td><td>2010.0       </td><td>134962.357843     </td><td>178193.496732   </td><td>151206.904945  </td><td>468.0        </td><td>161376.633663         </td><td>120.0        </td><td>2.0           </td><td>163981.419142     </td><td>170822.762626     </td><td>175715.782816        </td><td>730.0        </td><td>1.0           </td></tr>\n",
       "<tr><td>1      </td><td>0.0          </td><td>179414.41573     </td><td>1958.0       </td><td>6.0          </td><td>14267.0      </td><td>178218.274725       </td><td>149413.279734      </td><td>1329.0       </td><td>1958.0        </td><td>182592.860465         </td><td>0.0            </td><td>178405.709607   </td><td>0.0           </td><td>188229.02451         </td><td>81.0         </td><td>171302.362205          </td><td>1.0           </td><td>178193.496732        </td><td>6.0          </td><td>211880.813187        </td><td>148549.729064       </td><td>187300.525672       </td><td>36.0         </td><td>406.0        </td><td>180398.056931      </td><td>0.0          </td><td>184788.656174       </td><td>154595.817988        </td><td>185601.249383       </td><td>1.0           </td><td>170914.572052       </td><td>143747.878893      </td><td>184861.028369       </td><td>205162.127486      </td><td>20.0         </td><td>1958.0       </td><td>0.0          </td><td>163767.737196        </td><td>138313.571429     </td><td>165751.573305      </td><td>184063.06872        </td><td>0.0           </td><td>169309.441176         </td><td>201051.396887       </td><td>176671.811111     </td><td>1.0           </td><td>181805.663212     </td><td>178193.496732  </td><td>6.0          </td><td>178193.496732      </td><td>181115.23         </td><td>175531.831797      </td><td>393.0        </td><td>108.0        </td><td>1329.0       </td><td>143948.796791         </td><td>12500.0      </td><td>0.0           </td><td>0.0            </td><td>1329.0       </td><td>6.0           </td><td>0.0          </td><td>181573.276042       </td><td>152080.322587         </td><td>203114.250464       </td><td>179857.763466       </td><td>2010.0       </td><td>187920.610644     </td><td>178193.496732   </td><td>178193.496732  </td><td>923.0        </td><td>161376.633663         </td><td>0.0          </td><td>3.0           </td><td>194850.585661     </td><td>170822.762626     </td><td>175715.782816        </td><td>312.0        </td><td>1.0           </td></tr>\n",
       "<tr><td>2      </td><td>0.0          </td><td>179414.41573     </td><td>1997.0       </td><td>5.0          </td><td>13830.0      </td><td>178218.274725       </td><td>158961.703081      </td><td>1629.0       </td><td>1998.0        </td><td>182592.860465         </td><td>0.0            </td><td>178405.709607   </td><td>0.0           </td><td>178193.496732        </td><td>74.0         </td><td>171302.362205          </td><td>1.0           </td><td>205118.429004        </td><td>3.0          </td><td>140285.628205        </td><td>222366.882051       </td><td>187300.525672       </td><td>34.0         </td><td>137.0        </td><td>180398.056931      </td><td>701.0        </td><td>184788.656174       </td><td>206602.936306        </td><td>185601.249383       </td><td>2.0           </td><td>203633.455629       </td><td>143747.878893      </td><td>184861.028369       </td><td>171401.710383      </td><td>60.0         </td><td>1997.0       </td><td>0.0          </td><td>209302.390728        </td><td>206633.031414     </td><td>177919.813609      </td><td>184063.06872        </td><td>0.0           </td><td>224699.786395         </td><td>201051.396887       </td><td>176671.811111     </td><td>1.0           </td><td>181805.663212     </td><td>178193.496732  </td><td>5.0          </td><td>178193.496732      </td><td>181115.23         </td><td>175531.831797      </td><td>212.0        </td><td>0.0          </td><td>928.0        </td><td>223156.84951          </td><td>0.0          </td><td>1.0           </td><td>0.0            </td><td>928.0        </td><td>6.0           </td><td>0.0          </td><td>181573.276042       </td><td>191808.059695         </td><td>157482.0            </td><td>179857.763466       </td><td>2010.0       </td><td>187920.610644     </td><td>178193.496732   </td><td>151206.904945  </td><td>791.0        </td><td>161376.633663         </td><td>0.0          </td><td>3.0           </td><td>194850.585661     </td><td>170822.762626     </td><td>175715.782816        </td><td>482.0        </td><td>2.0           </td></tr>\n",
       "<tr><td>3      </td><td>0.0          </td><td>179414.41573     </td><td>1998.0       </td><td>6.0          </td><td>9978.0       </td><td>178218.274725       </td><td>211491.753304      </td><td>1604.0       </td><td>1998.0        </td><td>182592.860465         </td><td>0.0            </td><td>178405.709607   </td><td>0.0           </td><td>178193.496732        </td><td>78.0         </td><td>171302.362205          </td><td>1.0           </td><td>219907.18576         </td><td>6.0          </td><td>211880.813187        </td><td>222366.882051       </td><td>187300.525672       </td><td>36.0         </td><td>324.0        </td><td>180398.056931      </td><td>678.0        </td><td>184788.656174       </td><td>206602.936306        </td><td>185601.249383       </td><td>2.0           </td><td>203633.455629       </td><td>143747.878893      </td><td>184861.028369       </td><td>171401.710383      </td><td>60.0         </td><td>1998.0       </td><td>0.0          </td><td>209302.390728        </td><td>138313.571429     </td><td>177919.813609      </td><td>184063.06872        </td><td>0.0           </td><td>224699.786395         </td><td>201051.396887       </td><td>176671.811111     </td><td>1.0           </td><td>181805.663212     </td><td>178193.496732  </td><td>6.0          </td><td>178193.496732      </td><td>181115.23         </td><td>175531.831797      </td><td>360.0        </td><td>20.0         </td><td>926.0        </td><td>223156.84951          </td><td>0.0          </td><td>1.0           </td><td>0.0            </td><td>926.0        </td><td>7.0           </td><td>0.0          </td><td>181573.276042       </td><td>191808.059695         </td><td>203114.250464       </td><td>179857.763466       </td><td>2010.0       </td><td>187920.610644     </td><td>178193.496732   </td><td>178193.496732  </td><td>602.0        </td><td>161376.633663         </td><td>0.0          </td><td>3.0           </td><td>194850.585661     </td><td>170822.762626     </td><td>175715.782816        </td><td>470.0        </td><td>2.0           </td></tr>\n",
       "<tr><td>4      </td><td>0.0          </td><td>179414.41573     </td><td>1992.0       </td><td>8.0          </td><td>5005.0       </td><td>178218.274725       </td><td>211491.753304      </td><td>1280.0       </td><td>1992.0        </td><td>182592.860465         </td><td>0.0            </td><td>178405.709607   </td><td>0.0           </td><td>178193.496732        </td><td>43.0         </td><td>171302.362205          </td><td>1.0           </td><td>178193.496732        </td><td>1.0          </td><td>211880.813187        </td><td>222366.882051       </td><td>187300.525672       </td><td>82.0         </td><td>1017.0       </td><td>180398.056931      </td><td>0.0          </td><td>184788.656174       </td><td>167128.418449        </td><td>185601.249383       </td><td>2.0           </td><td>170914.572052       </td><td>228065.58659       </td><td>184861.028369       </td><td>171401.710383      </td><td>120.0        </td><td>1992.0       </td><td>0.0          </td><td>169568.255279        </td><td>206633.031414     </td><td>177919.813609      </td><td>184063.06872        </td><td>0.0           </td><td>169309.441176         </td><td>201051.396887       </td><td>176671.811111     </td><td>0.0           </td><td>183943.19951      </td><td>178193.496732  </td><td>5.0          </td><td>178193.496732      </td><td>181115.23         </td><td>175531.831797      </td><td>0.0          </td><td>0.0          </td><td>1280.0       </td><td>201271.567211         </td><td>0.0          </td><td>0.0           </td><td>0.0            </td><td>1280.0       </td><td>5.0           </td><td>0.0          </td><td>181573.276042       </td><td>288359.02451          </td><td>157482.0            </td><td>179857.763466       </td><td>2010.0       </td><td>187920.610644     </td><td>178193.496732   </td><td>178193.496732  </td><td>263.0        </td><td>161376.633663         </td><td>144.0        </td><td>2.0           </td><td>194850.585661     </td><td>170822.762626     </td><td>252389.99951         </td><td>506.0        </td><td>2.0           </td></tr>\n",
       "<tr><td>5      </td><td>0.0          </td><td>179414.41573     </td><td>1993.0       </td><td>6.0          </td><td>10000.0      </td><td>178218.274725       </td><td>158961.703081      </td><td>1655.0       </td><td>1994.0        </td><td>182592.860465         </td><td>0.0            </td><td>178405.709607   </td><td>0.0           </td><td>178193.496732        </td><td>75.0         </td><td>171302.362205          </td><td>1.0           </td><td>205118.429004        </td><td>4.0          </td><td>140285.628205        </td><td>222366.882051       </td><td>187300.525672       </td><td>84.0         </td><td>763.0        </td><td>180398.056931      </td><td>892.0        </td><td>184788.656174       </td><td>167128.418449        </td><td>185601.249383       </td><td>2.0           </td><td>203633.455629       </td><td>143747.878893      </td><td>184861.028369       </td><td>171401.710383      </td><td>60.0         </td><td>1993.0       </td><td>0.0          </td><td>169568.255279        </td><td>206633.031414     </td><td>165751.573305      </td><td>184063.06872        </td><td>0.0           </td><td>168970.165983         </td><td>201051.396887       </td><td>176671.811111     </td><td>1.0           </td><td>181805.663212     </td><td>178193.496732  </td><td>5.0          </td><td>178193.496732      </td><td>181115.23         </td><td>175531.831797      </td><td>157.0        </td><td>0.0          </td><td>763.0        </td><td>223156.84951          </td><td>0.0          </td><td>1.0           </td><td>0.0            </td><td>763.0        </td><td>7.0           </td><td>0.0          </td><td>181573.276042       </td><td>191808.059695         </td><td>157482.0            </td><td>179857.763466       </td><td>2010.0       </td><td>187920.610644     </td><td>178193.496732   </td><td>178193.496732  </td><td>0.0          </td><td>161376.633663         </td><td>0.0          </td><td>3.0           </td><td>194850.585661     </td><td>170822.762626     </td><td>175715.782816        </td><td>440.0        </td><td>2.0           </td></tr>\n",
       "<tr><td>6      </td><td>0.0          </td><td>179414.41573     </td><td>1992.0       </td><td>6.0          </td><td>7980.0       </td><td>178218.274725       </td><td>211491.753304      </td><td>1187.0       </td><td>2007.0        </td><td>182592.860465         </td><td>0.0            </td><td>178405.709607   </td><td>1.0           </td><td>163465.691176        </td><td>68.5803571429</td><td>171302.362205          </td><td>1.0           </td><td>178193.496732        </td><td>3.0          </td><td>140285.628205        </td><td>222366.882051       </td><td>187300.525672       </td><td>21.0         </td><td>233.0        </td><td>179370.365973      </td><td>0.0          </td><td>184788.656174       </td><td>167128.418449        </td><td>185601.249383       </td><td>2.0           </td><td>170914.572052       </td><td>143747.878893      </td><td>184861.028369       </td><td>171401.710383      </td><td>20.0         </td><td>1992.0       </td><td>0.0          </td><td>169568.255279        </td><td>206633.031414     </td><td>177919.813609      </td><td>184063.06872        </td><td>0.0           </td><td>169309.441176         </td><td>201051.396887       </td><td>176671.811111     </td><td>0.0           </td><td>181805.663212     </td><td>178193.496732  </td><td>7.0          </td><td>178193.496732      </td><td>181115.23         </td><td>175531.831797      </td><td>483.0        </td><td>0.0          </td><td>1187.0       </td><td>223156.84951          </td><td>500.0        </td><td>0.0           </td><td>0.0            </td><td>1168.0       </td><td>6.0           </td><td>0.0          </td><td>181573.276042       </td><td>191808.059695         </td><td>157482.0            </td><td>179857.763466       </td><td>2010.0       </td><td>187920.610644     </td><td>178193.496732   </td><td>181956.919247  </td><td>935.0        </td><td>161376.633663         </td><td>0.0          </td><td>3.0           </td><td>194850.585661     </td><td>170822.762626     </td><td>175715.782816        </td><td>420.0        </td><td>2.0           </td></tr>\n",
       "<tr><td>7      </td><td>0.0          </td><td>179414.41573     </td><td>1998.0       </td><td>6.0          </td><td>8402.0       </td><td>178218.274725       </td><td>158961.703081      </td><td>1465.0       </td><td>1998.0        </td><td>182592.860465         </td><td>0.0            </td><td>178405.709607   </td><td>0.0           </td><td>178193.496732        </td><td>63.0         </td><td>171302.362205          </td><td>1.0           </td><td>219907.18576         </td><td>5.0          </td><td>140285.628205        </td><td>222366.882051       </td><td>187300.525672       </td><td>75.0         </td><td>789.0        </td><td>180398.056931      </td><td>676.0        </td><td>184788.656174       </td><td>206602.936306        </td><td>185601.249383       </td><td>2.0           </td><td>203633.455629       </td><td>143747.878893      </td><td>184861.028369       </td><td>171401.710383      </td><td>60.0         </td><td>1998.0       </td><td>0.0          </td><td>209302.390728        </td><td>206633.031414     </td><td>177919.813609      </td><td>184063.06872        </td><td>0.0           </td><td>168970.165983         </td><td>201051.396887       </td><td>176671.811111     </td><td>1.0           </td><td>181805.663212     </td><td>178193.496732  </td><td>5.0          </td><td>178193.496732      </td><td>181115.23         </td><td>175531.831797      </td><td>0.0          </td><td>0.0          </td><td>789.0        </td><td>223156.84951          </td><td>0.0          </td><td>1.0           </td><td>0.0            </td><td>789.0        </td><td>7.0           </td><td>0.0          </td><td>181573.276042       </td><td>191808.059695         </td><td>157482.0            </td><td>179857.763466       </td><td>2010.0       </td><td>187920.610644     </td><td>178193.496732   </td><td>178193.496732  </td><td>0.0          </td><td>161376.633663         </td><td>0.0          </td><td>3.0           </td><td>194850.585661     </td><td>170822.762626     </td><td>175715.782816        </td><td>393.0        </td><td>2.0           </td></tr>\n",
       "<tr><td>8      </td><td>0.0          </td><td>179414.41573     </td><td>1990.0       </td><td>7.0          </td><td>10176.0      </td><td>178218.274725       </td><td>158961.703081      </td><td>1341.0       </td><td>1990.0        </td><td>182592.860465         </td><td>0.0            </td><td>178405.709607   </td><td>1.0           </td><td>178193.496732        </td><td>85.0         </td><td>171302.362205          </td><td>1.0           </td><td>133191.52451         </td><td>2.0          </td><td>211880.813187        </td><td>222366.882051       </td><td>187300.525672       </td><td>0.0          </td><td>663.0        </td><td>180398.056931      </td><td>0.0          </td><td>184788.656174       </td><td>167128.418449        </td><td>185601.249383       </td><td>1.0           </td><td>170914.572052       </td><td>143747.878893      </td><td>184861.028369       </td><td>171401.710383      </td><td>20.0         </td><td>1990.0       </td><td>0.0          </td><td>169568.255279        </td><td>206633.031414     </td><td>177919.813609      </td><td>184063.06872        </td><td>0.0           </td><td>224699.786395         </td><td>201051.396887       </td><td>176671.811111     </td><td>1.0           </td><td>181805.663212     </td><td>178193.496732  </td><td>5.0          </td><td>178193.496732      </td><td>181115.23         </td><td>175531.831797      </td><td>192.0        </td><td>0.0          </td><td>1341.0       </td><td>143948.796791         </td><td>0.0          </td><td>1.0           </td><td>0.0            </td><td>1300.0       </td><td>5.0           </td><td>0.0          </td><td>181573.276042       </td><td>191808.059695         </td><td>157482.0            </td><td>179857.763466       </td><td>2010.0       </td><td>187920.610644     </td><td>178193.496732   </td><td>178193.496732  </td><td>637.0        </td><td>252970.213983         </td><td>0.0          </td><td>2.0           </td><td>163981.419142     </td><td>170822.762626     </td><td>175715.782816        </td><td>506.0        </td><td>2.0           </td></tr>\n",
       "<tr><td>9      </td><td>0.0          </td><td>179414.41573     </td><td>1970.0       </td><td>4.0          </td><td>8400.0       </td><td>178218.274725       </td><td>149413.279734      </td><td>882.0        </td><td>1970.0        </td><td>167901.038399         </td><td>0.0            </td><td>178405.709607   </td><td>1.0           </td><td>178193.496732        </td><td>70.0         </td><td>171302.362205          </td><td>1.0           </td><td>178193.496732        </td><td>4.0          </td><td>140285.628205        </td><td>148549.729064       </td><td>187300.525672       </td><td>0.0          </td><td>0.0          </td><td>180398.056931      </td><td>0.0          </td><td>184788.656174       </td><td>173812.546385        </td><td>185601.249383       </td><td>1.0           </td><td>170914.572052       </td><td>143747.878893      </td><td>184861.028369       </td><td>171401.710383      </td><td>20.0         </td><td>1970.0       </td><td>0.0          </td><td>163573.83733         </td><td>138313.571429     </td><td>165751.573305      </td><td>184063.06872        </td><td>0.0           </td><td>169309.441176         </td><td>201051.396887       </td><td>176671.811111     </td><td>0.0           </td><td>181805.663212     </td><td>178193.496732  </td><td>5.0          </td><td>178193.496732      </td><td>181115.23         </td><td>175531.831797      </td><td>240.0        </td><td>0.0          </td><td>882.0        </td><td>223156.84951          </td><td>0.0          </td><td>0.0           </td><td>0.0            </td><td>882.0        </td><td>4.0           </td><td>78.0         </td><td>181573.276042       </td><td>152080.322587         </td><td>157482.0            </td><td>179857.763466       </td><td>2010.0       </td><td>187920.610644     </td><td>178193.496732   </td><td>151206.904945  </td><td>804.0        </td><td>161376.633663         </td><td>0.0          </td><td>2.0           </td><td>163981.419142     </td><td>170822.762626     </td><td>175715.782816        </td><td>525.0        </td><td>2.0           </td></tr>\n",
       "</tbody>\n",
       "</table>"
      ]
     },
     "metadata": {},
     "output_type": "display_data"
    }
   ],
   "source": [
    "print('Imputed and encoded numeric training data:')\n",
    "train[encoded_nums].describe() #79 numeric columns w/ no missing\n",
    "print('--------------------------------------------------------------------------------')\n",
    "print('Imputed and encoded numeric validation data:')\n",
    "valid[encoded_nums].describe() #79 numeric columns w/ no missing\n",
    "print('--------------------------------------------------------------------------------')\n",
    "print('Imputed and encoded numeric test data:')\n",
    "test[encoded_nums].describe() #79 numeric columns w/ no missing"
   ]
  },
  {
   "cell_type": "code",
   "execution_count": 14,
   "metadata": {
    "collapsed": false,
    "deletable": true,
    "editable": true
   },
   "outputs": [
    {
     "data": {
      "text/html": [
       "<table>\n",
       "<thead>\n",
       "<tr><th>Neighborhood  </th><th style=\"text-align: right;\">  Neighborhood_Tencode</th></tr>\n",
       "</thead>\n",
       "<tbody>\n",
       "<tr><td>NAmes         </td><td style=\"text-align: right;\">                152080</td></tr>\n",
       "<tr><td>NAmes         </td><td style=\"text-align: right;\">                152080</td></tr>\n",
       "<tr><td>Gilbert       </td><td style=\"text-align: right;\">                191808</td></tr>\n",
       "<tr><td>Gilbert       </td><td style=\"text-align: right;\">                191808</td></tr>\n",
       "<tr><td>StoneBr       </td><td style=\"text-align: right;\">                288359</td></tr>\n",
       "</tbody>\n",
       "</table>"
      ]
     },
     "metadata": {},
     "output_type": "display_data"
    },
    {
     "name": "stdout",
     "output_type": "stream",
     "text": [
      "\n",
      "{nan: 178193.49673202613, 'IDOTRR': 112866.71681749621, 'Edwards': 126241.13989441929, 'NWAmes': 184610.14950980392, 'OldTown': 139863.03613771088, 'NAmes': 152080.32258672698, 'Veenker': 243734.02450980392, 'Gilbert': 191808.0596949891, 'SWISU': 156269.02450980392, 'Blmngtn': 210845.6545098039, 'NoRidge': 273948.2552790347, 'NridgHt': 284073.1545098039, 'BrkSide': 129965.77450980392, 'StoneBr': 288359.0245098039, 'Somerst': 227656.9671023965, 'MeadowV': 113131.52450980392, 'ClearCr': 207949.02450980392, 'SawyerW': 189097.7776348039, 'Sawyer': 143162.40700980392, 'CollgCr': 190019.77971813726, 'Crawfor': 216008.84593837534, 'BrDale': 116064.02450980392, 'Mitchel': 169316.52450980392, 'NPkVill': 147641.52450980392, 'Timber': 260109.74673202613}\n"
     ]
    }
   ],
   "source": [
    "# Check Neighborhood_Tencode\n",
    "\n",
    "print(test[0:5, ['Neighborhood', 'Neighborhood_Tencode']])\n",
    "_, _ = target_encoder(valid, test, 'Neighborhood', 'SalePrice', test=True)\n",
    "del _\n",
    "\n",
    "# NAmes   152080\n",
    "# NAmes   152080\n",
    "# Gilbert 191808\n",
    "# Gilbert 191808\n",
    "# StoneBr 288359"
   ]
  },
  {
   "cell_type": "markdown",
   "metadata": {
    "deletable": true,
    "editable": true
   },
   "source": [
    "## Create combination features"
   ]
  },
  {
   "cell_type": "code",
   "execution_count": 15,
   "metadata": {
    "collapsed": false,
    "deletable": true,
    "editable": true
   },
   "outputs": [],
   "source": [
    "def feature_combiner(training_frame, test_frame, nums):\n",
    "    \n",
    "    \"\"\" Combines numeric features using simple arithmatic operations.\n",
    "    \n",
    "    :param training_frame: Training frame from which to generate features and onto which generated \n",
    "                           feeatures will be cbound.\n",
    "    :param test_frame: Test frame from which to generate features and onto which generated \n",
    "                       feeatures will be cbound.\n",
    "    :param nums: List of original numeric features from which to generate combined features.\n",
    "    \n",
    "    \"\"\"\n",
    "\n",
    "    total = len(nums)\n",
    "    \n",
    "    # convert to pandas\n",
    "    train_df = training_frame.as_data_frame()\n",
    "    test_df = test_frame.as_data_frame()\n",
    "    \n",
    "    for i, col_i in enumerate(nums):\n",
    "        \n",
    "        print('Combining: ' + col_i + ' (' + str(i+1) + '/' + str(total) + ') ...')        \n",
    "        \n",
    "        for j, col_j in enumerate(nums):\n",
    "            \n",
    "            # don't repeat (i*j = j*i)\n",
    "            if i < j:\n",
    "                \n",
    "                # convert to pandas\n",
    "                col_i_train_df = train_df[col_i]\n",
    "                col_j_train_df = train_df[col_j]\n",
    "                col_i_test_df = test_df[col_i]\n",
    "                col_j_test_df = test_df[col_j] \n",
    "\n",
    "                # multiply, convert back to h2o\n",
    "                train_df[str(col_i + '|' + col_j)] = col_i_train_df.values*col_j_train_df.values\n",
    "                test_df[str(col_i + '|' + col_j)] = col_i_test_df.values*col_j_test_df.values\n",
    "                \n",
    "    print('Done.')\n",
    "    \n",
    "    # convert back to h2o\n",
    "    \n",
    "    print('Converting to H2OFrame ...')\n",
    "    \n",
    "    training_frame = h2o.H2OFrame(train_df)\n",
    "    training_frame.columns = list(train_df)\n",
    "    test_frame = h2o.H2OFrame(test_df)\n",
    "    test_frame.columns = list(test_df)\n",
    "    \n",
    "    print('Done.')\n",
    "    print()\n",
    "    \n",
    "    # conserve memory \n",
    "    del train_df\n",
    "    del test_df \n",
    "    \n",
    "    return training_frame, test_frame\n"
   ]
  },
  {
   "cell_type": "code",
   "execution_count": 16,
   "metadata": {
    "collapsed": false,
    "deletable": true,
    "editable": true
   },
   "outputs": [
    {
     "name": "stdout",
     "output_type": "stream",
     "text": [
      "Combining: 3SsnPorch (1/79) ...\n",
      "Combining: Heating_Tencode (2/79) ...\n",
      "Combining: GarageYrBlt (3/79) ...\n",
      "Combining: OverallQual (4/79) ...\n",
      "Combining: LotArea (5/79) ...\n",
      "Combining: Condition2_Tencode (6/79) ...\n",
      "Combining: HeatingQC_Tencode (7/79) ...\n",
      "Combining: GrLivArea (8/79) ...\n",
      "Combining: YearRemodAdd (9/79) ...\n",
      "Combining: BsmtFinType2_Tencode (10/79) ...\n",
      "Combining: EnclosedPorch (11/79) ...\n",
      "Combining: Street_Tencode (12/79) ...\n",
      "Combining: BsmtFullBath (13/79) ...\n",
      "Combining: MiscFeature_Tencode (14/79) ...\n",
      "Combining: LotFrontage (15/79) ...\n",
      "Combining: SaleCondition_Tencode (16/79) ...\n",
      "Combining: KitchenAbvGr (17/79) ...\n",
      "Combining: FireplaceQu_Tencode (18/79) ...\n",
      "Combining: MoSold (19/79) ...\n",
      "Combining: KitchenQual_Tencode (20/79) ...\n",
      "Combining: Foundation_Tencode (21/79) ...\n",
      "Combining: GarageCond_Tencode (22/79) ...\n",
      "Combining: OpenPorchSF (23/79) ...\n",
      "Combining: BsmtUnfSF (24/79) ...\n",
      "Combining: ExterCond_Tencode (25/79) ...\n",
      "Combining: 2ndFlrSF (26/79) ...\n",
      "Combining: Electrical_Tencode (27/79) ...\n",
      "Combining: Exterior1st_Tencode (28/79) ...\n",
      "Combining: GarageQual_Tencode (29/79) ...\n",
      "Combining: FullBath (30/79) ...\n",
      "Combining: HouseStyle_Tencode (31/79) ...\n",
      "Combining: ExterQual_Tencode (32/79) ...\n",
      "Combining: CentralAir_Tencode (33/79) ...\n",
      "Combining: RoofStyle_Tencode (34/79) ...\n",
      "Combining: MSSubClass (35/79) ...\n",
      "Combining: YearBuilt (36/79) ...\n",
      "Combining: PoolArea (37/79) ...\n",
      "Combining: Exterior2nd_Tencode (38/79) ...\n",
      "Combining: BsmtQual_Tencode (39/79) ...\n",
      "Combining: LotConfig_Tencode (40/79) ...\n",
      "Combining: PavedDrive_Tencode (41/79) ...\n",
      "Combining: LowQualFinSF (42/79) ...\n",
      "Combining: BsmtFinType1_Tencode (43/79) ...\n",
      "Combining: GarageType_Tencode (44/79) ...\n",
      "Combining: RoofMatl_Tencode (45/79) ...\n",
      "Combining: HalfBath (46/79) ...\n",
      "Combining: BldgType_Tencode (47/79) ...\n",
      "Combining: Alley_Tencode (48/79) ...\n",
      "Combining: OverallCond (49/79) ...\n",
      "Combining: Utilities_Tencode (50/79) ...\n",
      "Combining: BsmtCond_Tencode (51/79) ...\n",
      "Combining: LandSlope_Tencode (52/79) ...\n",
      "Combining: WoodDeckSF (53/79) ...\n",
      "Combining: MasVnrArea (54/79) ...\n",
      "Combining: 1stFlrSF (55/79) ...\n",
      "Combining: GarageFinish_Tencode (56/79) ...\n",
      "Combining: MiscVal (57/79) ...\n",
      "Combining: Fireplaces (58/79) ...\n",
      "Combining: BsmtHalfBath (59/79) ...\n",
      "Combining: TotalBsmtSF (60/79) ...\n",
      "Combining: TotRmsAbvGrd (61/79) ...\n",
      "Combining: BsmtFinSF2 (62/79) ...\n",
      "Combining: Condition1_Tencode (63/79) ...\n",
      "Combining: Neighborhood_Tencode (64/79) ...\n",
      "Combining: MasVnrType_Tencode (65/79) ...\n",
      "Combining: Functional_Tencode (66/79) ...\n",
      "Combining: YrSold (67/79) ...\n",
      "Combining: MSZoning_Tencode (68/79) ...\n",
      "Combining: PoolQC_Tencode (69/79) ...\n",
      "Combining: Fence_Tencode (70/79) ...\n",
      "Combining: BsmtFinSF1 (71/79) ...\n",
      "Combining: BsmtExposure_Tencode (72/79) ...\n",
      "Combining: ScreenPorch (73/79) ...\n",
      "Combining: BedroomAbvGr (74/79) ...\n",
      "Combining: LotShape_Tencode (75/79) ...\n",
      "Combining: SaleType_Tencode (76/79) ...\n",
      "Combining: LandContour_Tencode (77/79) ...\n",
      "Combining: GarageArea (78/79) ...\n",
      "Combining: GarageCars (79/79) ...\n",
      "Done.\n",
      "Converting to H2OFrame ...\n",
      "Done.\n",
      "()\n",
      "Combining: 3SsnPorch (1/79) ...\n",
      "Combining: Heating_Tencode (2/79) ...\n",
      "Combining: GarageYrBlt (3/79) ...\n",
      "Combining: OverallQual (4/79) ...\n",
      "Combining: LotArea (5/79) ...\n",
      "Combining: Condition2_Tencode (6/79) ...\n",
      "Combining: HeatingQC_Tencode (7/79) ...\n",
      "Combining: GrLivArea (8/79) ...\n",
      "Combining: YearRemodAdd (9/79) ...\n",
      "Combining: BsmtFinType2_Tencode (10/79) ...\n",
      "Combining: EnclosedPorch (11/79) ...\n",
      "Combining: Street_Tencode (12/79) ...\n",
      "Combining: BsmtFullBath (13/79) ...\n",
      "Combining: MiscFeature_Tencode (14/79) ...\n",
      "Combining: LotFrontage (15/79) ...\n",
      "Combining: SaleCondition_Tencode (16/79) ...\n",
      "Combining: KitchenAbvGr (17/79) ...\n",
      "Combining: FireplaceQu_Tencode (18/79) ...\n",
      "Combining: MoSold (19/79) ...\n",
      "Combining: KitchenQual_Tencode (20/79) ...\n",
      "Combining: Foundation_Tencode (21/79) ...\n",
      "Combining: GarageCond_Tencode (22/79) ...\n",
      "Combining: OpenPorchSF (23/79) ...\n",
      "Combining: BsmtUnfSF (24/79) ...\n",
      "Combining: ExterCond_Tencode (25/79) ...\n",
      "Combining: 2ndFlrSF (26/79) ...\n",
      "Combining: Electrical_Tencode (27/79) ...\n",
      "Combining: Exterior1st_Tencode (28/79) ...\n",
      "Combining: GarageQual_Tencode (29/79) ...\n",
      "Combining: FullBath (30/79) ...\n",
      "Combining: HouseStyle_Tencode (31/79) ...\n",
      "Combining: ExterQual_Tencode (32/79) ...\n",
      "Combining: CentralAir_Tencode (33/79) ...\n",
      "Combining: RoofStyle_Tencode (34/79) ...\n",
      "Combining: MSSubClass (35/79) ...\n",
      "Combining: YearBuilt (36/79) ...\n",
      "Combining: PoolArea (37/79) ...\n",
      "Combining: Exterior2nd_Tencode (38/79) ...\n",
      "Combining: BsmtQual_Tencode (39/79) ...\n",
      "Combining: LotConfig_Tencode (40/79) ...\n",
      "Combining: PavedDrive_Tencode (41/79) ...\n",
      "Combining: LowQualFinSF (42/79) ...\n",
      "Combining: BsmtFinType1_Tencode (43/79) ...\n",
      "Combining: GarageType_Tencode (44/79) ...\n",
      "Combining: RoofMatl_Tencode (45/79) ...\n",
      "Combining: HalfBath (46/79) ...\n",
      "Combining: BldgType_Tencode (47/79) ...\n",
      "Combining: Alley_Tencode (48/79) ...\n",
      "Combining: OverallCond (49/79) ...\n",
      "Combining: Utilities_Tencode (50/79) ...\n",
      "Combining: BsmtCond_Tencode (51/79) ...\n",
      "Combining: LandSlope_Tencode (52/79) ...\n",
      "Combining: WoodDeckSF (53/79) ...\n",
      "Combining: MasVnrArea (54/79) ...\n",
      "Combining: 1stFlrSF (55/79) ...\n",
      "Combining: GarageFinish_Tencode (56/79) ...\n",
      "Combining: MiscVal (57/79) ...\n",
      "Combining: Fireplaces (58/79) ...\n",
      "Combining: BsmtHalfBath (59/79) ...\n",
      "Combining: TotalBsmtSF (60/79) ...\n",
      "Combining: TotRmsAbvGrd (61/79) ...\n",
      "Combining: BsmtFinSF2 (62/79) ...\n",
      "Combining: Condition1_Tencode (63/79) ...\n",
      "Combining: Neighborhood_Tencode (64/79) ...\n",
      "Combining: MasVnrType_Tencode (65/79) ...\n",
      "Combining: Functional_Tencode (66/79) ...\n",
      "Combining: YrSold (67/79) ...\n",
      "Combining: MSZoning_Tencode (68/79) ...\n",
      "Combining: PoolQC_Tencode (69/79) ...\n",
      "Combining: Fence_Tencode (70/79) ...\n",
      "Combining: BsmtFinSF1 (71/79) ...\n",
      "Combining: BsmtExposure_Tencode (72/79) ...\n",
      "Combining: ScreenPorch (73/79) ...\n",
      "Combining: BedroomAbvGr (74/79) ...\n",
      "Combining: LotShape_Tencode (75/79) ...\n",
      "Combining: SaleType_Tencode (76/79) ...\n",
      "Combining: LandContour_Tencode (77/79) ...\n",
      "Combining: GarageArea (78/79) ...\n",
      "Combining: GarageCars (79/79) ...\n",
      "Done.\n",
      "Converting to H2OFrame ...\n",
      "Done.\n",
      "()\n"
     ]
    }
   ],
   "source": [
    "train, _ = feature_combiner(train, test, encoded_nums)\n",
    "valid, test = feature_combiner(valid, test, encoded_nums)"
   ]
  },
  {
   "cell_type": "markdown",
   "metadata": {
    "deletable": true,
    "editable": true
   },
   "source": [
    "#### Redefine numerics and explore"
   ]
  },
  {
   "cell_type": "code",
   "execution_count": 17,
   "metadata": {
    "collapsed": false,
    "deletable": true,
    "editable": true
   },
   "outputs": [
    {
     "name": "stdout",
     "output_type": "stream",
     "text": [
      "('Numeric =', [u'3SsnPorch|BsmtUnfSF', u'YearBuilt|SaleType_Tencode', u'Condition2_Tencode|MasVnrArea', u'GarageFinish_Tencode|GarageArea', u'Neighborhood_Tencode|MSZoning_Tencode', u'OverallQual|LotConfig_Tencode', u'KitchenAbvGr|KitchenQual_Tencode', u'LandSlope_Tencode|LandContour_Tencode', u'2ndFlrSF|PoolArea', u'LowQualFinSF|MSZoning_Tencode', u'RoofMatl_Tencode|1stFlrSF', u'Foundation_Tencode|BsmtHalfBath', u'BsmtFinType2_Tencode|2ndFlrSF', u'Heating_Tencode|EnclosedPorch', u'BsmtFinType1_Tencode|MSZoning_Tencode', u'MiscFeature_Tencode|SaleCondition_Tencode', u'CentralAir_Tencode|LandContour_Tencode', u'YearRemodAdd|Neighborhood_Tencode', u'3SsnPorch|LotFrontage', u'OverallQual|EnclosedPorch', u'ExterQual_Tencode|LandContour_Tencode', u'OpenPorchSF|GarageCars', u'YearRemodAdd|Condition1_Tencode', u'Exterior1st_Tencode|ExterQual_Tencode', u'HouseStyle_Tencode|BsmtFinType1_Tencode', u'EnclosedPorch|KitchenAbvGr', u'BedroomAbvGr|LandContour_Tencode', u'HeatingQC_Tencode|GarageFinish_Tencode', u'2ndFlrSF|HouseStyle_Tencode', u'3SsnPorch|Functional_Tencode', u'GarageQual_Tencode|CentralAir_Tencode', u'Heating_Tencode|BsmtCond_Tencode', u'Functional_Tencode|YrSold', u'RoofStyle_Tencode|1stFlrSF', u'MiscFeature_Tencode|1stFlrSF', u'LowQualFinSF|OverallCond', u'BsmtFinType2_Tencode|PoolQC_Tencode', u'Electrical_Tencode|Alley_Tencode', u'GrLivArea|MiscVal', u'FireplaceQu_Tencode|HalfBath', u'3SsnPorch|Fence_Tencode', u'PoolArea|LowQualFinSF', u'PoolArea|BldgType_Tencode', u'Utilities_Tencode|MasVnrArea', u'MiscFeature_Tencode|WoodDeckSF', u'KitchenAbvGr|BldgType_Tencode', u'GrLivArea|Alley_Tencode', u'Heating_Tencode|BsmtQual_Tencode', u'HeatingQC_Tencode|Street_Tencode', u'HeatingQC_Tencode|KitchenAbvGr', u'OverallQual|2ndFlrSF', u'FireplaceQu_Tencode|Condition1_Tencode', u'BsmtQual_Tencode|LotShape_Tencode', u'BsmtHalfBath|MasVnrType_Tencode', u'KitchenQual_Tencode|Exterior2nd_Tencode', u'YearRemodAdd|CentralAir_Tencode', u'YearBuilt|OverallCond', u'BsmtFinType1_Tencode|1stFlrSF', u'BldgType_Tencode', u'TotRmsAbvGrd|LotShape_Tencode', u'BsmtFinType2_Tencode|Electrical_Tencode', u'YrSold|BsmtFinSF1', u'FireplaceQu_Tencode|OverallCond', u'Exterior1st_Tencode|Functional_Tencode', u'LotArea|LotConfig_Tencode', u'BsmtFinType2_Tencode|BsmtUnfSF', u'GrLivArea|GarageArea', u'FullBath|PoolQC_Tencode', u'MoSold|Neighborhood_Tencode', u'OpenPorchSF|Electrical_Tencode', u'Heating_Tencode|Fireplaces', u'GarageQual_Tencode|BedroomAbvGr', u'BsmtFinType2_Tencode|ExterCond_Tencode', u'Exterior1st_Tencode|Fence_Tencode', u'3SsnPorch|HouseStyle_Tencode', u'YearRemodAdd|YrSold', u'3SsnPorch|HalfBath', u'Heating_Tencode|MSZoning_Tencode', u'PavedDrive_Tencode|WoodDeckSF', u'2ndFlrSF|TotalBsmtSF', u'Street_Tencode|OpenPorchSF', u'Functional_Tencode|BsmtFinSF1', u'ExterQual_Tencode|MasVnrType_Tencode', u'EnclosedPorch|BldgType_Tencode', u'TotRmsAbvGrd|MasVnrType_Tencode', u'LandSlope_Tencode|BsmtFinSF2', u'GarageYrBlt|Exterior2nd_Tencode', u'BsmtCond_Tencode|GarageFinish_Tencode', u'3SsnPorch|Exterior2nd_Tencode', u'LotArea|RoofMatl_Tencode', u'FullBath|Functional_Tencode', u'Street_Tencode|BldgType_Tencode', u'ExterCond_Tencode|Fence_Tencode', u'RoofMatl_Tencode|BsmtCond_Tencode', u'BsmtUnfSF|Exterior2nd_Tencode', u'Exterior1st_Tencode|Fireplaces', u'3SsnPorch|GarageType_Tencode', u'Foundation_Tencode|PavedDrive_Tencode', u'LotConfig_Tencode|BsmtFinType1_Tencode', u'YearRemodAdd|SaleType_Tencode', u'HeatingQC_Tencode|GrLivArea', u'BsmtFullBath|BsmtFinSF1', u'TotRmsAbvGrd|LandContour_Tencode', u'EnclosedPorch|Exterior1st_Tencode', u'SaleCondition_Tencode|BsmtCond_Tencode', u'3SsnPorch', u'Heating_Tencode|TotalBsmtSF', u'MiscFeature_Tencode|YearBuilt', u'BsmtFinType2_Tencode|BsmtHalfBath', u'LotFrontage|MSZoning_Tencode', u'BsmtFullBath|Condition1_Tencode', u'EnclosedPorch|PoolQC_Tencode', u'KitchenQual_Tencode|Fireplaces', u'LotConfig_Tencode|LotShape_Tencode', u'GarageYrBlt|YearBuilt', u'LowQualFinSF|GarageCars', u'3SsnPorch|ExterCond_Tencode', u'Neighborhood_Tencode|MasVnrType_Tencode', u'MSSubClass|ScreenPorch', u'KitchenAbvGr|LotShape_Tencode', u'2ndFlrSF|LotConfig_Tencode', u'Street_Tencode|HouseStyle_Tencode', u'SaleCondition_Tencode|GarageCars', u'HouseStyle_Tencode|PoolQC_Tencode', u'LotConfig_Tencode|TotRmsAbvGrd', u'1stFlrSF|SaleType_Tencode', u'BsmtUnfSF|BsmtFinSF2', u'3SsnPorch|OverallQual', u'BsmtFinType2_Tencode|SaleCondition_Tencode', u'BsmtFinSF1|BedroomAbvGr', u'BsmtFinType2_Tencode|BsmtExposure_Tencode', u'ExterCond_Tencode|GarageCars', u'BsmtUnfSF', u'ExterCond_Tencode', u'GarageYrBlt|Exterior1st_Tencode', u'MoSold|Functional_Tencode', u'RoofStyle_Tencode|YearBuilt', u'MoSold|KitchenQual_Tencode', u'3SsnPorch|OpenPorchSF', u'GarageCond_Tencode|Neighborhood_Tencode', u'Utilities_Tencode|BsmtCond_Tencode', u'MiscFeature_Tencode|SaleType_Tencode', u'YrSold|GarageArea', u'MoSold|BsmtFinSF1', u'BsmtFinType1_Tencode|LandContour_Tencode', u'KitchenQual_Tencode|YearBuilt', u'OpenPorchSF|Exterior2nd_Tencode', u'Utilities_Tencode|Fireplaces', u'YearRemodAdd|LotFrontage', u'3SsnPorch|SaleType_Tencode', u'FireplaceQu_Tencode|ScreenPorch', u'2ndFlrSF|PoolQC_Tencode', u'Condition2_Tencode|LotFrontage', u'SaleCondition_Tencode|ScreenPorch', u'3SsnPorch|MasVnrArea', u'BsmtFinType2_Tencode|TotRmsAbvGrd', u'Exterior2nd_Tencode|LandContour_Tencode', u'LotArea|GarageFinish_Tencode', u'Heating_Tencode|SaleCondition_Tencode', u'HeatingQC_Tencode|YearRemodAdd', u'OverallQual|Condition1_Tencode', u'Street_Tencode|YrSold', u'SaleCondition_Tencode|PoolQC_Tencode', u'Condition2_Tencode|Utilities_Tencode', u'KitchenQual_Tencode|GarageType_Tencode', u'ExterQual_Tencode|GarageFinish_Tencode', u'GarageQual_Tencode|BsmtHalfBath', u'3SsnPorch|BsmtFinType1_Tencode', u'PoolQC_Tencode|Fence_Tencode', u'Street_Tencode|MSZoning_Tencode', u'GarageCond_Tencode|GarageFinish_Tencode', u'GarageCond_Tencode|BsmtFinSF2', u'Exterior2nd_Tencode|GarageArea', u'2ndFlrSF|BsmtHalfBath', u'GarageCond_Tencode|WoodDeckSF', u'FullBath|Fence_Tencode', u'ExterQual_Tencode|RoofMatl_Tencode', u'BsmtUnfSF|ExterQual_Tencode', u'FullBath|LowQualFinSF', u'TotalBsmtSF|ScreenPorch', u'BsmtFinType1_Tencode|Condition1_Tencode', u'Alley_Tencode|TotRmsAbvGrd', u'FireplaceQu_Tencode|ExterQual_Tencode', u'OverallQual|Fireplaces', u'SaleCondition_Tencode|Functional_Tencode', u'YearBuilt', u'HeatingQC_Tencode|Electrical_Tencode', u'Exterior1st_Tencode|MSZoning_Tencode', u'BsmtFinType2_Tencode|BsmtFinSF2', u'BsmtFinType2_Tencode|BsmtFinSF1', u'BsmtFullBath|RoofMatl_Tencode', u'ExterCond_Tencode|BldgType_Tencode', u'EnclosedPorch|Alley_Tencode', u'OverallQual|BsmtHalfBath', u'MoSold|MasVnrType_Tencode', u'KitchenQual_Tencode|GarageArea', u'Heating_Tencode|BldgType_Tencode', u'FullBath|BldgType_Tencode', u'HeatingQC_Tencode', u'GarageYrBlt|BsmtCond_Tencode', u'Foundation_Tencode|1stFlrSF', u'KitchenQual_Tencode|Alley_Tencode', u'Heating_Tencode|LotArea', u'TotRmsAbvGrd|YrSold', u'Fireplaces|PoolQC_Tencode', u'SaleCondition_Tencode|MSSubClass', u'GarageYrBlt|YearRemodAdd', u'Heating_Tencode|LotConfig_Tencode', u'SaleType_Tencode|GarageArea', u'BsmtFinType2_Tencode|Condition1_Tencode', u'Electrical_Tencode|GarageQual_Tencode', u'2ndFlrSF|GarageArea', u'BsmtUnfSF|BsmtCond_Tencode', u'BsmtCond_Tencode|MasVnrType_Tencode', u'BsmtCond_Tencode|YrSold', u'Exterior2nd_Tencode|Fireplaces', u'HalfBath|GarageArea', u'YearRemodAdd|GarageType_Tencode', u'BsmtQual_Tencode|Condition1_Tencode', u'HeatingQC_Tencode|BsmtQual_Tencode', u'GarageCond_Tencode|BsmtHalfBath', u'GrLivArea|Street_Tencode', u'BsmtFinType2_Tencode|PavedDrive_Tencode', u'KitchenAbvGr|HalfBath', u'GrLivArea|LotConfig_Tencode', u'MSSubClass|SaleType_Tencode', u'SaleCondition_Tencode|GarageQual_Tencode', u'Condition2_Tencode|BsmtFinType2_Tencode', u'Heating_Tencode|BsmtFinSF2', u'GrLivArea|OpenPorchSF', u'FireplaceQu_Tencode|FullBath', u'LotFrontage|2ndFlrSF', u'MSSubClass|OverallCond', u'BsmtFinSF1|GarageArea', u'FireplaceQu_Tencode|MSZoning_Tencode', u'Electrical_Tencode|RoofStyle_Tencode', u'2ndFlrSF|WoodDeckSF', u'BsmtUnfSF|MasVnrArea', u'BsmtQual_Tencode|TotalBsmtSF', u'Utilities_Tencode|GarageArea', u'FireplaceQu_Tencode|CentralAir_Tencode', u'ExterQual_Tencode|Condition1_Tencode', u'Street_Tencode|PoolArea', u'CentralAir_Tencode|MSSubClass', u'BsmtFullBath|YrSold', u'EnclosedPorch|HalfBath', u'ExterCond_Tencode|1stFlrSF', u'GarageYrBlt|BsmtFullBath', u'GarageYrBlt|BsmtUnfSF', u'ExterCond_Tencode|LowQualFinSF', u'Foundation_Tencode|ScreenPorch', u'Exterior2nd_Tencode|TotalBsmtSF', u'HeatingQC_Tencode|GarageCond_Tencode', u'LotArea|MiscFeature_Tencode', u'GarageType_Tencode|LandSlope_Tencode', u'Condition2_Tencode|TotalBsmtSF', u'MoSold|RoofStyle_Tencode', u'PoolArea|Neighborhood_Tencode', u'Condition2_Tencode|LandContour_Tencode', u'BsmtFullBath|MoSold', u'LotArea|LandSlope_Tencode', u'BsmtUnfSF|RoofStyle_Tencode', u'Condition2_Tencode|Condition1_Tencode', u'MoSold|LotShape_Tencode', u'Condition2_Tencode|SaleType_Tencode', u'YearRemodAdd|MoSold', u'LotArea|Functional_Tencode', u'OverallCond|BsmtCond_Tencode', u'BsmtExposure_Tencode|SaleType_Tencode', u'FullBath|LotConfig_Tencode', u'BsmtCond_Tencode|BsmtFinSF1', u'GarageYrBlt|BsmtQual_Tencode', u'TotalBsmtSF|GarageArea', u'2ndFlrSF|LandSlope_Tencode', u'GrLivArea|HalfBath', u'HeatingQC_Tencode|RoofStyle_Tencode', u'Exterior1st_Tencode|PavedDrive_Tencode', u'MasVnrArea|GarageArea', u'EnclosedPorch|BsmtExposure_Tencode', u'YearRemodAdd|OpenPorchSF', u'KitchenAbvGr|GarageCars', u'Condition2_Tencode|MSZoning_Tencode', u'BsmtUnfSF|TotRmsAbvGrd', u'FireplaceQu_Tencode|GarageType_Tencode', u'PoolArea|Exterior2nd_Tencode', u'BsmtFinType2_Tencode|BedroomAbvGr', u'LotFrontage|BedroomAbvGr', u'FireplaceQu_Tencode|PoolArea', u'KitchenQual_Tencode|Foundation_Tencode', u'MiscVal|Condition1_Tencode', u'3SsnPorch|ExterQual_Tencode', u'Fireplaces|YrSold', u'RoofStyle_Tencode|YrSold', u'MSSubClass|LandSlope_Tencode', u'RoofStyle_Tencode|Alley_Tencode', u'MiscVal|BsmtFinSF1', u'MiscFeature_Tencode|BsmtQual_Tencode', u'YearBuilt|LandSlope_Tencode', u'HalfBath|LotShape_Tencode', u'ExterQual_Tencode|ScreenPorch', u'LotArea|Foundation_Tencode', u'3SsnPorch|SaleCondition_Tencode', u'3SsnPorch|1stFlrSF', u'GrLivArea|RoofMatl_Tencode', u'BsmtFullBath|TotRmsAbvGrd', u'Exterior1st_Tencode|LowQualFinSF', u'EnclosedPorch|TotalBsmtSF', u'BsmtQual_Tencode|Alley_Tencode', u'KitchenAbvGr|PavedDrive_Tencode', u'GrLivArea|LandSlope_Tencode', u'YrSold|SaleType_Tencode', u'PoolArea|1stFlrSF', u'Heating_Tencode|Exterior1st_Tencode', u'Street_Tencode|FullBath', u'Foundation_Tencode|MSZoning_Tencode', u'LotArea|Neighborhood_Tencode', u'BsmtFinType2_Tencode|BsmtQual_Tencode', u'CentralAir_Tencode|YearBuilt', u'ExterQual_Tencode|MSZoning_Tencode', u'MiscFeature_Tencode|BsmtFinSF2', u'WoodDeckSF|BsmtExposure_Tencode', u'KitchenAbvGr|GarageCond_Tencode', u'MoSold|HouseStyle_Tencode', u'GarageYrBlt|BsmtFinType1_Tencode', u'Heating_Tencode|BedroomAbvGr', u'Neighborhood_Tencode|LandContour_Tencode', u'BsmtFullBath|KitchenQual_Tencode', u'OpenPorchSF|PoolArea', u'YrSold|GarageCars', u'CentralAir_Tencode|BsmtExposure_Tencode', u'BldgType_Tencode|PoolQC_Tencode', u'OpenPorchSF|WoodDeckSF', u'SaleCondition_Tencode|BsmtHalfBath', u'FireplaceQu_Tencode|BldgType_Tencode', u'KitchenAbvGr|Exterior1st_Tencode', u'TotRmsAbvGrd|GarageCars', u'FireplaceQu_Tencode|BsmtExposure_Tencode', u'LotArea|PoolQC_Tencode', u'Electrical_Tencode|Neighborhood_Tencode', u'LotShape_Tencode', u'PoolArea|Fireplaces', u'BsmtFullBath|GarageFinish_Tencode', u'ExterQual_Tencode|CentralAir_Tencode', u'Condition2_Tencode|HalfBath', u'CentralAir_Tencode|GarageType_Tencode', u'LotFrontage|RoofMatl_Tencode', u'Street_Tencode|SaleCondition_Tencode', u'HalfBath|BedroomAbvGr', u'GarageYrBlt|WoodDeckSF', u'MoSold|GarageQual_Tencode', u'Fireplaces|GarageCars', u'3SsnPorch|KitchenQual_Tencode', u'LotArea|YearRemodAdd', u'KitchenAbvGr|ScreenPorch', u'MiscVal|TotalBsmtSF', u'Electrical_Tencode|MSZoning_Tencode', u'PavedDrive_Tencode|Fireplaces', u'LotConfig_Tencode|PavedDrive_Tencode', u'Foundation_Tencode|Neighborhood_Tencode', u'MoSold|Fence_Tencode', u'EnclosedPorch|Functional_Tencode', u'HeatingQC_Tencode|HalfBath', u'YrSold|BsmtExposure_Tencode', u'KitchenQual_Tencode|WoodDeckSF', u'CentralAir_Tencode|HalfBath', u'GarageYrBlt|Foundation_Tencode', u'BsmtExposure_Tencode|GarageCars', u'MSZoning_Tencode|LotShape_Tencode', u'MSSubClass|WoodDeckSF', u'MoSold|Foundation_Tencode', u'HouseStyle_Tencode|SaleType_Tencode', u'Functional_Tencode|LotShape_Tencode', u'Condition2_Tencode|WoodDeckSF', u'MSSubClass|YrSold', u'HalfBath|Functional_Tencode', u'FireplaceQu_Tencode|GarageFinish_Tencode', u'YearBuilt|RoofMatl_Tencode', u'GrLivArea|BsmtCond_Tencode', u'GarageYrBlt|PoolArea', u'GarageCond_Tencode|GarageQual_Tencode', u'FullBath|MiscVal', u'KitchenAbvGr|GarageQual_Tencode', u'Heating_Tencode|KitchenAbvGr', u'MasVnrArea|ScreenPorch', u'MiscFeature_Tencode|Functional_Tencode', u'MiscFeature_Tencode|PavedDrive_Tencode', u'LandContour_Tencode', u'GrLivArea|Foundation_Tencode', u'MiscFeature_Tencode|Condition1_Tencode', u'GarageCond_Tencode|MiscVal', u'GarageYrBlt|FullBath', u'YearBuilt|ScreenPorch', u'MiscFeature_Tencode|Neighborhood_Tencode', u'OpenPorchSF|Fireplaces', u'2ndFlrSF|SaleType_Tencode', u'YearRemodAdd|PoolQC_Tencode', u'Heating_Tencode|PavedDrive_Tencode', u'ScreenPorch|LandContour_Tencode', u'CentralAir_Tencode|BsmtFinSF1', u'CentralAir_Tencode|LotShape_Tencode', u'CentralAir_Tencode|BsmtFinSF2', u'SaleCondition_Tencode|KitchenQual_Tencode', u'KitchenAbvGr|TotRmsAbvGrd', u'OpenPorchSF|TotalBsmtSF', u'Heating_Tencode|ExterQual_Tencode', u'Foundation_Tencode|Exterior1st_Tencode', u'BsmtFullBath|LowQualFinSF', u'LowQualFinSF|BsmtFinSF2', u'LowQualFinSF|BsmtFinSF1', u'YearRemodAdd', u'MiscFeature_Tencode|Exterior1st_Tencode', u'FireplaceQu_Tencode|TotalBsmtSF', u'Street_Tencode|OverallCond', u'YearRemodAdd|MasVnrType_Tencode', u'BsmtFullBath|ScreenPorch', u'BsmtFullBath|GarageArea', u'BsmtFinType2_Tencode|GarageCars', u'BsmtUnfSF|LandSlope_Tencode', u'GarageYrBlt|GarageType_Tencode', u'LowQualFinSF|LandSlope_Tencode', u'OpenPorchSF|Exterior1st_Tencode', u'KitchenQual_Tencode|MiscVal', u'LotFrontage|Alley_Tencode', u'FireplaceQu_Tencode|HouseStyle_Tencode', u'Condition2_Tencode|MoSold', u'Heating_Tencode|HeatingQC_Tencode', u'Street_Tencode|ScreenPorch', u'ExterCond_Tencode|Functional_Tencode', u'GarageCond_Tencode|SaleType_Tencode', u'GarageYrBlt|LowQualFinSF', u'GarageYrBlt|GarageFinish_Tencode', u'LotArea|ScreenPorch', u'BsmtFinSF1|GarageCars', u'KitchenAbvGr|MasVnrArea', u'MiscFeature_Tencode|ExterCond_Tencode', u'SaleCondition_Tencode|Fireplaces', u'BsmtFullBath|PavedDrive_Tencode', u'YearBuilt|GarageArea', u'RoofMatl_Tencode', u'LotFrontage|LandContour_Tencode', u'Exterior2nd_Tencode|PoolQC_Tencode', u'HouseStyle_Tencode|PavedDrive_Tencode', u'HouseStyle_Tencode|1stFlrSF', u'YearRemodAdd|RoofStyle_Tencode', u'KitchenQual_Tencode|Utilities_Tencode', u'MoSold|BldgType_Tencode', u'ExterCond_Tencode|GarageQual_Tencode', u'GarageFinish_Tencode', u'MiscVal', u'FireplaceQu_Tencode|MiscVal', u'MasVnrArea|Neighborhood_Tencode', u'RoofStyle_Tencode|PoolArea', u'LotFrontage|ExterQual_Tencode', u'FireplaceQu_Tencode|BsmtUnfSF', u'HeatingQC_Tencode|SaleType_Tencode', u'BsmtHalfBath|LandContour_Tencode', u'LandSlope_Tencode|GarageCars', u'LotConfig_Tencode|BldgType_Tencode', u'MiscFeature_Tencode|HouseStyle_Tencode', u'YrSold', u'GarageCond_Tencode|BsmtUnfSF', u'RoofStyle_Tencode|BedroomAbvGr', u'GrLivArea|BsmtUnfSF', u'ExterCond_Tencode|Exterior2nd_Tencode', u'LotFrontage|KitchenQual_Tencode', u'PoolQC_Tencode', u'LotConfig_Tencode|SaleType_Tencode', u'BsmtFullBath|BsmtFinType1_Tencode', u'1stFlrSF|Neighborhood_Tencode', u'LotConfig_Tencode|MiscVal', u'BsmtExposure_Tencode', u'GarageCond_Tencode|BldgType_Tencode', u'OverallQual|PoolQC_Tencode', u'BsmtFullBath|GarageQual_Tencode', u'GarageCond_Tencode|HouseStyle_Tencode', u'LotFrontage|BsmtUnfSF', u'Alley_Tencode|1stFlrSF', u'Exterior2nd_Tencode|BsmtFinType1_Tencode', u'LandSlope_Tencode|MasVnrArea', u'LotArea|Exterior2nd_Tencode', u'HeatingQC_Tencode|GarageCars', u'OverallQual|WoodDeckSF', u'Fireplaces|ScreenPorch', u'OverallQual|CentralAir_Tencode', u'GarageQual_Tencode|GarageFinish_Tencode', u'OpenPorchSF|ExterCond_Tencode', u'ExterQual_Tencode|Alley_Tencode', u'MoSold|CentralAir_Tencode', u'LotFrontage|FullBath', u'GarageYrBlt|LandContour_Tencode', u'EnclosedPorch|WoodDeckSF', u'GarageYrBlt|OverallCond', u'LotArea|BedroomAbvGr', u'BsmtFinType2_Tencode|BsmtFullBath', u'LotConfig_Tencode|GarageCars', u'Street_Tencode|BsmtFullBath', u'KitchenAbvGr|Neighborhood_Tencode', u'KitchenQual_Tencode|LotShape_Tencode', u'BedroomAbvGr|GarageArea', u'BsmtFullBath|Functional_Tencode', u'KitchenAbvGr|ExterQual_Tencode', u'GrLivArea|Exterior2nd_Tencode', u'LotFrontage|MiscVal', u'MiscFeature_Tencode|ScreenPorch', u'LotFrontage|MSSubClass', u'HouseStyle_Tencode|GarageFinish_Tencode', u'OverallQual|GarageFinish_Tencode', u'Exterior1st_Tencode|MasVnrType_Tencode', u'LotConfig_Tencode|Neighborhood_Tencode', u'RoofMatl_Tencode|GarageArea', u'BsmtHalfBath|LotShape_Tencode', u'Condition2_Tencode|CentralAir_Tencode', u'YearRemodAdd|TotRmsAbvGrd', u'GrLivArea|LotShape_Tencode', u'LandSlope_Tencode|Fireplaces', u'1stFlrSF|LandContour_Tencode', u'OverallQual|BldgType_Tencode', u'OverallCond|GarageCars', u'EnclosedPorch|MSZoning_Tencode', u'GarageYrBlt|GarageArea', u'RoofMatl_Tencode|ScreenPorch', u'MiscFeature_Tencode|LotFrontage', u'GarageYrBlt|LotShape_Tencode', u'EnclosedPorch|YearBuilt', u'RoofMatl_Tencode|TotalBsmtSF', u'OverallQual|Electrical_Tencode', u'OverallQual|BsmtExposure_Tencode', u'HouseStyle_Tencode|BsmtHalfBath', u'LotFrontage|Condition1_Tencode', u'PavedDrive_Tencode|TotRmsAbvGrd', u'GarageYrBlt|MasVnrType_Tencode', u'RoofMatl_Tencode|BsmtHalfBath', u'BsmtCond_Tencode|MSZoning_Tencode', u'BsmtFinType1_Tencode|Fence_Tencode', u'GarageCond_Tencode|GarageType_Tencode', u'BsmtUnfSF|MSSubClass', u'HouseStyle_Tencode|BsmtQual_Tencode', u'RoofStyle_Tencode|Condition1_Tencode', u'EnclosedPorch|KitchenQual_Tencode', u'Electrical_Tencode|GarageFinish_Tencode', u'LowQualFinSF|GarageArea', u'PoolArea|TotalBsmtSF', u'2ndFlrSF|MSSubClass', u'Street_Tencode|LotFrontage', u'BldgType_Tencode|ScreenPorch', u'MSSubClass|PoolArea', u'SaleCondition_Tencode|CentralAir_Tencode', u'Condition1_Tencode|BsmtExposure_Tencode', u'GarageType_Tencode|WoodDeckSF', u'YearRemodAdd|PavedDrive_Tencode', u'ExterCond_Tencode|LandContour_Tencode', u'PoolArea|PavedDrive_Tencode', u'FireplaceQu_Tencode|LotShape_Tencode', u'2ndFlrSF|MSZoning_Tencode', u'GarageYrBlt|LotConfig_Tencode', u'PoolArea|BsmtFinSF2', u'LotFrontage|Fence_Tencode', u'PoolArea|BsmtFinSF1', u'KitchenQual_Tencode|LandSlope_Tencode', u'RoofStyle_Tencode|Exterior2nd_Tencode', u'BsmtFullBath|LandSlope_Tencode', u'HeatingQC_Tencode|MasVnrType_Tencode', u'3SsnPorch|BsmtFinType2_Tencode', u'OverallCond|Neighborhood_Tencode', u'ExterQual_Tencode', u'LotConfig_Tencode|Functional_Tencode', u'Street_Tencode|Exterior2nd_Tencode', u'BsmtUnfSF|GarageCars', u'MiscFeature_Tencode|Electrical_Tencode', u'CentralAir_Tencode|BsmtFinType1_Tencode', u'Utilities_Tencode|LandSlope_Tencode', u'Alley_Tencode|BedroomAbvGr', u'PavedDrive_Tencode|BsmtFinSF1', u'PavedDrive_Tencode|BsmtFinSF2', u'Heating_Tencode|MoSold', u'EnclosedPorch|1stFlrSF', u'BsmtFinType2_Tencode|GarageQual_Tencode', u'MoSold|PoolQC_Tencode', u'OverallQual|RoofStyle_Tencode', u'BsmtFullBath|WoodDeckSF', u'HouseStyle_Tencode|MasVnrArea', u'MiscFeature_Tencode|RoofMatl_Tencode', u'PoolArea|LandContour_Tencode', u'LotFrontage|Foundation_Tencode', u'3SsnPorch|GarageYrBlt', u'Electrical_Tencode', u'SaleType_Tencode', u'ExterQual_Tencode|PoolQC_Tencode', u'SaleCondition_Tencode|GarageCond_Tencode', u'PavedDrive_Tencode|Alley_Tencode', u'HeatingQC_Tencode|PavedDrive_Tencode', u'SaleCondition_Tencode|Fence_Tencode', u'RoofMatl_Tencode|BldgType_Tencode', u'1stFlrSF|LotShape_Tencode', u'MoSold|OpenPorchSF', u'3SsnPorch|BsmtCond_Tencode', u'RoofStyle_Tencode|BsmtQual_Tencode', u'Heating_Tencode', u'LotArea|BsmtFinType1_Tencode', u'3SsnPorch|LandContour_Tencode', u'SaleCondition_Tencode|GarageArea', u'OpenPorchSF', u'LotArea|LotFrontage', u'ExterCond_Tencode|Fireplaces', u'HeatingQC_Tencode|1stFlrSF', u'CentralAir_Tencode|BsmtHalfBath', u'BsmtFinType2_Tencode|Functional_Tencode', u'BsmtFinType2_Tencode|FullBath', u'Condition1_Tencode|ScreenPorch', u'RoofMatl_Tencode|LandSlope_Tencode', u'Foundation_Tencode|BsmtUnfSF', u'GarageType_Tencode|BldgType_Tencode', u'GarageYrBlt|Condition2_Tencode', u'OverallQual|BsmtUnfSF', u'RoofMatl_Tencode|Condition1_Tencode', u'Street_Tencode|ExterCond_Tencode', u'FullBath|BsmtFinSF1', u'GarageYrBlt|PavedDrive_Tencode', u'FireplaceQu_Tencode|Fireplaces', u'BsmtFullBath|SaleCondition_Tencode', u'Utilities_Tencode|WoodDeckSF', u'Foundation_Tencode|Functional_Tencode', u'MSSubClass|BsmtHalfBath', u'RoofStyle_Tencode|TotalBsmtSF', u'GrLivArea|MasVnrArea', u'Condition2_Tencode|HouseStyle_Tencode', u'Street_Tencode|MoSold', u'EnclosedPorch|Foundation_Tencode', u'KitchenQual_Tencode|HalfBath', u'LandSlope_Tencode|Fence_Tencode', u'Condition2_Tencode|RoofMatl_Tencode', u'MasVnrType_Tencode|MSZoning_Tencode', u'Electrical_Tencode|PavedDrive_Tencode', u'BsmtFinType2_Tencode|KitchenQual_Tencode', u'GrLivArea|BsmtExposure_Tencode', u'MSSubClass|LotConfig_Tencode', u'Heating_Tencode|OverallCond', u'MiscFeature_Tencode|BsmtFinType1_Tencode', u'CentralAir_Tencode|YrSold', u'SaleCondition_Tencode|KitchenAbvGr', u'OverallQual|YrSold', u'LotFrontage|RoofStyle_Tencode', u'Heating_Tencode|MasVnrArea', u'BsmtFullBath|MasVnrType_Tencode', u'BsmtHalfBath|SaleType_Tencode', u'EnclosedPorch|PoolArea', u'Electrical_Tencode|PoolQC_Tencode', u'Electrical_Tencode|LotShape_Tencode', u'OverallQual|Exterior1st_Tencode', u'2ndFlrSF|GarageType_Tencode', u'MiscFeature_Tencode|MasVnrType_Tencode', u'BsmtQual_Tencode|HalfBath', u'Fireplaces', u'HeatingQC_Tencode|BsmtHalfBath', u'LandSlope_Tencode|TotRmsAbvGrd', u'LotConfig_Tencode|1stFlrSF', u'TotRmsAbvGrd|BsmtFinSF2', u'BsmtQual_Tencode|MSZoning_Tencode', u'GarageCond_Tencode|ExterQual_Tencode', u'MoSold|MasVnrArea', u'GarageQual_Tencode|Fence_Tencode', u'3SsnPorch|Electrical_Tencode', u'Heating_Tencode|PoolQC_Tencode', u'Condition2_Tencode|YrSold', u'Exterior1st_Tencode|LandSlope_Tencode', u'HeatingQC_Tencode|CentralAir_Tencode', u'MiscFeature_Tencode|FireplaceQu_Tencode', u'Heating_Tencode|Street_Tencode', u'YearRemodAdd|BedroomAbvGr', u'Condition2_Tencode|OpenPorchSF', u'HeatingQC_Tencode|Alley_Tencode', u'1stFlrSF|MiscVal', u'Utilities_Tencode|YrSold', u'EnclosedPorch|GarageType_Tencode', u'GrLivArea|BsmtQual_Tencode', u'YearRemodAdd|Foundation_Tencode', u'BsmtFinType2_Tencode|WoodDeckSF', u'ExterCond_Tencode|Exterior1st_Tencode', u'Heating_Tencode|Neighborhood_Tencode', u'PoolArea|TotRmsAbvGrd', u'BsmtFinType2_Tencode|MSZoning_Tencode', u'TotalBsmtSF|LandContour_Tencode', u'Neighborhood_Tencode|PoolQC_Tencode', u'HalfBath|BsmtFinSF2', u'Street_Tencode|MSSubClass', u'GrLivArea|ExterQual_Tencode', u'BsmtFullBath|2ndFlrSF', u'KitchenQual_Tencode|PavedDrive_Tencode', u'KitchenAbvGr|PoolArea', u'SaleCondition_Tencode|Utilities_Tencode', u'Alley_Tencode', u'KitchenQual_Tencode|CentralAir_Tencode', u'Street_Tencode|BsmtCond_Tencode', u'FullBath|BsmtQual_Tencode', u'KitchenQual_Tencode|LowQualFinSF', u'GarageCond_Tencode|RoofStyle_Tencode', u'GrLivArea|WoodDeckSF', u'GrLivArea|BsmtFinSF2', u'GrLivArea|BsmtFinSF1', u'YearBuilt|GarageFinish_Tencode', u'Fireplaces|LandContour_Tencode', u'SaleCondition_Tencode|ExterQual_Tencode', u'LowQualFinSF|TotalBsmtSF', u'Heating_Tencode|Utilities_Tencode', u'GarageFinish_Tencode|BsmtHalfBath', u'OpenPorchSF|Fence_Tencode', u'BsmtUnfSF|TotalBsmtSF', u'GarageQual_Tencode', u'BsmtUnfSF|BsmtFinSF1', u'BsmtQual_Tencode|Fireplaces', u'SaleCondition_Tencode|TotRmsAbvGrd', u'KitchenAbvGr|HouseStyle_Tencode', u'GarageCond_Tencode|Condition1_Tencode', u'YearBuilt|Utilities_Tencode', u'OverallCond|Functional_Tencode', u'LandSlope_Tencode|BsmtHalfBath', u'LotArea|OpenPorchSF', u'Condition2_Tencode|GarageCars', u'Condition2_Tencode|Functional_Tencode', u'FireplaceQu_Tencode|GarageCars', u'BsmtQual_Tencode|LotConfig_Tencode', u'KitchenQual_Tencode|GarageCond_Tencode', u'RoofStyle_Tencode|Utilities_Tencode', u'YearRemodAdd|LandContour_Tencode', u'GrLivArea|PoolQC_Tencode', u'GarageYrBlt|ScreenPorch', u'GarageCond_Tencode|GarageArea', u'BsmtFinSF2|ScreenPorch', u'MoSold|LandSlope_Tencode', u'BsmtFinType2_Tencode|YearBuilt', u'FullBath|RoofStyle_Tencode', u'MoSold|BedroomAbvGr', u'MSSubClass|Exterior2nd_Tencode', u'FullBath|Fireplaces', u'BldgType_Tencode|Condition1_Tencode', u'Alley_Tencode|GarageFinish_Tencode', u'BsmtFullBath|LotShape_Tencode', u'KitchenAbvGr|OpenPorchSF', u'YearBuilt|PoolQC_Tencode', u'BsmtFullBath|KitchenAbvGr', u'GarageYrBlt|SaleCondition_Tencode', u'OverallQual|Fence_Tencode', u'WoodDeckSF|BsmtHalfBath', u'FireplaceQu_Tencode|Exterior2nd_Tencode', u'GarageCond_Tencode|LotShape_Tencode', u'ExterCond_Tencode|BsmtFinType1_Tencode', u'3SsnPorch|OverallCond', u'BsmtFullBath|Exterior2nd_Tencode', u'TotalBsmtSF|BsmtFinSF1', u'TotalBsmtSF|BsmtFinSF2', u'GarageCond_Tencode|PoolQC_Tencode', u'Neighborhood_Tencode|GarageArea', u'GarageYrBlt|Functional_Tencode', u'BsmtFinType1_Tencode|MasVnrType_Tencode', u'BsmtUnfSF|WoodDeckSF', u'3SsnPorch|PoolArea', u'GarageFinish_Tencode|Fireplaces', u'MSSubClass|GarageType_Tencode', u'BsmtFinType2_Tencode|MasVnrType_Tencode', u'GrLivArea|MoSold', u'Electrical_Tencode|GarageType_Tencode', u'BsmtFinType2_Tencode|LotShape_Tencode', u'BsmtFinType2_Tencode|LotConfig_Tencode', u'BsmtFullBath|FireplaceQu_Tencode', u'Functional_Tencode', u'PoolArea|GarageType_Tencode', u'BsmtFinType1_Tencode|OverallCond', u'ScreenPorch|GarageArea', u'HouseStyle_Tencode|Fireplaces', u'YearRemodAdd|GarageCars', u'Alley_Tencode|Condition1_Tencode', u'MiscFeature_Tencode|GarageQual_Tencode', u'KitchenQual_Tencode|GarageQual_Tencode', u'MoSold|LandContour_Tencode', u'OpenPorchSF|Condition1_Tencode', u'GrLivArea|BsmtFinType1_Tencode', u'GarageQual_Tencode|MSSubClass', u'3SsnPorch|TotalBsmtSF', u'MiscFeature_Tencode|GarageType_Tencode', u'Functional_Tencode|BsmtExposure_Tencode', u'GarageYrBlt|Utilities_Tencode', u'OverallQual|MSZoning_Tencode', u'BsmtUnfSF|LandContour_Tencode', u'OverallQual|BsmtFinSF2', u'OpenPorchSF|BldgType_Tencode', u'GarageCond_Tencode|MasVnrArea', u'Fireplaces|Neighborhood_Tencode', u'MSZoning_Tencode|PoolQC_Tencode', u'PavedDrive_Tencode|PoolQC_Tencode', u'OverallCond|PoolQC_Tencode', u'Heating_Tencode|BsmtFinType1_Tencode', u'OverallQual|LotArea', u'YearBuilt|Condition1_Tencode', u'HouseStyle_Tencode|GarageArea', u'KitchenQual_Tencode|TotRmsAbvGrd', u'BsmtUnfSF|BsmtQual_Tencode', u'SaleCondition_Tencode|YearBuilt', u'KitchenAbvGr|2ndFlrSF', u'YearRemodAdd|SaleCondition_Tencode', u'Foundation_Tencode|2ndFlrSF', u'LotArea|FullBath', u'FireplaceQu_Tencode', u'KitchenQual_Tencode', u'GarageQual_Tencode|GarageArea', u'FullBath|Condition1_Tencode', u'HalfBath|TotalBsmtSF', u'KitchenQual_Tencode|BsmtQual_Tencode', u'YrSold|LandContour_Tencode', u'EnclosedPorch|BsmtCond_Tencode', u'CentralAir_Tencode|Neighborhood_Tencode', u'LotArea|PoolArea', u'FireplaceQu_Tencode|BsmtFinSF1', u'Exterior1st_Tencode|SaleType_Tencode', u'1stFlrSF|GarageFinish_Tencode', u'GarageCond_Tencode|BsmtFinSF1', u'Exterior1st_Tencode|HalfBath', u'Condition2_Tencode|BsmtHalfBath', u'Street_Tencode|Condition1_Tencode', u'Electrical_Tencode|Exterior1st_Tencode', u'BsmtUnfSF|RoofMatl_Tencode', u'Street_Tencode|1stFlrSF', u'LotConfig_Tencode|GarageFinish_Tencode', u'3SsnPorch|2ndFlrSF', u'Exterior1st_Tencode|OverallCond', u'ExterQual_Tencode|SaleType_Tencode', u'BsmtUnfSF|PavedDrive_Tencode', u'PavedDrive_Tencode', u'KitchenQual_Tencode|ExterCond_Tencode', u'2ndFlrSF|ScreenPorch', u'LowQualFinSF|GarageType_Tencode', u'Condition2_Tencode|GarageCond_Tencode', u'3SsnPorch|Condition2_Tencode', u'LotFrontage|YrSold', u'KitchenQual_Tencode|MasVnrArea', u'OverallQual|PoolArea', u'BsmtFinSF1|SaleType_Tencode', u'RoofMatl_Tencode|YrSold', u'ExterQual_Tencode|MasVnrArea', u'ExterCond_Tencode|OverallCond', u'Alley_Tencode|MiscVal', u'BsmtFinSF1|BsmtExposure_Tencode', u'GarageYrBlt|RoofMatl_Tencode', u'BsmtUnfSF|GarageQual_Tencode', u'ExterCond_Tencode|MiscVal', u'GarageYrBlt|MoSold', u'OpenPorchSF|TotRmsAbvGrd', u'FireplaceQu_Tencode|YrSold', u'Condition2_Tencode|Fireplaces', u'OverallCond|WoodDeckSF', u'BsmtUnfSF|CentralAir_Tencode', u'OverallQual|MiscFeature_Tencode', u'MoSold|GarageCars', u'GarageYrBlt|OpenPorchSF', u'ExterQual_Tencode|BsmtFinSF1', u'ExterQual_Tencode|BsmtFinSF2', u'YearRemodAdd|KitchenAbvGr', u'YearRemodAdd|RoofMatl_Tencode', u'KitchenAbvGr|SaleType_Tencode', u'FireplaceQu_Tencode|KitchenQual_Tencode', u'BsmtCond_Tencode|Condition1_Tencode', u'TotalBsmtSF|Neighborhood_Tencode', u'LotFrontage|KitchenAbvGr', u'LotArea|Fence_Tencode', u'WoodDeckSF|1stFlrSF', u'GarageYrBlt|BldgType_Tencode', u'Foundation_Tencode|CentralAir_Tencode', u'MoSold|MSSubClass', u'Exterior1st_Tencode|HouseStyle_Tencode', u'BsmtFinType2_Tencode|LandContour_Tencode', u'RoofStyle_Tencode|BsmtCond_Tencode', u'Street_Tencode|MasVnrArea', u'KitchenAbvGr|LotConfig_Tencode', u'BsmtUnfSF|FullBath', u'MoSold|SaleType_Tencode', u'PoolQC_Tencode|GarageCars', u'LotFrontage|MasVnrArea', u'LandSlope_Tencode|MasVnrType_Tencode', u'GarageYrBlt|HalfBath', u'Street_Tencode|BsmtFinType1_Tencode', u'Foundation_Tencode|PoolArea', u'GarageYrBlt|GarageCars', u'OverallQual|MasVnrArea', u'PoolArea|Fence_Tencode', u'HeatingQC_Tencode|MiscFeature_Tencode', u'LotFrontage|Functional_Tencode', u'MiscVal|Functional_Tencode', u'HeatingQC_Tencode|BsmtUnfSF', u'Condition1_Tencode|YrSold', u'3SsnPorch|ScreenPorch', u'KitchenQual_Tencode|Neighborhood_Tencode', u'LowQualFinSF|BsmtCond_Tencode', u'GarageYrBlt|MiscFeature_Tencode', u'TotalBsmtSF|PoolQC_Tencode', u'Fence_Tencode', u'GarageQual_Tencode|HouseStyle_Tencode', u'HouseStyle_Tencode|MiscVal', u'FullBath|LandSlope_Tencode', u'BsmtFinType1_Tencode|YrSold', u'LotArea|Exterior1st_Tencode', u'HeatingQC_Tencode|BsmtCond_Tencode', u'LandSlope_Tencode|MiscVal', u'3SsnPorch|LowQualFinSF', u'KitchenQual_Tencode|RoofMatl_Tencode', u'Foundation_Tencode|Alley_Tencode', u'HalfBath', u'FullBath|GarageCars', u'RoofStyle_Tencode|OverallCond', u'KitchenQual_Tencode|LandContour_Tencode', u'LotFrontage|GarageArea', u'Heating_Tencode|BsmtHalfBath', u'GrLivArea|BsmtHalfBath', u'2ndFlrSF|Fence_Tencode', u'Utilities_Tencode|BsmtFinSF2', u'CentralAir_Tencode|PoolQC_Tencode', u'LotFrontage|LotShape_Tencode', u'SaleCondition_Tencode|MiscVal', u'MasVnrType_Tencode|BsmtFinSF1', u'CentralAir_Tencode|Utilities_Tencode', u'EnclosedPorch|HouseStyle_Tencode', u'Electrical_Tencode|LandContour_Tencode', u'GarageFinish_Tencode|Functional_Tencode', u'Foundation_Tencode|PoolQC_Tencode', u'BedroomAbvGr|LotShape_Tencode', u'OverallQual|MoSold', u'LotConfig_Tencode|ScreenPorch', u'MSSubClass|HalfBath', u'HalfBath|TotRmsAbvGrd', u'GarageCond_Tencode|RoofMatl_Tencode', u'KitchenAbvGr|Condition1_Tencode', u'RoofMatl_Tencode|BsmtFinSF1', u'RoofMatl_Tencode|BsmtFinSF2', u'GarageYrBlt|TotRmsAbvGrd', u'YearRemodAdd|BldgType_Tencode', u'Heating_Tencode|BsmtFinType2_Tencode', u'MiscFeature_Tencode|MasVnrArea', u'2ndFlrSF|BedroomAbvGr', u'MiscFeature_Tencode|KitchenQual_Tencode', u'PoolArea|LotConfig_Tencode', u'MSSubClass|LowQualFinSF', u'BsmtFullBath|MasVnrArea', u'ExterCond_Tencode|Alley_Tencode', u'FullBath|GarageArea', u'BsmtUnfSF|GarageArea', u'SaleCondition_Tencode|Foundation_Tencode', u'3SsnPorch|BsmtQual_Tencode', u'YearBuilt|MSZoning_Tencode', u'YearRemodAdd|Electrical_Tencode', u'RoofStyle_Tencode|LowQualFinSF', u'CentralAir_Tencode|Functional_Tencode', u'Fence_Tencode|SaleType_Tencode', u'Condition2_Tencode|Foundation_Tencode', u'LotArea|MoSold', u'Exterior1st_Tencode|FullBath', u'GarageYrBlt|LotArea', u'GarageCond_Tencode|ScreenPorch', u'ExterQual_Tencode|Exterior2nd_Tencode', u'SaleCondition_Tencode|SaleType_Tencode', u'Condition2_Tencode|PoolArea', u'BsmtFullBath|BsmtFinSF2', u'3SsnPorch|MSZoning_Tencode', u'BsmtFullBath|MiscVal', u'LowQualFinSF|1stFlrSF', u'BsmtUnfSF|BedroomAbvGr', u'ExterCond_Tencode|PoolArea', u'LotArea|SaleType_Tencode', u'FireplaceQu_Tencode|Functional_Tencode', u'BsmtQual_Tencode|LandContour_Tencode', u'Condition2_Tencode|GrLivArea', u'YearBuilt|BsmtHalfBath', u'FireplaceQu_Tencode|BsmtQual_Tencode', u'3SsnPorch|GarageCars', u'HeatingQC_Tencode|Fireplaces', u'Utilities_Tencode|ScreenPorch', u'FireplaceQu_Tencode|RoofMatl_Tencode', u'LotArea|BsmtCond_Tencode', u'YearBuilt|TotalBsmtSF', u'SaleCondition_Tencode|RoofStyle_Tencode', u'YrSold|BedroomAbvGr', u'HeatingQC_Tencode|OpenPorchSF', u'SaleType_Tencode|LandContour_Tencode', u'Condition2_Tencode|Exterior2nd_Tencode', u'ExterCond_Tencode|LotConfig_Tencode', u'GarageQual_Tencode|LotConfig_Tencode', u'TotalBsmtSF|YrSold', u'Heating_Tencode|LotShape_Tencode', u'LotFrontage|OverallCond', u'GarageQual_Tencode|MSZoning_Tencode', u'Condition1_Tencode|SaleType_Tencode', u'BsmtUnfSF|PoolQC_Tencode', u'KitchenQual_Tencode|OverallCond', u'Condition1_Tencode|BedroomAbvGr', u'GarageCond_Tencode|LandSlope_Tencode', u'HeatingQC_Tencode|MoSold', u'Electrical_Tencode|ScreenPorch', u'BsmtFinSF2|Fence_Tencode', u'TotalBsmtSF', u'EnclosedPorch|GarageArea', u'Condition2_Tencode|YearRemodAdd', u'BsmtQual_Tencode|BedroomAbvGr', u'KitchenAbvGr|TotalBsmtSF', u'HeatingQC_Tencode|BedroomAbvGr', u'Exterior2nd_Tencode|BsmtFinSF2', u'RoofMatl_Tencode|SaleType_Tencode', u'FireplaceQu_Tencode|ExterCond_Tencode', u'Street_Tencode|Foundation_Tencode', u'Exterior1st_Tencode|ScreenPorch', u'YearRemodAdd|PoolArea', u'GarageYrBlt|HeatingQC_Tencode', u'CentralAir_Tencode|ScreenPorch', u'FullBath|MSSubClass', u'YearRemodAdd|Alley_Tencode', u'KitchenAbvGr|BsmtFinType1_Tencode', u'3SsnPorch|WoodDeckSF', u'Alley_Tencode|OverallCond', u'GarageType_Tencode|Utilities_Tencode', u'OverallQual|OpenPorchSF', u'GarageQual_Tencode|BsmtFinSF1', u'GarageQual_Tencode|BsmtFinSF2', u'Exterior1st_Tencode|BsmtQual_Tencode', u'GarageType_Tencode|GarageFinish_Tencode', u'LotFrontage|LandSlope_Tencode', u'YearBuilt|HalfBath', u'BsmtFullBath|BsmtQual_Tencode', u'TotalBsmtSF|MSZoning_Tencode', u'FullBath|PavedDrive_Tencode', u'BsmtUnfSF|Utilities_Tencode', u'FireplaceQu_Tencode|Fence_Tencode', u'LotFrontage|GarageCond_Tencode', u'3SsnPorch|MasVnrType_Tencode', u'BldgType_Tencode|TotalBsmtSF', u'HouseStyle_Tencode|HalfBath', u'PavedDrive_Tencode|BsmtHalfBath', u'Condition2_Tencode|Fence_Tencode', u'Foundation_Tencode|BsmtQual_Tencode', u'FullBath|MasVnrArea', u'LotArea|MasVnrArea', u'WoodDeckSF|GarageFinish_Tencode', u'ScreenPorch|BedroomAbvGr', u'GrLivArea|GarageCond_Tencode', u'HalfBath|PoolQC_Tencode', u'Foundation_Tencode|TotRmsAbvGrd', u'Street_Tencode|RoofMatl_Tencode', u'BsmtFinType2_Tencode|Exterior2nd_Tencode', u'Condition2_Tencode|LotShape_Tencode', u'GrLivArea|GarageFinish_Tencode', u'MSSubClass|Utilities_Tencode', u'HeatingQC_Tencode|PoolArea', u'BsmtUnfSF|OverallCond', u'LotArea|KitchenQual_Tencode', u'FireplaceQu_Tencode|YearBuilt', u'BsmtFinSF2|PoolQC_Tencode', u'CentralAir_Tencode|MSZoning_Tencode', u'SaleCondition_Tencode|MSZoning_Tencode', u'3SsnPorch|EnclosedPorch', u'GarageCond_Tencode|TotRmsAbvGrd', u'3SsnPorch|PavedDrive_Tencode', u'GarageCond_Tencode|Fireplaces', u'GarageYrBlt|GarageCond_Tencode', u'BsmtQual_Tencode|OverallCond', u'WoodDeckSF|Neighborhood_Tencode', u'HeatingQC_Tencode|Exterior1st_Tencode', u'BsmtExposure_Tencode|LandContour_Tencode', u'MSSubClass|TotalBsmtSF', u'LowQualFinSF|LandContour_Tencode', u'FullBath|Neighborhood_Tencode', u'BsmtCond_Tencode|Fence_Tencode', u'OverallCond|LotShape_Tencode', u'BsmtFinSF2|GarageArea', u'LandSlope_Tencode|1stFlrSF', u'Street_Tencode|GarageType_Tencode', u'MSSubClass|MasVnrType_Tencode', u'LotArea|Electrical_Tencode', u'Fence_Tencode|BedroomAbvGr', u'BsmtQual_Tencode|Fence_Tencode', u'FullBath|YrSold', u'YearRemodAdd|LandSlope_Tencode', u'TotRmsAbvGrd|BedroomAbvGr', u'HalfBath|Utilities_Tencode', u'CentralAir_Tencode|GarageFinish_Tencode', u'Fence_Tencode|LotShape_Tencode', u'TotRmsAbvGrd|SaleType_Tencode', u'KitchenQual_Tencode|PoolArea', u'RoofStyle_Tencode|GarageCars', u'YrSold|Fence_Tencode', u'GarageQual_Tencode|YearBuilt', u'LotArea|BsmtFinSF1', u'EnclosedPorch|CentralAir_Tencode', u'Heating_Tencode|MiscVal', u'MiscFeature_Tencode|LotConfig_Tencode', u'MoSold|HalfBath', u'Neighborhood_Tencode|YrSold', u'LotArea|GarageArea', u'HalfBath|MasVnrArea', u'PavedDrive_Tencode|SaleType_Tencode', u'KitchenQual_Tencode|RoofStyle_Tencode', u'HalfBath|YrSold', u'OverallCond|MasVnrArea', u'FullBath|Alley_Tencode', u'Fence_Tencode|ScreenPorch', u'LandSlope_Tencode|Neighborhood_Tencode', u'YearRemodAdd|ExterQual_Tencode', u'GrLivArea|GarageQual_Tencode', u'MoSold|MiscVal', u'OverallQual|HalfBath', u'KitchenQual_Tencode|HouseStyle_Tencode', u'GarageQual_Tencode|PoolQC_Tencode', u'HeatingQC_Tencode|2ndFlrSF', u'GarageYrBlt|PoolQC_Tencode', u'Exterior1st_Tencode|LandContour_Tencode', u'SaleCondition_Tencode|WoodDeckSF', u'Heating_Tencode|PoolArea', u'MiscFeature_Tencode|CentralAir_Tencode', u'BldgType_Tencode|Neighborhood_Tencode', u'RoofStyle_Tencode|Fence_Tencode', u'Exterior1st_Tencode|Exterior2nd_Tencode', u'CentralAir_Tencode|Condition1_Tencode', u'Heating_Tencode|2ndFlrSF', u'Street_Tencode|LandContour_Tencode', u'WoodDeckSF|Condition1_Tencode', u'Exterior1st_Tencode|BedroomAbvGr', u'Exterior2nd_Tencode|Condition1_Tencode', u'Foundation_Tencode|HalfBath', u'FullBath|PoolArea', u'ExterQual_Tencode|BsmtCond_Tencode', u'MiscFeature_Tencode|FullBath', u'EnclosedPorch|GarageFinish_Tencode', u'BsmtFullBath|OverallCond', u'BsmtFullBath|YearBuilt', u'MasVnrArea', u'Exterior2nd_Tencode|BsmtHalfBath', u'PavedDrive_Tencode|Functional_Tencode', u'LowQualFinSF|TotRmsAbvGrd', u'LowQualFinSF|Utilities_Tencode', u'LotFrontage|BsmtHalfBath', u'GarageYrBlt|LotFrontage', u'LowQualFinSF|HalfBath', u'MoSold|BsmtFinSF2', u'RoofMatl_Tencode|Fence_Tencode', u'FireplaceQu_Tencode|PavedDrive_Tencode', u'GarageYrBlt|GrLivArea', u'Fireplaces|MasVnrType_Tencode', u'Condition2_Tencode|PavedDrive_Tencode', u'BsmtExposure_Tencode|BedroomAbvGr', u'GarageCond_Tencode|GarageCars', u'ExterQual_Tencode|Fireplaces', u'Foundation_Tencode|MasVnrArea', u'MiscFeature_Tencode|BsmtFinSF1', u'MiscFeature_Tencode|Utilities_Tencode', u'BsmtFinType2_Tencode|BsmtCond_Tencode', u'LotFrontage|BsmtExposure_Tencode', u'MiscFeature_Tencode|HalfBath', u'GarageCond_Tencode|YearBuilt', u'Street_Tencode|BsmtFinSF2', u'GarageYrBlt|KitchenAbvGr', u'HalfBath|BsmtFinSF1', u'MSZoning_Tencode|BsmtExposure_Tencode', u'3SsnPorch|LandSlope_Tencode', u'MiscFeature_Tencode|MSSubClass', u'MSSubClass|BsmtExposure_Tencode', u'EnclosedPorch|Utilities_Tencode', u'ExterQual_Tencode|GarageType_Tencode', u'PavedDrive_Tencode|BldgType_Tencode', u'Heating_Tencode|SaleType_Tencode', u'BsmtUnfSF|Alley_Tencode', u'HalfBath|MiscVal', u'HeatingQC_Tencode|BsmtFullBath', u'GarageType_Tencode|Fence_Tencode', u'3SsnPorch|CentralAir_Tencode', u'Foundation_Tencode|GarageArea', u'HouseStyle_Tencode|RoofStyle_Tencode', u'ExterCond_Tencode|CentralAir_Tencode', u'PavedDrive_Tencode|MiscVal', u'MSSubClass|Condition1_Tencode', u'MoSold|MSZoning_Tencode', u'BsmtFinSF2|LandContour_Tencode', u'GarageType_Tencode|MasVnrArea', u'LotArea|KitchenAbvGr', u'PoolArea|YrSold', u'Foundation_Tencode|BsmtCond_Tencode', u'Functional_Tencode|Fence_Tencode', u'BsmtQual_Tencode|MasVnrArea', u'ExterQual_Tencode|PavedDrive_Tencode', u'LandSlope_Tencode|GarageArea', u'HeatingQC_Tencode|EnclosedPorch', u'PavedDrive_Tencode|BsmtFinType1_Tencode', u'Fireplaces|MSZoning_Tencode', u'KitchenQual_Tencode|2ndFlrSF', u'FireplaceQu_Tencode|OpenPorchSF', u'EnclosedPorch|GarageQual_Tencode', u'LotFrontage|GarageCars', u'Street_Tencode|GarageCars', u'LotArea|YrSold', u'LotArea|HouseStyle_Tencode', u'MiscFeature_Tencode|BsmtCond_Tencode', u'HeatingQC_Tencode|Condition1_Tencode', u'BsmtCond_Tencode|GarageArea', u'Exterior1st_Tencode|RoofStyle_Tencode', u'PoolArea|LandSlope_Tencode', u'Electrical_Tencode|BsmtFinType1_Tencode', u'GarageCond_Tencode|LowQualFinSF', u'GarageType_Tencode|RoofMatl_Tencode', u'RoofStyle_Tencode|LandSlope_Tencode', u'Condition2_Tencode|MSSubClass', u'CentralAir_Tencode', u'ExterQual_Tencode|BsmtHalfBath', u'1stFlrSF|TotalBsmtSF', u'HouseStyle_Tencode|BsmtExposure_Tencode', u'LotArea|GarageType_Tencode', u'TotalBsmtSF|BsmtExposure_Tencode', u'Utilities_Tencode|Fence_Tencode', u'OverallQual|KitchenAbvGr', u'ExterCond_Tencode|HouseStyle_Tencode', u'Heating_Tencode|Exterior2nd_Tencode', u'ExterQual_Tencode|Functional_Tencode', u'Electrical_Tencode|MasVnrType_Tencode', u'Foundation_Tencode|YearBuilt', u'PoolArea|BedroomAbvGr', u'RoofStyle_Tencode|PoolQC_Tencode', u'EnclosedPorch|MoSold', u'MSSubClass|RoofMatl_Tencode', u'LotConfig_Tencode|Fireplaces', u'OverallCond|SaleType_Tencode', u'HeatingQC_Tencode|KitchenQual_Tencode', u'Functional_Tencode|MSZoning_Tencode', u'KitchenQual_Tencode|SaleType_Tencode', u'BsmtFinType2_Tencode|GarageFinish_Tencode', u'2ndFlrSF|1stFlrSF', u'SaleCondition_Tencode|BedroomAbvGr', u'Alley_Tencode|PoolQC_Tencode', u'Exterior1st_Tencode|BsmtHalfBath', u'LotConfig_Tencode|YrSold', u'LotArea|BsmtUnfSF', u'EnclosedPorch|OverallCond', u'YearRemodAdd|HouseStyle_Tencode', u'3SsnPorch|MiscVal', u'BsmtFinType1_Tencode|MiscVal', u'TotalBsmtSF|GarageCars', u'Alley_Tencode|MasVnrType_Tencode', u'Electrical_Tencode|BsmtCond_Tencode', u'GarageYrBlt|MiscVal', u'Electrical_Tencode|ExterQual_Tencode', u'GrLivArea|Fence_Tencode', u'OverallQual', u'RoofStyle_Tencode|WoodDeckSF', u'BsmtHalfBath', u'LotConfig_Tencode|Alley_Tencode', u'BsmtFinType1_Tencode|LandSlope_Tencode', u'BsmtCond_Tencode|LandContour_Tencode', u'Alley_Tencode|LotShape_Tencode', u'MiscFeature_Tencode|TotalBsmtSF', u'BsmtFinType2_Tencode|MiscVal', u'MoSold|GarageType_Tencode', u'KitchenAbvGr|FireplaceQu_Tencode', u'MiscFeature_Tencode|Alley_Tencode', u'BsmtFinType2_Tencode|ScreenPorch', u'Heating_Tencode|YrSold', u'LowQualFinSF|MasVnrType_Tencode', u'FullBath|WoodDeckSF', u'PavedDrive_Tencode|LandSlope_Tencode', u'Heating_Tencode|LotFrontage', u'MSZoning_Tencode|BedroomAbvGr', u'YearRemodAdd|BsmtExposure_Tencode', u'GarageFinish_Tencode|PoolQC_Tencode', u'ExterQual_Tencode|TotalBsmtSF', u'GarageQual_Tencode|Alley_Tencode', u'PoolArea|RoofMatl_Tencode', u'BsmtUnfSF|HouseStyle_Tencode', u'HeatingQC_Tencode|MSZoning_Tencode', u'BsmtFullBath|Neighborhood_Tencode', u'FireplaceQu_Tencode|GarageCond_Tencode', u'GarageType_Tencode|MSZoning_Tencode', u'BsmtFinType2_Tencode|TotalBsmtSF', u'OpenPorchSF|HouseStyle_Tencode', u'MiscFeature_Tencode|YrSold', u'BsmtFinType1_Tencode|GarageFinish_Tencode', u'MoSold|ScreenPorch', u'HeatingQC_Tencode|BsmtExposure_Tencode', u'Heating_Tencode|TotRmsAbvGrd', u'Foundation_Tencode|BsmtFinSF2', u'Foundation_Tencode|BsmtFinSF1', u'Street_Tencode|MiscFeature_Tencode', u'BsmtFinType2_Tencode|LowQualFinSF', u'Condition2_Tencode|Neighborhood_Tencode', u'MSZoning_Tencode|Fence_Tencode', u'BsmtFullBath|FullBath', u'LotFrontage|BsmtFinSF1', u'Foundation_Tencode|OverallCond', u'HeatingQC_Tencode|GarageQual_Tencode', u'LotFrontage|BsmtFinSF2', u'Exterior1st_Tencode|TotalBsmtSF', u'MoSold', u'WoodDeckSF|GarageCars', u'ExterCond_Tencode|PavedDrive_Tencode', u'HeatingQC_Tencode|FireplaceQu_Tencode', u'Electrical_Tencode|WoodDeckSF', u'OpenPorchSF|Neighborhood_Tencode', u'GarageQual_Tencode|SaleType_Tencode', u'Heating_Tencode|RoofStyle_Tencode', u'YearRemodAdd|TotalBsmtSF', u'GarageQual_Tencode|HalfBath', u'Foundation_Tencode|GarageFinish_Tencode', u'BsmtFinSF2|MasVnrType_Tencode', u'3SsnPorch|Heating_Tencode', u'GarageYrBlt|EnclosedPorch', u'HouseStyle_Tencode|LowQualFinSF', u'TotalBsmtSF|Condition1_Tencode', u'MoSold|Electrical_Tencode', u'1stFlrSF|Fireplaces', u'LowQualFinSF|MasVnrArea', u'YearRemodAdd|Utilities_Tencode', u'RoofStyle_Tencode|Fireplaces', u'BsmtCond_Tencode|TotRmsAbvGrd', u'3SsnPorch|GarageFinish_Tencode', u'RoofStyle_Tencode|BsmtExposure_Tencode', u'EnclosedPorch|PavedDrive_Tencode', u'YrSold|PoolQC_Tencode', u'2ndFlrSF|RoofMatl_Tencode', u'HouseStyle_Tencode|LotShape_Tencode', u'Condition1_Tencode|BsmtFinSF1', u'RoofMatl_Tencode|Utilities_Tencode', u'KitchenAbvGr|BsmtFinSF2', u'KitchenAbvGr|BsmtFinSF1', u'MasVnrArea|LandContour_Tencode', u'Alley_Tencode|Functional_Tencode', u'YearBuilt|BsmtCond_Tencode', u'GarageCond_Tencode|BsmtCond_Tencode', u'EnclosedPorch|BsmtFinSF1', u'HalfBath|Alley_Tencode', u'EnclosedPorch|BsmtFinSF2', u'CentralAir_Tencode|MiscVal', u'Condition2_Tencode|RoofStyle_Tencode', u'BsmtCond_Tencode|BsmtExposure_Tencode', u'OverallQual|BsmtFinType1_Tencode', u'HeatingQC_Tencode|MiscVal', u'GarageYrBlt|2ndFlrSF', u'BsmtCond_Tencode|PoolQC_Tencode', u'EnclosedPorch|RoofMatl_Tencode', u'GarageQual_Tencode|Functional_Tencode', u'LotFrontage|BsmtCond_Tencode', u'FullBath|MSZoning_Tencode', u'GarageYrBlt|ExterQual_Tencode', u'MSSubClass|BsmtQual_Tencode', u'HalfBath|Neighborhood_Tencode', u'OverallQual|KitchenQual_Tencode', u'Utilities_Tencode|TotRmsAbvGrd', u'Exterior1st_Tencode|BldgType_Tencode', u'GarageYrBlt|SaleType_Tencode', u'MSSubClass|YearBuilt', u'RoofStyle_Tencode|MasVnrArea', u'OpenPorchSF|BsmtFinType1_Tencode', u'LotConfig_Tencode|Condition1_Tencode', u'Heating_Tencode|LandContour_Tencode', u'LandContour_Tencode|GarageArea', u'GarageType_Tencode|BsmtHalfBath', u'Condition2_Tencode|LotConfig_Tencode', u'YearBuilt|BsmtQual_Tencode', u'BsmtUnfSF|YearBuilt', u'KitchenQual_Tencode|Condition1_Tencode', u'CentralAir_Tencode|Fence_Tencode', u'BsmtFinType1_Tencode|Functional_Tencode', u'BsmtFullBath|MSZoning_Tencode', u'GarageCond_Tencode|HalfBath', u'BsmtHalfBath|TotRmsAbvGrd', u'BsmtFullBath|RoofStyle_Tencode', u'PoolArea|MiscVal', u'BsmtFinType2_Tencode|BsmtFinType1_Tencode', u'HouseStyle_Tencode|GarageCars', u'MasVnrArea|GarageFinish_Tencode', u'KitchenAbvGr|RoofStyle_Tencode', u'PavedDrive_Tencode|RoofMatl_Tencode', u'BsmtUnfSF|BsmtExposure_Tencode', u'3SsnPorch|Alley_Tencode', u'BsmtUnfSF|GarageFinish_Tencode', u'LotFrontage|MoSold', u'HalfBath|BsmtCond_Tencode', u'GarageYrBlt|MasVnrArea', u'ScreenPorch', u'PoolArea|MSZoning_Tencode', u'GarageQual_Tencode|Fireplaces', u'KitchenAbvGr|BsmtUnfSF', u'HouseStyle_Tencode|BldgType_Tencode', u'GrLivArea|EnclosedPorch', u'ExterCond_Tencode|BsmtFinSF2', u'ExterCond_Tencode|BsmtFinSF1', u'CentralAir_Tencode|SaleType_Tencode', u'YearRemodAdd|Street_Tencode', u'GrLivArea|SaleCondition_Tencode', u'Street_Tencode|LowQualFinSF', u'PoolArea|OverallCond', u'BsmtUnfSF|Electrical_Tencode', u'Exterior1st_Tencode|WoodDeckSF', u'2ndFlrSF|GarageQual_Tencode', u'LotArea|BsmtHalfBath', u'BsmtFullBath|Foundation_Tencode', u'3SsnPorch|PoolQC_Tencode', u'RoofStyle_Tencode|LotShape_Tencode', u'Electrical_Tencode|YearBuilt', u'2ndFlrSF|Condition1_Tencode', u'LotConfig_Tencode|MasVnrArea', u'Alley_Tencode|Fence_Tencode', u'GarageType_Tencode|PoolQC_Tencode', u'LotConfig_Tencode|BsmtCond_Tencode', u'MiscFeature_Tencode|2ndFlrSF', u'TotRmsAbvGrd', u'RoofStyle_Tencode|LandContour_Tencode', u'GarageQual_Tencode|YrSold', u'MSSubClass|TotRmsAbvGrd', u'LotArea|Condition2_Tencode', u'BsmtQual_Tencode|Neighborhood_Tencode', u'GarageQual_Tencode|BsmtExposure_Tencode', u'MasVnrType_Tencode|PoolQC_Tencode', u'KitchenAbvGr|BsmtCond_Tencode', u'Exterior1st_Tencode|GarageType_Tencode', u'BsmtQual_Tencode|BldgType_Tencode', u'CentralAir_Tencode|LandSlope_Tencode', u'MSSubClass|BedroomAbvGr', u'MiscFeature_Tencode|BsmtExposure_Tencode', u'Utilities_Tencode|GarageCars', u'BldgType_Tencode|GarageFinish_Tencode', u'PavedDrive_Tencode|Fence_Tencode', u'YearRemodAdd|GarageArea', u'Fireplaces|BsmtHalfBath', u'ScreenPorch|GarageCars', u'KitchenQual_Tencode|BsmtFinType1_Tencode', u'GarageCond_Tencode|MSSubClass', u'Street_Tencode|BsmtExposure_Tencode', u'2ndFlrSF|GarageFinish_Tencode', u'LandSlope_Tencode|GarageFinish_Tencode', u'Condition2_Tencode|Street_Tencode', u'EnclosedPorch|LandContour_Tencode', u'MiscFeature_Tencode|ExterQual_Tencode', u'BsmtFullBath|Fence_Tencode', u'1stFlrSF|Functional_Tencode', u'OpenPorchSF|LandSlope_Tencode', u'FireplaceQu_Tencode|LandSlope_Tencode', u'PavedDrive_Tencode|LandContour_Tencode', u'Alley_Tencode|Utilities_Tencode', u'ExterCond_Tencode|GarageType_Tencode', u'Electrical_Tencode|BsmtExposure_Tencode', u'BsmtCond_Tencode|1stFlrSF', u'LowQualFinSF|BsmtHalfBath', u'PoolQC_Tencode|BedroomAbvGr', u'KitchenAbvGr|Fireplaces', u'MoSold|WoodDeckSF', u'GrLivArea|Neighborhood_Tencode', u'BsmtFinType2_Tencode|OverallCond', u'LandSlope_Tencode|BsmtFinSF1', u'3SsnPorch|YearRemodAdd', u'GarageQual_Tencode|FullBath', u'FireplaceQu_Tencode|WoodDeckSF', u'1stFlrSF|Fence_Tencode', u'3SsnPorch|LotArea', u'EnclosedPorch|ExterQual_Tencode', u'PavedDrive_Tencode|LowQualFinSF', u'YearBuilt|1stFlrSF', u'EnclosedPorch|LowQualFinSF', u'HeatingQC_Tencode|HouseStyle_Tencode', u'OverallQual|GarageCond_Tencode', u'Street_Tencode|TotalBsmtSF', u'Electrical_Tencode|OverallCond', u'OverallQual|LowQualFinSF', u'Condition2_Tencode|ScreenPorch', u'EnclosedPorch|FireplaceQu_Tencode', u'MasVnrArea|MasVnrType_Tencode', u'2ndFlrSF|Exterior1st_Tencode', u'BsmtHalfBath|BedroomAbvGr', u'TotalBsmtSF|TotRmsAbvGrd', u'OverallQual|LandSlope_Tencode', u'HouseStyle_Tencode|Utilities_Tencode', u'PavedDrive_Tencode|TotalBsmtSF', u'Street_Tencode|2ndFlrSF', u'MiscVal|YrSold', u'BsmtFullBath|HouseStyle_Tencode', u'1stFlrSF|BsmtFinSF1', u'BsmtFinType2_Tencode|FireplaceQu_Tencode', u'OverallQual|Functional_Tencode', u'Exterior1st_Tencode|BsmtFinType1_Tencode', u'BsmtExposure_Tencode|GarageArea', u'YearRemodAdd|EnclosedPorch', u'OverallQual|Alley_Tencode', u'RoofStyle_Tencode|GarageArea', u'ExterCond_Tencode|MSSubClass', u'ExterCond_Tencode|2ndFlrSF', u'LowQualFinSF|Fireplaces', u'MoSold|ExterCond_Tencode', u'GarageCond_Tencode|BsmtExposure_Tencode', u'OpenPorchSF|YrSold', u'3SsnPorch|YearBuilt', u'EnclosedPorch|RoofStyle_Tencode', u'BsmtFinType2_Tencode|Foundation_Tencode', u'BsmtQual_Tencode|GarageFinish_Tencode', u'OverallQual|Neighborhood_Tencode', u'Foundation_Tencode|FullBath', u'PavedDrive_Tencode|BsmtCond_Tencode', u'Electrical_Tencode|BsmtQual_Tencode', u'BsmtQual_Tencode|GarageType_Tencode', u'BldgType_Tencode|SaleType_Tencode', u'MiscFeature_Tencode|GarageCond_Tencode', u'YearBuilt|BedroomAbvGr', u'Exterior1st_Tencode|RoofMatl_Tencode', u'GarageQual_Tencode|ExterQual_Tencode', u'LotFrontage|PoolArea', u'Foundation_Tencode|BldgType_Tencode', u'MSSubClass|1stFlrSF', u'LowQualFinSF|MiscVal', u'Utilities_Tencode|BsmtHalfBath', u'KitchenAbvGr|Electrical_Tencode', u'YearBuilt|MasVnrType_Tencode', u'Electrical_Tencode|BldgType_Tencode', u'GarageCond_Tencode|OpenPorchSF', u'ExterCond_Tencode|RoofMatl_Tencode', u'GarageType_Tencode', u'BsmtFullBath|PoolQC_Tencode', u'GarageQual_Tencode|BsmtQual_Tencode', u'Electrical_Tencode|Condition1_Tencode', u'OpenPorchSF|BsmtUnfSF', u'LotArea|Condition1_Tencode', u'KitchenQual_Tencode|Exterior1st_Tencode', u'LowQualFinSF', u'Street_Tencode|CentralAir_Tencode', u'FireplaceQu_Tencode|RoofStyle_Tencode', u'MiscFeature_Tencode|Fireplaces', u'Foundation_Tencode|Exterior2nd_Tencode', u'Alley_Tencode|SaleType_Tencode', u'Electrical_Tencode|1stFlrSF', u'MoSold|Exterior1st_Tencode', u'RoofMatl_Tencode|TotRmsAbvGrd', u'MSSubClass|GarageFinish_Tencode', u'GarageQual_Tencode|GarageCars', u'Foundation_Tencode|GarageCars', u'TotalBsmtSF|MasVnrType_Tencode', u'HeatingQC_Tencode|Neighborhood_Tencode', u'KitchenQual_Tencode|ScreenPorch', u'SaleCondition_Tencode|RoofMatl_Tencode', u'GrLivArea|RoofStyle_Tencode', u'FullBath|ScreenPorch', u'ExterQual_Tencode|MSSubClass', u'BsmtFullBath|MiscFeature_Tencode', u'Heating_Tencode|ScreenPorch', u'Heating_Tencode|GarageFinish_Tencode', u'BldgType_Tencode|Fence_Tencode', u'BsmtFinType2_Tencode|HouseStyle_Tencode', u'SaleCondition_Tencode|LotConfig_Tencode', u'Street_Tencode|BsmtUnfSF', u'MSSubClass|BldgType_Tencode', u'BldgType_Tencode|MasVnrArea', u'GarageYrBlt|CentralAir_Tencode', u'YearRemodAdd|Exterior2nd_Tencode', u'RoofStyle_Tencode|BsmtFinType1_Tencode', u'ExterCond_Tencode|GarageFinish_Tencode', u'LowQualFinSF|Condition1_Tencode', u'MSSubClass|PoolQC_Tencode', u'LowQualFinSF|Neighborhood_Tencode', u'MoSold|ExterQual_Tencode', u'Condition2_Tencode|BsmtFullBath', u'BsmtUnfSF|SaleType_Tencode', u'KitchenQual_Tencode|GarageFinish_Tencode', u'MasVnrArea|BsmtExposure_Tencode', u'HeatingQC_Tencode|WoodDeckSF', u'Alley_Tencode|GarageCars', u'LandSlope_Tencode|WoodDeckSF', u'Exterior1st_Tencode|GarageFinish_Tencode', u'BsmtFullBath|1stFlrSF', u'Alley_Tencode|GarageArea', u'BsmtUnfSF|LotConfig_Tencode', u'FullBath|CentralAir_Tencode', u'PoolQC_Tencode|LandContour_Tencode', u'BldgType_Tencode|BedroomAbvGr', u'FireplaceQu_Tencode|Foundation_Tencode', u'RoofStyle_Tencode|BsmtHalfBath', u'BldgType_Tencode|MSZoning_Tencode', u'LotConfig_Tencode|Utilities_Tencode', u'2ndFlrSF|HalfBath', u'GrLivArea|FullBath', u'Foundation_Tencode|LandContour_Tencode', u'ExterCond_Tencode|BsmtCond_Tencode', u'Condition2_Tencode|MasVnrType_Tencode', u'Heating_Tencode|Electrical_Tencode', u'GarageFinish_Tencode|MasVnrType_Tencode', u'Condition2_Tencode|SaleCondition_Tencode', u'LotArea|2ndFlrSF', u'BsmtCond_Tencode|Neighborhood_Tencode', u'HeatingQC_Tencode|GarageArea', u'Heating_Tencode|HouseStyle_Tencode', u'LotArea|MSSubClass', u'GrLivArea|OverallCond', u'WoodDeckSF|Fireplaces', u'Neighborhood_Tencode|GarageCars', u'Foundation_Tencode|MiscVal', u'Exterior1st_Tencode', u'GarageYrBlt|RoofStyle_Tencode', u'OverallQual|GarageQual_Tencode', u'MiscFeature_Tencode|BldgType_Tencode', u'BldgType_Tencode|LotShape_Tencode', u'2ndFlrSF|Fireplaces', u'HalfBath|WoodDeckSF', u'GrLivArea|KitchenAbvGr', u'OverallQual|FullBath', u'MiscFeature_Tencode|OpenPorchSF', u'Functional_Tencode|SaleType_Tencode', u'YearBuilt|Fence_Tencode', u'LotConfig_Tencode|LandSlope_Tencode', u'BsmtFullBath|ExterQual_Tencode', u'HouseStyle_Tencode|Exterior2nd_Tencode', u'LandSlope_Tencode|PoolQC_Tencode', u'Heating_Tencode|BsmtFinSF1', u'PavedDrive_Tencode|LotShape_Tencode', u'GarageCond_Tencode|Functional_Tencode', u'GarageCond_Tencode|PoolArea', u'Foundation_Tencode|ExterCond_Tencode', u'3SsnPorch|GarageCond_Tencode', u'OverallQual|ExterQual_Tencode', u'TotRmsAbvGrd|Condition1_Tencode', u'OverallQual|FireplaceQu_Tencode', u'OpenPorchSF|MSSubClass', u'OpenPorchSF|SaleType_Tencode', u'MoSold|PavedDrive_Tencode', u'MiscFeature_Tencode|MiscVal', u'BsmtFinType2_Tencode|LandSlope_Tencode', u'BsmtUnfSF|Condition1_Tencode', u'OverallQual|BsmtFullBath', u'GarageQual_Tencode|TotRmsAbvGrd', u'Foundation_Tencode|BedroomAbvGr', u'GarageQual_Tencode|Neighborhood_Tencode', u'MasVnrArea|BsmtHalfBath', u'OverallQual|Exterior2nd_Tencode', u'WoodDeckSF|LandContour_Tencode', u'Electrical_Tencode|GarageCars', u'Fireplaces|SaleType_Tencode', u'GarageYrBlt|BsmtExposure_Tencode', u'OpenPorchSF|GarageQual_Tencode', u'BsmtFinType2_Tencode|KitchenAbvGr', u'ExterCond_Tencode|LotShape_Tencode', u'BldgType_Tencode|BsmtExposure_Tencode', u'MSZoning_Tencode|ScreenPorch', u'SaleCondition_Tencode|MoSold', u'3SsnPorch|KitchenAbvGr', u'LotFrontage|Fireplaces', u'TotRmsAbvGrd|BsmtExposure_Tencode', u'LowQualFinSF|BsmtFinType1_Tencode', u'Condition1_Tencode', u'Neighborhood_Tencode', u'LotFrontage|LotConfig_Tencode', u'LotArea|MiscVal', u'OpenPorchSF|GarageArea', u'YearRemodAdd|MiscFeature_Tencode', u'Street_Tencode|HalfBath', u'GarageYrBlt|BsmtHalfBath', u'Heating_Tencode|OpenPorchSF', u'YearBuilt|TotRmsAbvGrd', u'Condition1_Tencode|Neighborhood_Tencode', u'HeatingQC_Tencode|MSSubClass', u'Street_Tencode|Electrical_Tencode', u'CentralAir_Tencode|Alley_Tencode', u'BsmtFullBath|SaleType_Tencode', u'LowQualFinSF|RoofMatl_Tencode', u'BsmtFinType2_Tencode|EnclosedPorch', u'Foundation_Tencode|Condition1_Tencode', u'WoodDeckSF|Functional_Tencode', u'CentralAir_Tencode|TotRmsAbvGrd', u'HouseStyle_Tencode|LandSlope_Tencode', u'GarageQual_Tencode|MasVnrArea', u'OpenPorchSF|BedroomAbvGr', u'BsmtQual_Tencode|BsmtCond_Tencode', u'GarageCond_Tencode|Alley_Tencode', u'Functional_Tencode|PoolQC_Tencode', u'PavedDrive_Tencode|OverallCond', u'Heating_Tencode|YearRemodAdd', u'LotArea|WoodDeckSF', u'FireplaceQu_Tencode|Exterior1st_Tencode', u'HalfBath|OverallCond', u'3SsnPorch|Condition1_Tencode', u'OverallQual|Utilities_Tencode', u'GarageType_Tencode|BsmtCond_Tencode', u'Condition2_Tencode|KitchenAbvGr', u'KitchenQual_Tencode|ExterQual_Tencode', u'ExterQual_Tencode|BsmtQual_Tencode', u'3SsnPorch|RoofMatl_Tencode', u'BsmtFinType1_Tencode|BsmtCond_Tencode', u'OverallQual|BsmtCond_Tencode', u'CentralAir_Tencode|GarageCars', u'PavedDrive_Tencode|GarageCars', u'EnclosedPorch|BsmtHalfBath', u'FireplaceQu_Tencode|LotConfig_Tencode', u'OverallQual|BsmtFinType2_Tencode', u'BsmtFullBath|BsmtExposure_Tencode', u'LotFrontage|HalfBath', u'Exterior1st_Tencode|YrSold', u'BsmtFinSF2|Condition1_Tencode', u'Foundation_Tencode|TotalBsmtSF', u'HeatingQC_Tencode|LotFrontage', u'PoolArea|WoodDeckSF', u'OverallQual|HouseStyle_Tencode', u'FullBath|OverallCond', u'SaleCondition_Tencode|Neighborhood_Tencode', u'OverallQual|GrLivArea', u'GarageQual_Tencode|ScreenPorch', u'FullBath|YearBuilt', u'Electrical_Tencode|BsmtHalfBath', u'MiscFeature_Tencode|BsmtUnfSF', u'BldgType_Tencode|WoodDeckSF', u'SaleCondition_Tencode|HalfBath', u'FullBath|BsmtCond_Tencode', u'GarageType_Tencode|BsmtFinSF2', u'GarageType_Tencode|BsmtFinSF1', u'MoSold|BsmtFinType1_Tencode', u'Exterior2nd_Tencode|PavedDrive_Tencode', u'BsmtCond_Tencode|GarageCars', u'EnclosedPorch|YrSold', u'YearBuilt|LowQualFinSF', u'MasVnrArea|Condition1_Tencode', u'ScreenPorch|SaleType_Tencode', u'EnclosedPorch|MiscFeature_Tencode', u'KitchenQual_Tencode|BsmtFinSF1', u'ScreenPorch|LotShape_Tencode', u'OverallQual|GarageType_Tencode', u'Electrical_Tencode|Fence_Tencode', u'GrLivArea|ScreenPorch', u'Condition2_Tencode|BsmtFinType1_Tencode', u'ExterCond_Tencode|PoolQC_Tencode', u'FullBath|GarageFinish_Tencode', u'GarageFinish_Tencode|LotShape_Tencode', u'KitchenAbvGr|MiscVal', u'LotArea|RoofStyle_Tencode', u'Exterior1st_Tencode|Condition1_Tencode', u'Street_Tencode|BsmtQual_Tencode', u'Electrical_Tencode|HouseStyle_Tencode', u'WoodDeckSF', u'OverallCond|TotRmsAbvGrd', u'FireplaceQu_Tencode|LandContour_Tencode', u'YearRemodAdd|BsmtFullBath', u'OverallQual|GarageArea', u'LotConfig_Tencode|MSZoning_Tencode', u'OverallQual|ExterCond_Tencode', u'KitchenAbvGr|BsmtExposure_Tencode', u'OverallCond|Fence_Tencode', u'EnclosedPorch|LotConfig_Tencode', u'TotalBsmtSF|Fence_Tencode', u'FullBath|MasVnrType_Tencode', u'Street_Tencode|GarageQual_Tencode', u'GrLivArea|YearBuilt', u'WoodDeckSF|MiscVal', u'PavedDrive_Tencode|MasVnrArea', u'Street_Tencode|PoolQC_Tencode', u'1stFlrSF|TotRmsAbvGrd', u'Foundation_Tencode|GarageQual_Tencode', u'Heating_Tencode|RoofMatl_Tencode', u'EnclosedPorch|MiscVal', u'BldgType_Tencode|MiscVal', u'FireplaceQu_Tencode|MasVnrArea', u'BsmtUnfSF|ScreenPorch', u'GarageYrBlt|YrSold', u'BsmtFinSF2|BsmtExposure_Tencode', u'YearBuilt|YrSold', u'MiscVal|Fireplaces', u'SaleCondition_Tencode|Alley_Tencode', u'RoofMatl_Tencode|Fireplaces', u'LotArea|LowQualFinSF', u'YearRemodAdd|ExterCond_Tencode', u'ExterQual_Tencode|BsmtExposure_Tencode', u'YearRemodAdd|2ndFlrSF', u'HeatingQC_Tencode|Exterior2nd_Tencode', u'Condition2_Tencode|HeatingQC_Tencode', u'LotFrontage|OpenPorchSF', u'FireplaceQu_Tencode|BsmtFinSF2', u'BsmtHalfBath|GarageCars', u'WoodDeckSF|BedroomAbvGr', u'EnclosedPorch|MasVnrType_Tencode', u'LotFrontage|Electrical_Tencode', u'Condition2_Tencode|GarageQual_Tencode', u'MiscFeature_Tencode|LowQualFinSF', u'BsmtUnfSF|Fireplaces', u'LotConfig_Tencode|HalfBath', u'OpenPorchSF|RoofMatl_Tencode', u'OverallCond|1stFlrSF', u'PavedDrive_Tencode|ScreenPorch', u'3SsnPorch|GarageQual_Tencode', u'Street_Tencode|BsmtHalfBath', u'LandSlope_Tencode|Functional_Tencode', u'BsmtFinType2_Tencode', u'BldgType_Tencode|MasVnrType_Tencode', u'Exterior2nd_Tencode|RoofMatl_Tencode', u'YearRemodAdd|FireplaceQu_Tencode', u'BsmtFinType1_Tencode|TotalBsmtSF', u'Exterior2nd_Tencode|Functional_Tencode', u'ExterCond_Tencode|Condition1_Tencode', u'Foundation_Tencode|LandSlope_Tencode', u'PoolArea|MasVnrArea', u'RoofMatl_Tencode|GarageFinish_Tencode', u'BsmtExposure_Tencode|ScreenPorch', u'ExterCond_Tencode|Neighborhood_Tencode', u'BldgType_Tencode|TotRmsAbvGrd', u'GarageQual_Tencode|MasVnrType_Tencode', u'Electrical_Tencode|PoolArea', u'RoofStyle_Tencode|Neighborhood_Tencode', u'HeatingQC_Tencode|LotConfig_Tencode', u'MiscVal|BsmtFinSF2', u'LowQualFinSF|SaleType_Tencode', u'Exterior1st_Tencode|1stFlrSF', u'OverallQual|BsmtFinSF1', u'Exterior2nd_Tencode|MiscVal', u'EnclosedPorch|ExterCond_Tencode', u'BsmtUnfSF|GarageType_Tencode', u'BsmtHalfBath|Condition1_Tencode', u'BldgType_Tencode|LandContour_Tencode', u'LandContour_Tencode|GarageCars', u'Foundation_Tencode|HouseStyle_Tencode', u'Condition2_Tencode|FireplaceQu_Tencode', u'ExterQual_Tencode|OverallCond', u'HouseStyle_Tencode|BsmtFinSF2', u'HouseStyle_Tencode|BsmtFinSF1', u'GarageQual_Tencode|LandContour_Tencode', u'KitchenQual_Tencode|BsmtCond_Tencode', u'GarageYrBlt|BsmtFinSF1', u'GarageYrBlt|BsmtFinSF2', u'MiscVal|LotShape_Tencode', u'GarageQual_Tencode|Exterior2nd_Tencode', u'KitchenAbvGr|1stFlrSF', u'MSSubClass|MasVnrArea', u'MiscVal|BsmtHalfBath', u'LotArea|MSZoning_Tencode', u'LotFrontage|YearBuilt', u'YearRemodAdd|Fireplaces', u'GarageYrBlt|Neighborhood_Tencode', u'KitchenAbvGr|LowQualFinSF', u'GarageQual_Tencode|MiscVal', u'GarageCond_Tencode|ExterCond_Tencode', u'Condition2_Tencode|1stFlrSF', u'1stFlrSF', u'MSSubClass|BsmtFinSF1', u'BsmtFinType1_Tencode|TotRmsAbvGrd', u'MSSubClass|BsmtFinSF2', u'GarageQual_Tencode|BldgType_Tencode', u'YearBuilt|PoolArea', u'2ndFlrSF|BsmtFinType1_Tencode', u'HouseStyle_Tencode|WoodDeckSF', u'BsmtFinType2_Tencode|MiscFeature_Tencode', u'GarageYrBlt|BedroomAbvGr', u'2ndFlrSF|Neighborhood_Tencode', u'PoolArea|Functional_Tencode', u'3SsnPorch|YrSold', u'LotArea|HeatingQC_Tencode', u'GarageQual_Tencode|1stFlrSF', u'LotArea|EnclosedPorch', u'LowQualFinSF|LotShape_Tencode', u'FullBath|TotRmsAbvGrd', u'Electrical_Tencode|YrSold', u'GarageQual_Tencode|PavedDrive_Tencode', u'EnclosedPorch|Neighborhood_Tencode', u'Utilities_Tencode|PoolQC_Tencode', u'GarageFinish_Tencode|Neighborhood_Tencode', u'OpenPorchSF|GarageFinish_Tencode', u'OpenPorchSF|CentralAir_Tencode', u'BsmtFinType2_Tencode|PoolArea', u'Heating_Tencode|LandSlope_Tencode', u'Street_Tencode|LandSlope_Tencode', u'2ndFlrSF|YrSold', u'ExterCond_Tencode|GarageArea', u'Street_Tencode|Alley_Tencode', u'Heating_Tencode|FullBath', u'BsmtQual_Tencode|MiscVal', u'OverallCond|BsmtHalfBath', u'GrLivArea|GarageCars', u'LotFrontage|TotRmsAbvGrd', u'2ndFlrSF|YearBuilt', u'BsmtFinType2_Tencode|Fence_Tencode', u'BsmtFullBath|BsmtCond_Tencode', u'EnclosedPorch|LotFrontage', u'Exterior2nd_Tencode|ScreenPorch', u'BsmtHalfBath|GarageArea', u'MSSubClass|Alley_Tencode', u'KitchenAbvGr|Alley_Tencode', u'GarageFinish_Tencode|ScreenPorch', u'MiscVal|PoolQC_Tencode', u'YearRemodAdd|FullBath', u'PavedDrive_Tencode|YrSold', u'Utilities_Tencode|BsmtExposure_Tencode', u'OpenPorchSF|2ndFlrSF', u'Utilities_Tencode|1stFlrSF', u'KitchenAbvGr|CentralAir_Tencode', u'LotFrontage|Utilities_Tencode', u'HouseStyle_Tencode|BsmtCond_Tencode', u'OverallQual|LandContour_Tencode', u'YrSold|MSZoning_Tencode', u'LotArea|BsmtFinType2_Tencode', u'BsmtUnfSF|MSZoning_Tencode', u'Foundation_Tencode', u'GarageCond_Tencode|CentralAir_Tencode', u'BsmtFinType2_Tencode|OpenPorchSF', u'LotConfig_Tencode', u'MoSold|LotConfig_Tencode', u'Fireplaces|TotalBsmtSF', u'Neighborhood_Tencode|BsmtExposure_Tencode', u'Electrical_Tencode|MSSubClass', u'OverallCond|Utilities_Tencode', u'BsmtUnfSF|Exterior1st_Tencode', u'OverallQual|Foundation_Tencode', u'MoSold|OverallCond', u'RoofMatl_Tencode|GarageCars', u'3SsnPorch|HeatingQC_Tencode', u'OpenPorchSF|LandContour_Tencode', u'Utilities_Tencode|TotalBsmtSF', u'ExterCond_Tencode|WoodDeckSF', u'CentralAir_Tencode|Fireplaces', u'GarageCond_Tencode|TotalBsmtSF', u'Exterior2nd_Tencode|MasVnrType_Tencode', u'1stFlrSF|GarageCars', u'WoodDeckSF|LotShape_Tencode', u'PoolArea|PoolQC_Tencode', u'MiscVal|SaleType_Tencode', u'PavedDrive_Tencode|GarageFinish_Tencode', u'LotArea|GarageQual_Tencode', u'BsmtQual_Tencode|GarageArea', u'ExterCond_Tencode|MasVnrArea', u'Fence_Tencode|BsmtExposure_Tencode', u'BsmtFinType2_Tencode|YrSold', u'Heating_Tencode|Condition2_Tencode', u'SaleCondition_Tencode|LandSlope_Tencode', u'MiscFeature_Tencode|Fence_Tencode', u'PavedDrive_Tencode|1stFlrSF', u'KitchenQual_Tencode|Fence_Tencode', u'3SsnPorch|FullBath', u'GrLivArea|MiscFeature_Tencode', u'Street_Tencode|BsmtFinSF1', u'Exterior2nd_Tencode|GarageType_Tencode', u'YearRemodAdd|ScreenPorch', u'GarageYrBlt|TotalBsmtSF', u'Exterior1st_Tencode|Alley_Tencode', u'BsmtFinType2_Tencode|HalfBath', u'Fireplaces|TotRmsAbvGrd', u'Exterior2nd_Tencode|SaleType_Tencode', u'Electrical_Tencode|BsmtFinSF1', u'Electrical_Tencode|BsmtFinSF2', u'3SsnPorch|BsmtHalfBath', u'CentralAir_Tencode|MasVnrArea', u'EnclosedPorch|TotRmsAbvGrd', u'GarageCond_Tencode|Utilities_Tencode', u'BsmtFinType1_Tencode|BsmtHalfBath', u'GrLivArea|PoolArea', u'BsmtUnfSF|BldgType_Tencode', u'RoofMatl_Tencode|MSZoning_Tencode', u'YearRemodAdd|BsmtUnfSF', u'Fireplaces|GarageArea', u'Exterior2nd_Tencode|LandSlope_Tencode', u'BldgType_Tencode|Fireplaces', u'BsmtHalfBath|PoolQC_Tencode', u'HouseStyle_Tencode|OverallCond', u'OverallQual|HeatingQC_Tencode', u'LotConfig_Tencode|OverallCond', u'HalfBath|GarageCars', u'2ndFlrSF|Alley_Tencode', u'CentralAir_Tencode|MasVnrType_Tencode', u'Alley_Tencode|ScreenPorch', u'GarageQual_Tencode|TotalBsmtSF', u'YearRemodAdd|MasVnrArea', u'MSZoning_Tencode|GarageArea', u'HeatingQC_Tencode|ExterCond_Tencode', u'Foundation_Tencode|Fence_Tencode', u'BedroomAbvGr', u'BsmtQual_Tencode|LandSlope_Tencode', u'Condition1_Tencode|Functional_Tencode', u'HouseStyle_Tencode|BedroomAbvGr', u'HouseStyle_Tencode|ScreenPorch', u'Condition1_Tencode|MSZoning_Tencode', u'BsmtFinType1_Tencode|BsmtFinSF2', u'BsmtFinType1_Tencode|BsmtFinSF1', u'MasVnrType_Tencode|YrSold', u'EnclosedPorch|BsmtUnfSF', u'GarageCond_Tencode|PavedDrive_Tencode', u'2ndFlrSF|BldgType_Tencode', u'YearRemodAdd|BsmtFinType1_Tencode', u'Heating_Tencode|ExterCond_Tencode', u'GarageCond_Tencode|1stFlrSF', u'Exterior1st_Tencode|CentralAir_Tencode', u'RoofMatl_Tencode|MiscVal', u'YearBuilt|LandContour_Tencode', u'MiscFeature_Tencode|LandContour_Tencode', u'MiscFeature_Tencode|MoSold', u'BsmtFinType1_Tencode', u'Condition2_Tencode', u'GrLivArea|ExterCond_Tencode', u'YearBuilt|BsmtFinType1_Tencode', u'SaleCondition_Tencode|MasVnrType_Tencode', u'Utilities_Tencode|LotShape_Tencode', u'Street_Tencode|PavedDrive_Tencode', u'BsmtQual_Tencode|Functional_Tencode', u'Street_Tencode', u'GarageCond_Tencode|BsmtQual_Tencode', u'3SsnPorch|Utilities_Tencode', u'HeatingQC_Tencode|RoofMatl_Tencode', u'RoofMatl_Tencode|BsmtExposure_Tencode', u'KitchenAbvGr|MSZoning_Tencode', u'1stFlrSF|MSZoning_Tencode', u'LowQualFinSF|YrSold', u'GarageQual_Tencode|RoofMatl_Tencode', u'GarageType_Tencode|TotRmsAbvGrd', u'OpenPorchSF|RoofStyle_Tencode', u'Street_Tencode|Fence_Tencode', u'GarageCond_Tencode|BedroomAbvGr', u'MSSubClass', u'MSSubClass|GarageCars', u'Street_Tencode|MasVnrType_Tencode', u'ExterQual_Tencode|BedroomAbvGr', u'PoolQC_Tencode|GarageArea', u'YearRemodAdd|WoodDeckSF', u'Electrical_Tencode|LotConfig_Tencode', u'BsmtFullBath|MSSubClass', u'HalfBath|ScreenPorch', u'GrLivArea|Utilities_Tencode', u'MiscFeature_Tencode|BsmtHalfBath', u'HeatingQC_Tencode|ExterQual_Tencode', u'Fireplaces|Functional_Tencode', u'ExterCond_Tencode|ExterQual_Tencode', u'GarageType_Tencode|TotalBsmtSF', u'Foundation_Tencode|YrSold', u'Exterior2nd_Tencode|1stFlrSF', u'GarageYrBlt|Fence_Tencode', u'Heating_Tencode|BsmtFullBath', u'KitchenAbvGr|Exterior2nd_Tencode', u'Heating_Tencode|FireplaceQu_Tencode', u'Electrical_Tencode|Functional_Tencode', u'2ndFlrSF', u'KitchenAbvGr|PoolQC_Tencode', u'3SsnPorch|LotConfig_Tencode', u'BldgType_Tencode|OverallCond', u'EnclosedPorch|OpenPorchSF', u'MSZoning_Tencode|SaleType_Tencode', u'BsmtQual_Tencode|ScreenPorch', u'KitchenAbvGr|MSSubClass', u'LotFrontage|CentralAir_Tencode', u'PoolArea|HalfBath', u'Street_Tencode|LotConfig_Tencode', u'GrLivArea|MSSubClass', u'LotFrontage|Neighborhood_Tencode', u'2ndFlrSF|BsmtQual_Tencode', u'SaleCondition_Tencode|LandContour_Tencode', u'YearBuilt|GarageType_Tencode', u'BsmtFullBath|TotalBsmtSF', u'BsmtHalfBath|ScreenPorch', u'RoofStyle_Tencode|MSZoning_Tencode', u'FireplaceQu_Tencode|BedroomAbvGr', u'Street_Tencode|SaleType_Tencode', u'BsmtQual_Tencode|Utilities_Tencode', u'KitchenAbvGr|FullBath', u'Heating_Tencode|YearBuilt', u'OverallQual|MSSubClass', u'KitchenQual_Tencode|LotConfig_Tencode', u'OpenPorchSF|BsmtQual_Tencode', u'Heating_Tencode|BsmtUnfSF', u'FireplaceQu_Tencode|2ndFlrSF', u'LotFrontage|Exterior2nd_Tencode', u'ExterQual_Tencode|BldgType_Tencode', u'OpenPorchSF|BsmtExposure_Tencode', u'2ndFlrSF|RoofStyle_Tencode', u'FullBath|ExterQual_Tencode', u'HeatingQC_Tencode|LandSlope_Tencode', u'EnclosedPorch|2ndFlrSF', u'SaleCondition_Tencode|Exterior1st_Tencode', u'YearBuilt|LotShape_Tencode', u'RoofMatl_Tencode|LotShape_Tencode', u'KitchenAbvGr|Functional_Tencode', u'GarageArea', u'OpenPorchSF|LotShape_Tencode', u'OverallQual|LotFrontage', u'FullBath|BedroomAbvGr', u'Condition2_Tencode|LandSlope_Tencode', u'ExterCond_Tencode|TotRmsAbvGrd', u'Electrical_Tencode|GarageArea', u'BsmtFullBath|GarageCars', u'PoolQC_Tencode|BsmtFinSF1', u'BsmtFullBath|Exterior1st_Tencode', u'LotArea|GrLivArea', u'GarageCond_Tencode|BsmtFinType1_Tencode', u'YearRemodAdd|BsmtHalfBath', u'LotArea|OverallCond', u'CentralAir_Tencode|GarageArea', u'GarageYrBlt|MSSubClass', u'RoofStyle_Tencode|GarageFinish_Tencode', u'PavedDrive_Tencode|GarageArea', u'LotArea|FireplaceQu_Tencode', u'OpenPorchSF|HalfBath', u'2ndFlrSF|Functional_Tencode', u'LotArea|CentralAir_Tencode', u'ExterCond_Tencode|BsmtQual_Tencode', u'HalfBath|Fireplaces', u'1stFlrSF|BsmtHalfBath', u'HouseStyle_Tencode|RoofMatl_Tencode', u'ExterQual_Tencode|LandSlope_Tencode', u'3SsnPorch|GarageArea', u'MiscVal|TotRmsAbvGrd', u'PavedDrive_Tencode|GarageType_Tencode', u'LotConfig_Tencode|BsmtFinSF2', u'Foundation_Tencode|BsmtFinType1_Tencode', u'ExterQual_Tencode|1stFlrSF', u'LotFrontage|Exterior1st_Tencode', u'LotConfig_Tencode|GarageArea', u'BsmtCond_Tencode|LotShape_Tencode', u'Condition2_Tencode|BsmtQual_Tencode', u'MoSold|Condition1_Tencode', u'SaleCondition_Tencode|HouseStyle_Tencode', u'BsmtFinType2_Tencode|Street_Tencode', u'YearRemodAdd|Exterior1st_Tencode', u'Condition2_Tencode|BsmtCond_Tencode', u'OverallCond|BsmtExposure_Tencode', u'BsmtQual_Tencode|MasVnrType_Tencode', u'SaleType_Tencode|GarageCars', u'Condition2_Tencode|BedroomAbvGr', u'FullBath|Exterior2nd_Tencode', u'Fireplaces|Fence_Tencode', u'RoofMatl_Tencode|Functional_Tencode', u'GarageYrBlt|Electrical_Tencode', u'Exterior2nd_Tencode|Neighborhood_Tencode', u'ExterCond_Tencode|BedroomAbvGr', u'TotRmsAbvGrd|PoolQC_Tencode', u'KitchenAbvGr|YearBuilt', u'GrLivArea|Condition1_Tencode', u'OverallCond|MSZoning_Tencode', u'HeatingQC_Tencode|TotalBsmtSF', u'GarageCond_Tencode|Fence_Tencode', u'HalfBath|LandSlope_Tencode', u'YearBuilt|WoodDeckSF', u'ExterCond_Tencode|Utilities_Tencode', u'GrLivArea|BsmtFinType2_Tencode', u'GrLivArea|HouseStyle_Tencode', u'BsmtFullBath|ExterCond_Tencode', u'CentralAir_Tencode|BsmtCond_Tencode', u'GrLivArea|CentralAir_Tencode', u'MSSubClass|MiscVal', u'KitchenQual_Tencode|BsmtExposure_Tencode', u'SaleCondition_Tencode|FireplaceQu_Tencode', u'HouseStyle_Tencode|MSZoning_Tencode', u'Electrical_Tencode|Utilities_Tencode', u'BsmtFullBath|BsmtUnfSF', u'YearRemodAdd|GarageFinish_Tencode', u'Condition2_Tencode|GarageArea', u'MSSubClass|Fireplaces', u'Electrical_Tencode|TotalBsmtSF', u'BsmtFinType2_Tencode|1stFlrSF', u'MoSold|GarageFinish_Tencode', u'BsmtUnfSF|LotShape_Tencode', u'SaleCondition_Tencode|1stFlrSF', u'Electrical_Tencode|MiscVal', u'BsmtFinType1_Tencode|GarageType_Tencode', u'MoSold|LowQualFinSF', u'GarageQual_Tencode|LandSlope_Tencode', u'GarageCond_Tencode|MSZoning_Tencode', u'PoolArea|Utilities_Tencode', u'WoodDeckSF|Fence_Tencode', u'MoSold|YrSold', u'LotFrontage|BldgType_Tencode', u'GarageType_Tencode|GarageCars', u'ExterQual_Tencode|PoolArea', u'Condition2_Tencode|GarageType_Tencode', u'3SsnPorch|MSSubClass', u'BsmtFinSF2', u'FullBath|TotalBsmtSF', u'MiscFeature_Tencode|Exterior2nd_Tencode', u'OverallQual|MiscVal', u'GarageYrBlt|LandSlope_Tencode', u'PavedDrive_Tencode|Neighborhood_Tencode', u'Electrical_Tencode|SaleType_Tencode', u'KitchenQual_Tencode|Electrical_Tencode', u'MiscFeature_Tencode|BedroomAbvGr', u'BsmtFullBath|GarageCond_Tencode', u'CentralAir_Tencode|RoofMatl_Tencode', u'BsmtQual_Tencode|BsmtFinType1_Tencode', u'GarageType_Tencode|MiscVal', u'BsmtFinType2_Tencode|Neighborhood_Tencode', u'RoofMatl_Tencode|PoolQC_Tencode', u'Condition1_Tencode|LotShape_Tencode', u'Exterior2nd_Tencode|MasVnrArea', u'PavedDrive_Tencode|MasVnrType_Tencode', u'Utilities_Tencode|Condition1_Tencode', u'BsmtFinType1_Tencode|Alley_Tencode', u'YearRemodAdd|MSZoning_Tencode', u'OpenPorchSF|MSZoning_Tencode', u'TotRmsAbvGrd|GarageArea', u'Electrical_Tencode|Exterior2nd_Tencode', u'YearRemodAdd|MiscVal', u'BsmtFullBath|CentralAir_Tencode', u'Condition2_Tencode|PoolQC_Tencode', u'RoofStyle_Tencode|Functional_Tencode', u'Fireplaces|BedroomAbvGr', u'Heating_Tencode|Foundation_Tencode', u'MSSubClass|PavedDrive_Tencode', u'GarageYrBlt|1stFlrSF', u'Exterior1st_Tencode|GarageQual_Tencode', u'2ndFlrSF|BsmtCond_Tencode', u'Exterior2nd_Tencode|WoodDeckSF', u'TotRmsAbvGrd|MSZoning_Tencode', u'ExterCond_Tencode|MasVnrType_Tencode', u'KitchenQual_Tencode|TotalBsmtSF', u'BsmtFinSF2|MSZoning_Tencode', u'BsmtUnfSF|Fence_Tencode', u'BldgType_Tencode|Alley_Tencode', u'1stFlrSF|BedroomAbvGr', u'TotalBsmtSF|SaleType_Tencode', u'PoolArea|BsmtCond_Tencode', u'Street_Tencode|FireplaceQu_Tencode', u'3SsnPorch|MoSold', u'CentralAir_Tencode|1stFlrSF', u'HeatingQC_Tencode|BsmtFinSF1', u'OverallQual|GarageCars', u'HeatingQC_Tencode|BsmtFinSF2', u'BsmtCond_Tencode|Fireplaces', u'TotalBsmtSF|LotShape_Tencode', u'YearBuilt|Exterior2nd_Tencode', u'BsmtHalfBath|YrSold', u'Condition2_Tencode|MiscVal', u'FireplaceQu_Tencode|Neighborhood_Tencode', u'LotFrontage|SaleCondition_Tencode', u'HouseStyle_Tencode|GarageType_Tencode', u'BsmtQual_Tencode|SaleType_Tencode', u'BsmtHalfBath|BsmtFinSF2', u'BsmtHalfBath|BsmtFinSF1', u'BsmtFinType2_Tencode|MoSold', u'OpenPorchSF|1stFlrSF', u'GarageType_Tencode|LotShape_Tencode', u'KitchenAbvGr|BsmtHalfBath', u'LotArea|BldgType_Tencode', u'KitchenQual_Tencode|1stFlrSF', u'OverallQual|BedroomAbvGr', u'LotArea|LotShape_Tencode', u'Heating_Tencode|HalfBath', u'MiscFeature_Tencode|GarageArea', u'LandSlope_Tencode', u'HeatingQC_Tencode|FullBath', u'SaleCondition_Tencode|YrSold', u'MoSold|BsmtExposure_Tencode', u'LotConfig_Tencode|GarageType_Tencode', u'MasVnrArea|GarageCars', u'EnclosedPorch|Fence_Tencode', u'FireplaceQu_Tencode|PoolQC_Tencode', u'BsmtHalfBath|Neighborhood_Tencode', u'RoofMatl_Tencode|WoodDeckSF', u'GrLivArea|YearRemodAdd', u'RoofMatl_Tencode|Neighborhood_Tencode', u'BsmtFinType1_Tencode|Utilities_Tencode', u'OpenPorchSF|YearBuilt', u'BsmtFinType2_Tencode|Alley_Tencode', u'BsmtCond_Tencode|MasVnrArea', u'Fireplaces|BsmtFinSF2', u'Fireplaces|BsmtFinSF1', u'LandSlope_Tencode|YrSold', u'BsmtFinType2_Tencode|GarageCond_Tencode', u'BsmtFinSF2|LotShape_Tencode', u'Condition1_Tencode|MasVnrType_Tencode', u'CentralAir_Tencode|PoolArea', u'YearBuilt|GarageCars', u'GarageType_Tencode|Fireplaces', u'Exterior2nd_Tencode|Fence_Tencode', u'Street_Tencode|Neighborhood_Tencode', u'SaleCondition_Tencode|LotShape_Tencode', u'MSSubClass|Functional_Tencode', u'2ndFlrSF|TotRmsAbvGrd', u'GarageType_Tencode|Condition1_Tencode', u'MoSold|Utilities_Tencode', u'LotArea|YearBuilt', u'GrLivArea|BedroomAbvGr', u'YearBuilt|Neighborhood_Tencode', u'PoolArea|Alley_Tencode', u'LandSlope_Tencode|BedroomAbvGr', u'Utilities_Tencode|BsmtFinSF1', u'MiscFeature_Tencode|LandSlope_Tencode', u'Alley_Tencode|BsmtHalfBath', u'OverallQual|YearBuilt', u'BsmtFinType2_Tencode|Utilities_Tencode', u'BsmtFullBath|OpenPorchSF', u'OverallCond|ScreenPorch', u'OverallCond|MasVnrType_Tencode', u'YearRemodAdd|LotConfig_Tencode', u'Functional_Tencode|BedroomAbvGr', u'YearRemodAdd|LowQualFinSF', u'Foundation_Tencode|BsmtExposure_Tencode', u'RoofMatl_Tencode|OverallCond', u'CentralAir_Tencode|BsmtQual_Tencode', u'FullBath|BsmtHalfBath', u'GrLivArea|Electrical_Tencode', u'BsmtUnfSF|1stFlrSF', u'GarageYrBlt|BsmtFinType2_Tencode', u'HeatingQC_Tencode|TotRmsAbvGrd', u'PoolQC_Tencode|LotShape_Tencode', u'LotFrontage|ScreenPorch', u'YearBuilt|BsmtFinSF1', u'Heating_Tencode|GarageArea', u'LandSlope_Tencode|Condition1_Tencode', u'YearBuilt|BsmtFinSF2', u'GrLivArea|Functional_Tencode', u'BsmtFinType2_Tencode|CentralAir_Tencode', u'PavedDrive_Tencode|Utilities_Tencode', u'Electrical_Tencode|TotRmsAbvGrd', u'BsmtCond_Tencode|BsmtHalfBath', u'MiscVal|BsmtExposure_Tencode', u'SaleCondition_Tencode', u'PoolArea|ScreenPorch', u'HouseStyle_Tencode|Alley_Tencode', u'LotArea|LandContour_Tencode', u'YearRemodAdd|HalfBath', u'Foundation_Tencode|MSSubClass', u'GarageCond_Tencode|Electrical_Tencode', u'MoSold|PoolArea', u'YearBuilt|LotConfig_Tencode', u'BsmtFinSF1|ScreenPorch', u'HeatingQC_Tencode|LandContour_Tencode', u'BsmtFinType1_Tencode|BedroomAbvGr', u'YearRemodAdd|MSSubClass', u'MiscVal|MasVnrType_Tencode', u'BsmtFinType1_Tencode|Neighborhood_Tencode', u'HouseStyle_Tencode', u'3SsnPorch|BedroomAbvGr', u'Exterior2nd_Tencode|LotShape_Tencode', u'3SsnPorch|Street_Tencode', u'BsmtQual_Tencode|YrSold', u'Foundation_Tencode|GarageType_Tencode', u'LotArea|TotalBsmtSF', u'GrLivArea|MSZoning_Tencode', u'WoodDeckSF|MasVnrArea', u'GrLivArea|FireplaceQu_Tencode', u'GrLivArea|YrSold', u'CentralAir_Tencode|RoofStyle_Tencode', u'BsmtFinType1_Tencode|ScreenPorch', u'Street_Tencode|MiscVal', u'KitchenAbvGr|Fence_Tencode', u'Heating_Tencode|GarageType_Tencode', u'BsmtQual_Tencode|1stFlrSF', u'OverallQual|ScreenPorch', u'EnclosedPorch|Exterior2nd_Tencode', u'MoSold|TotalBsmtSF', u'Utilities_Tencode|Neighborhood_Tencode', u'FullBath|LandContour_Tencode', u'Heating_Tencode|BsmtExposure_Tencode', u'3SsnPorch|BldgType_Tencode', u'OverallCond|GarageArea', u'BsmtFinType2_Tencode|BldgType_Tencode', u'LandSlope_Tencode|BsmtExposure_Tencode', u'EnclosedPorch|MasVnrArea', u'ExterQual_Tencode|MiscVal', u'OpenPorchSF|ScreenPorch', u'Exterior1st_Tencode|MasVnrArea', u'Condition1_Tencode|GarageArea', u'Utilities_Tencode|BedroomAbvGr', u'Foundation_Tencode|Fireplaces', u'PoolArea|Condition1_Tencode', u'KitchenAbvGr|GarageFinish_Tencode', u'BsmtFinSF2|Neighborhood_Tencode', u'Foundation_Tencode|WoodDeckSF', u'Alley_Tencode|YrSold', u'2ndFlrSF|Electrical_Tencode', u'CentralAir_Tencode|Exterior2nd_Tencode', u'FireplaceQu_Tencode|GarageQual_Tencode', u'Foundation_Tencode|LotShape_Tencode', u'Exterior2nd_Tencode|Utilities_Tencode', u'GrLivArea|PavedDrive_Tencode', u'Heating_Tencode|Fence_Tencode', u'1stFlrSF|YrSold', u'LotConfig_Tencode|TotalBsmtSF', u'MasVnrType_Tencode|LandContour_Tencode', u'Heating_Tencode|MSSubClass', u'Street_Tencode|RoofStyle_Tencode', u'GrLivArea|LotFrontage', u'LotArea|BsmtFullBath', u'OpenPorchSF|Functional_Tencode', u'LotArea|PavedDrive_Tencode', u'Foundation_Tencode|LowQualFinSF', u'PoolArea|BsmtQual_Tencode', u'YearBuilt|PavedDrive_Tencode', u'WoodDeckSF|ScreenPorch', u'2ndFlrSF|GarageCars', u'EnclosedPorch|LandSlope_Tencode', u'FireplaceQu_Tencode|Electrical_Tencode', u'SaleCondition_Tencode|BldgType_Tencode', u'BsmtQual_Tencode|PavedDrive_Tencode', u'BsmtCond_Tencode|Functional_Tencode', u'BsmtFinType2_Tencode|LotFrontage', u'GarageFinish_Tencode|Condition1_Tencode', u'PoolArea|BsmtHalfBath', u'FullBath|1stFlrSF', u'MoSold|BsmtHalfBath', u'KitchenQual_Tencode|BsmtHalfBath', u'RoofStyle_Tencode|SaleType_Tencode', u'YearRemodAdd|BsmtCond_Tencode', u'3SsnPorch|GrLivArea', u'LotFrontage|GarageQual_Tencode', u'TotRmsAbvGrd|ScreenPorch', u'BsmtFinType2_Tencode|Exterior1st_Tencode', u'GarageFinish_Tencode|BsmtFinSF2', u'Condition2_Tencode|GarageFinish_Tencode', u'GarageFinish_Tencode|BsmtFinSF1', u'Exterior2nd_Tencode|TotRmsAbvGrd', u'BsmtQual_Tencode|LowQualFinSF', u'OverallCond|Condition1_Tencode', u'LotArea|HalfBath', u'BsmtFinType1_Tencode|BldgType_Tencode', u'SaleCondition_Tencode|BsmtUnfSF', u'GrLivArea|Exterior1st_Tencode', u'BsmtFinType2_Tencode|SaleType_Tencode', u'Exterior2nd_Tencode|HalfBath', u'PoolArea|GarageArea', u'GarageQual_Tencode|LowQualFinSF', u'YearBuilt|Alley_Tencode', u'MasVnrArea|Fence_Tencode', u'BsmtHalfBath|Fence_Tencode', u'Street_Tencode|GarageCond_Tencode', u'GarageType_Tencode|Alley_Tencode', u'PoolArea|MasVnrType_Tencode', u'OpenPorchSF|Alley_Tencode', u'BsmtFullBath|GarageType_Tencode', u'HeatingQC_Tencode|YearBuilt', u'GarageType_Tencode|1stFlrSF', u'OverallQual|Street_Tencode', u'KitchenAbvGr|BsmtQual_Tencode', u'YrSold|ScreenPorch', u'GarageQual_Tencode|BsmtFinType1_Tencode', u'BsmtFinType2_Tencode|MSSubClass', u'Alley_Tencode|BsmtExposure_Tencode', u'3SsnPorch|MiscFeature_Tencode', u'LotShape_Tencode|LandContour_Tencode', u'LotConfig_Tencode|BedroomAbvGr', u'Foundation_Tencode|OpenPorchSF', u'Condition1_Tencode|GarageCars', u'CentralAir_Tencode|TotalBsmtSF', u'2ndFlrSF|MasVnrType_Tencode', u'Foundation_Tencode|MasVnrType_Tencode', u'MiscFeature_Tencode|TotRmsAbvGrd', u'ExterQual_Tencode|LotConfig_Tencode', u'KitchenQual_Tencode|BldgType_Tencode', u'MSSubClass|Neighborhood_Tencode', u'Utilities_Tencode|MasVnrType_Tencode', u'RoofStyle_Tencode|ScreenPorch', u'BldgType_Tencode|GarageCars', u'ExterCond_Tencode|YrSold', u'BsmtExposure_Tencode|LotShape_Tencode', u'2ndFlrSF|FullBath', u'MasVnrType_Tencode|LotShape_Tencode', u'Condition2_Tencode|FullBath', u'Street_Tencode|GarageArea', u'BsmtUnfSF|MasVnrType_Tencode', u'LotArea|BsmtExposure_Tencode', u'MSZoning_Tencode|BsmtFinSF1', u'HeatingQC_Tencode|Fence_Tencode', u'GrLivArea|GarageType_Tencode', u'BedroomAbvGr|SaleType_Tencode', u'GarageCond_Tencode', u'HeatingQC_Tencode|BsmtFinType2_Tencode', u'PavedDrive_Tencode|HalfBath', u'HouseStyle_Tencode|Condition1_Tencode', u'KitchenQual_Tencode|MSSubClass', u'HeatingQC_Tencode|Foundation_Tencode', u'WoodDeckSF|MasVnrType_Tencode', u'OpenPorchSF|Utilities_Tencode', u'Exterior2nd_Tencode|Alley_Tencode', u'Exterior2nd_Tencode|BsmtQual_Tencode', u'3SsnPorch|TotRmsAbvGrd', u'Exterior2nd_Tencode|YrSold', u'BsmtFinType1_Tencode|PoolQC_Tencode', u'MasVnrArea|BedroomAbvGr', u'FullBath|LotShape_Tencode', u'KitchenAbvGr|Utilities_Tencode', u'OpenPorchSF|BsmtCond_Tencode', u'MasVnrArea|TotalBsmtSF', u'Electrical_Tencode|FullBath', u'GarageType_Tencode|YrSold', u'HeatingQC_Tencode|OverallCond', u'EnclosedPorch|BsmtFinType1_Tencode', u'KitchenQual_Tencode|PoolQC_Tencode', u'Street_Tencode|LotShape_Tencode', u'HalfBath|GarageFinish_Tencode', u'Neighborhood_Tencode|Functional_Tencode', u'GarageYrBlt|Street_Tencode', u'Condition2_Tencode|2ndFlrSF', u'KitchenQual_Tencode|Functional_Tencode', u'GarageQual_Tencode|Utilities_Tencode', u'KitchenQual_Tencode|FullBath', u'WoodDeckSF|MSZoning_Tencode', u'FireplaceQu_Tencode|Alley_Tencode', u'HalfBath|BsmtHalfBath', u'Foundation_Tencode|RoofStyle_Tencode', u'BsmtFullBath|Fireplaces', u'OverallQual|LotShape_Tencode', u'3SsnPorch|BsmtFullBath', u'ExterQual_Tencode|TotRmsAbvGrd', u'BsmtUnfSF|BsmtHalfBath', u'Neighborhood_Tencode|BsmtFinSF1', u'Condition2_Tencode|TotRmsAbvGrd', u'BsmtFinType2_Tencode|RoofStyle_Tencode', u'Exterior2nd_Tencode|BsmtExposure_Tencode', u'SaleCondition_Tencode|Exterior2nd_Tencode', u'KitchenQual_Tencode|BedroomAbvGr', u'GarageCond_Tencode|2ndFlrSF', u'BsmtFinType1_Tencode|MasVnrArea', u'PavedDrive_Tencode|MSZoning_Tencode', u'EnclosedPorch|LotShape_Tencode', u'BldgType_Tencode|Functional_Tencode', u'MasVnrArea|YrSold', u'OverallQual|RoofMatl_Tencode', u'BsmtFinSF1', u'Exterior1st_Tencode|BsmtCond_Tencode', u'Exterior2nd_Tencode|MSZoning_Tencode', u'WoodDeckSF|BsmtFinSF2', u'BsmtFinType2_Tencode|GarageType_Tencode', u'WoodDeckSF|BsmtFinSF1', u'Electrical_Tencode|CentralAir_Tencode', u'HouseStyle_Tencode|Functional_Tencode', u'KitchenQual_Tencode|YrSold', u'HouseStyle_Tencode|LandContour_Tencode', u'Heating_Tencode|KitchenQual_Tencode', u'SaleCondition_Tencode|2ndFlrSF', u'HeatingQC_Tencode|PoolQC_Tencode', u'BsmtFullBath|LandContour_Tencode', u'LotArea|Alley_Tencode', u'Condition2_Tencode|YearBuilt', u'Foundation_Tencode|LotConfig_Tencode', u'Exterior1st_Tencode|BsmtExposure_Tencode', u'Utilities_Tencode|Functional_Tencode', u'MoSold|1stFlrSF', u'GrLivArea|MasVnrType_Tencode', u'2ndFlrSF|LotShape_Tencode', u'GarageArea|GarageCars', u'LotFrontage|LowQualFinSF', u'Street_Tencode|Fireplaces', u'OverallQual|1stFlrSF', u'YearRemodAdd|Fence_Tencode', u'GarageYrBlt|FireplaceQu_Tencode', u'RoofMatl_Tencode|MasVnrArea', u'Functional_Tencode|GarageArea', u'GarageYrBlt|MSZoning_Tencode', u'SaleCondition_Tencode|GarageFinish_Tencode', u'Utilities_Tencode', u'Functional_Tencode|ScreenPorch', u'GarageYrBlt|KitchenQual_Tencode', u'1stFlrSF|BsmtExposure_Tencode', u'Foundation_Tencode|ExterQual_Tencode', u'TotalBsmtSF|BedroomAbvGr', u'KitchenAbvGr|LandSlope_Tencode', u'GarageType_Tencode|SaleType_Tencode', u'Heating_Tencode|GarageCond_Tencode', u'LotArea|GarageCars', u'Exterior2nd_Tencode|BsmtFinSF1', u'MasVnrArea|Functional_Tencode', u'SaleCondition_Tencode|PavedDrive_Tencode', u'SaleCondition_Tencode|BsmtQual_Tencode', u'MasVnrType_Tencode|SaleType_Tencode', u'MasVnrArea|PoolQC_Tencode', u'MasVnrType_Tencode|Fence_Tencode', u'FireplaceQu_Tencode|LowQualFinSF', u'BsmtUnfSF|LowQualFinSF', u'Electrical_Tencode|LandSlope_Tencode', u'RoofStyle_Tencode|BldgType_Tencode', u'MoSold|BsmtUnfSF', u'BsmtQual_Tencode|BsmtFinSF1', u'BsmtQual_Tencode|BsmtExposure_Tencode', u'OverallQual|Condition2_Tencode', u'MasVnrType_Tencode', u'Neighborhood_Tencode|ScreenPorch', u'PoolArea|GarageFinish_Tencode', u'Condition2_Tencode|Electrical_Tencode', u'BsmtFullBath|BedroomAbvGr', u'GarageType_Tencode|BedroomAbvGr', u'HouseStyle_Tencode|YrSold', u'EnclosedPorch|GarageCond_Tencode', u'Exterior2nd_Tencode|BedroomAbvGr', u'GarageType_Tencode|Functional_Tencode', u'3SsnPorch|RoofStyle_Tencode', u'ExterQual_Tencode|WoodDeckSF', u'Exterior1st_Tencode|PoolArea', u'3SsnPorch|Exterior1st_Tencode', u'MasVnrArea|TotRmsAbvGrd', u'LandSlope_Tencode|LotShape_Tencode', u'OverallQual|OverallCond', u'BedroomAbvGr|GarageCars', u'BsmtFinType2_Tencode|Fireplaces', u'BsmtFullBath|PoolArea', u'OverallCond|LandSlope_Tencode', u'GarageCond_Tencode|LandContour_Tencode', u'MSSubClass|GarageArea', u'1stFlrSF|BsmtFinSF2', u'3SsnPorch|LotShape_Tencode', u'Street_Tencode|Exterior1st_Tencode', u'KitchenQual_Tencode|BsmtUnfSF', u'OpenPorchSF|OverallCond', u'OpenPorchSF|BsmtFinSF1', u'LotArea|GarageCond_Tencode', u'MasVnrType_Tencode|BsmtExposure_Tencode', u'Exterior1st_Tencode|LotShape_Tencode', u'HeatingQC_Tencode|ScreenPorch', u'TotRmsAbvGrd|BsmtFinSF1', u'Foundation_Tencode|RoofMatl_Tencode', u'Heating_Tencode|GrLivArea', u'GarageFinish_Tencode|BedroomAbvGr', u'LotArea|MasVnrType_Tencode', u'SaleCondition_Tencode|OverallCond', u'SaleCondition_Tencode|Electrical_Tencode', u'Heating_Tencode|Condition1_Tencode', u'HouseStyle_Tencode|MSSubClass', u'MasVnrType_Tencode|ScreenPorch', u'Fence_Tencode|GarageCars', u'KitchenQual_Tencode|BsmtFinSF2', u'Street_Tencode|BedroomAbvGr', u'FireplaceQu_Tencode|BsmtFinType1_Tencode', u'FireplaceQu_Tencode|SaleType_Tencode', u'BsmtFinType1_Tencode|GarageCars', u'3SsnPorch|BsmtExposure_Tencode', u'BsmtFinType1_Tencode|GarageArea', u'LotShape_Tencode|GarageCars', u'Electrical_Tencode|RoofMatl_Tencode', u'BsmtFinType1_Tencode|SaleType_Tencode', u'Street_Tencode|Utilities_Tencode', u'FullBath', u'BsmtQual_Tencode|BsmtFinSF2', u'RoofStyle_Tencode', u'MoSold|GarageArea', u'OverallQual|SaleCondition_Tencode', u'MSSubClass|BsmtCond_Tencode', u'BsmtFinSF2|YrSold', u'LotConfig_Tencode|RoofMatl_Tencode', u'BsmtFinSF2|SaleType_Tencode', u'GarageFinish_Tencode|GarageCars', u'LotArea', u'BsmtQual_Tencode', u'KitchenAbvGr|MoSold', u'Foundation_Tencode|Electrical_Tencode', u'Foundation_Tencode|Utilities_Tencode', u'EnclosedPorch|SaleCondition_Tencode', u'Alley_Tencode|BsmtCond_Tencode', u'LotArea|Utilities_Tencode', u'MasVnrType_Tencode|GarageArea', u'OverallCond|YrSold', u'OpenPorchSF|LowQualFinSF', u'Condition1_Tencode|PoolQC_Tencode', u'PoolArea|GarageCars', u'2ndFlrSF|MiscVal', u'ExterQual_Tencode|BsmtFinType1_Tencode', u'OverallCond', u'SaleCondition_Tencode|OpenPorchSF', u'Functional_Tencode|GarageCars', u'FireplaceQu_Tencode|MSSubClass', u'SaleCondition_Tencode|BsmtFinType1_Tencode', u'RoofStyle_Tencode|HalfBath', u'ExterCond_Tencode|MSZoning_Tencode', u'2ndFlrSF|MasVnrArea', u'Heating_Tencode|GarageYrBlt', u'BsmtFullBath|HalfBath', u'BldgType_Tencode|Utilities_Tencode', u'RoofStyle_Tencode|PavedDrive_Tencode', u'2ndFlrSF|ExterQual_Tencode', u'HeatingQC_Tencode|BldgType_Tencode', u'BsmtCond_Tencode|BedroomAbvGr', u'LotFrontage|ExterCond_Tencode', u'BsmtFinSF2|BsmtFinSF1', u'Street_Tencode|KitchenQual_Tencode', u'LowQualFinSF|GarageFinish_Tencode', u'BsmtFinSF2|Functional_Tencode', u'LotFrontage|HouseStyle_Tencode', u'CentralAir_Tencode|BedroomAbvGr', u'BsmtFinSF1|LandContour_Tencode', u'GarageFinish_Tencode|TotalBsmtSF', u'GarageType_Tencode|BsmtExposure_Tencode', u'MoSold|Fireplaces', u'Heating_Tencode|Alley_Tencode', u'Exterior1st_Tencode|MSSubClass', u'GarageType_Tencode|Neighborhood_Tencode', u'RoofStyle_Tencode|TotRmsAbvGrd', u'WoodDeckSF|TotRmsAbvGrd', u'Heating_Tencode|LowQualFinSF', u'GarageCond_Tencode|Exterior1st_Tencode', u'MSSubClass|Fence_Tencode', u'ExterQual_Tencode|YrSold', u'OpenPorchSF|LotConfig_Tencode', u'FullBath|RoofMatl_Tencode', u'Alley_Tencode|MSZoning_Tencode', u'EnclosedPorch|BsmtFullBath', u'GarageQual_Tencode|WoodDeckSF', u'Exterior1st_Tencode|LotConfig_Tencode', u'BsmtCond_Tencode|MiscVal', u'Heating_Tencode|Functional_Tencode', u'Neighborhood_Tencode|SaleType_Tencode', u'ExterCond_Tencode|HalfBath', u'GrLivArea', u'ExterQual_Tencode|RoofStyle_Tencode', u'MiscFeature_Tencode|LotShape_Tencode', u'Exterior1st_Tencode|GarageCars', u'HalfBath|1stFlrSF', u'MiscVal|Fence_Tencode', u'HalfBath|LandContour_Tencode', u'HalfBath|Fence_Tencode', u'GarageFinish_Tencode|SaleType_Tencode', u'GarageYrBlt|HouseStyle_Tencode', u'Exterior1st_Tencode|GarageArea', u'TotRmsAbvGrd|Functional_Tencode', u'BsmtFinType2_Tencode|RoofMatl_Tencode', u'GarageQual_Tencode|RoofStyle_Tencode', u'BsmtHalfBath|BsmtExposure_Tencode', u'LotConfig_Tencode|BsmtExposure_Tencode', u'GarageQual_Tencode|GarageType_Tencode', u'MasVnrArea|SaleType_Tencode', u'HeatingQC_Tencode|BsmtFinType1_Tencode', u'LotArea|Street_Tencode', u'GrLivArea|2ndFlrSF', u'OpenPorchSF|GarageType_Tencode', u'Street_Tencode|TotRmsAbvGrd', u'CentralAir_Tencode|OverallCond', u'3SsnPorch|BsmtFinSF1', u'HalfBath|MSZoning_Tencode', u'3SsnPorch|BsmtFinSF2', u'BsmtFinType2_Tencode|ExterQual_Tencode', u'GrLivArea|LandContour_Tencode', u'YearBuilt|Functional_Tencode', u'OverallCond|TotalBsmtSF', u'1stFlrSF|MasVnrType_Tencode', u'OverallQual|TotRmsAbvGrd', u'HeatingQC_Tencode|Functional_Tencode', u'MasVnrArea|MiscVal', u'GarageCond_Tencode|Exterior2nd_Tencode', u'Foundation_Tencode|SaleType_Tencode', u'YearRemodAdd|KitchenQual_Tencode', u'OpenPorchSF|PavedDrive_Tencode', u'HalfBath|SaleType_Tencode', u'LotShape_Tencode|SaleType_Tencode', u'RoofMatl_Tencode|HalfBath', u'3SsnPorch|Fireplaces', u'Condition2_Tencode|BsmtUnfSF', u'PavedDrive_Tencode|BsmtExposure_Tencode', u'OverallCond|BsmtFinSF1', u'YearRemodAdd|LotShape_Tencode', u'RoofStyle_Tencode|MiscVal', u'OverallCond|BsmtFinSF2', u'BsmtFullBath|Alley_Tencode', u'LotConfig_Tencode|LandContour_Tencode', u'LotConfig_Tencode|PoolQC_Tencode', u'KitchenQual_Tencode|GarageCars', u'GarageType_Tencode|LandContour_Tencode', u'Exterior1st_Tencode|Neighborhood_Tencode', u'BsmtQual_Tencode|TotRmsAbvGrd', u'Exterior1st_Tencode|MiscVal', u'LotShape_Tencode|GarageArea', u'Fireplaces|LotShape_Tencode', u'RoofMatl_Tencode|Alley_Tencode', u'MasVnrType_Tencode|Functional_Tencode', u'BsmtHalfBath|TotalBsmtSF', u'KitchenAbvGr|MasVnrType_Tencode', u'Exterior1st_Tencode|TotRmsAbvGrd', u'MiscFeature_Tencode|GarageFinish_Tencode', u'Condition2_Tencode|BsmtExposure_Tencode', u'BsmtUnfSF|PoolArea', u'MoSold|GarageCond_Tencode', u'MiscFeature_Tencode|PoolQC_Tencode', u'MoSold|RoofMatl_Tencode', u'Exterior2nd_Tencode|BsmtCond_Tencode', u'EnclosedPorch|SaleType_Tencode', u'Condition2_Tencode|BldgType_Tencode', u'HeatingQC_Tencode|GarageType_Tencode', u'Neighborhood_Tencode|BedroomAbvGr', u'Heating_Tencode|MasVnrType_Tencode', u'FullBath|BsmtExposure_Tencode', u'GarageYrBlt|OverallQual', u'Condition2_Tencode|ExterCond_Tencode', u'LotConfig_Tencode|BsmtHalfBath', u'GarageType_Tencode|GarageArea', u'EnclosedPorch|BsmtQual_Tencode', u'CentralAir_Tencode|PavedDrive_Tencode', u'OpenPorchSF|BsmtFinSF2', u'GarageCond_Tencode|LotConfig_Tencode', u'Condition1_Tencode|Fence_Tencode', u'LotArea|TotRmsAbvGrd', u'LotArea|ExterCond_Tencode', u'1stFlrSF|ScreenPorch', u'PoolArea|LotShape_Tencode', u'Electrical_Tencode|BedroomAbvGr', u'EnclosedPorch|Electrical_Tencode', u'LotConfig_Tencode|WoodDeckSF', u'3SsnPorch|FireplaceQu_Tencode', u'1stFlrSF|Condition1_Tencode', u'HalfBath|BsmtExposure_Tencode', u'Fireplaces|Condition1_Tencode', u'GarageYrBlt', u'MoSold|Alley_Tencode', u'BsmtFinSF1|LotShape_Tencode', u'Exterior2nd_Tencode|LowQualFinSF', u'YearRemodAdd|BsmtFinType2_Tencode', u'SaleCondition_Tencode|BsmtFinSF2', u'SaleCondition_Tencode|BsmtFinSF1', u'OverallCond|MiscVal', u'EnclosedPorch', u'HeatingQC_Tencode|SaleCondition_Tencode', u'Exterior1st_Tencode|YearBuilt', u'SaleCondition_Tencode|PoolArea', u'OverallCond|Fireplaces', u'BldgType_Tencode|BsmtCond_Tencode', u'HouseStyle_Tencode|Fence_Tencode', u'BsmtQual_Tencode|RoofMatl_Tencode', u'KitchenAbvGr', u'Condition2_Tencode|Alley_Tencode', u'BsmtFinType1_Tencode|RoofMatl_Tencode', u'OverallCond|BedroomAbvGr', u'LandSlope_Tencode|SaleType_Tencode', u'WoodDeckSF|YrSold', u'FullBath|HalfBath', u'WoodDeckSF|SaleType_Tencode', u'Heating_Tencode|OverallQual', u'HeatingQC_Tencode|LowQualFinSF', u'KitchenAbvGr|ExterCond_Tencode', u'BldgType_Tencode|GarageArea', u'Exterior1st_Tencode|Utilities_Tencode', u'FireplaceQu_Tencode|TotRmsAbvGrd', u'EnclosedPorch|Fireplaces', u'MiscFeature_Tencode|RoofStyle_Tencode', u'MiscFeature_Tencode|MSZoning_Tencode', u'PoolArea', u'GrLivArea|Fireplaces', u'Heating_Tencode|WoodDeckSF', u'Exterior2nd_Tencode|LotConfig_Tencode', u'BsmtCond_Tencode|WoodDeckSF', u'BsmtUnfSF|2ndFlrSF', u'GarageQual_Tencode|OverallCond', u'Neighborhood_Tencode|Fence_Tencode', u'WoodDeckSF|TotalBsmtSF', u'Heating_Tencode|MiscFeature_Tencode', u'RoofStyle_Tencode|MSSubClass', u'OverallQual|PavedDrive_Tencode', u'ExterQual_Tencode|Utilities_Tencode', u'MoSold|BsmtCond_Tencode', u'3SsnPorch|Neighborhood_Tencode', u'GarageType_Tencode|ScreenPorch', u'HeatingQC_Tencode|MasVnrArea', u'SaleCondition_Tencode|GarageType_Tencode', u'MoSold|TotRmsAbvGrd', u'KitchenAbvGr|BedroomAbvGr', u'BsmtQual_Tencode|GarageCars', u'OverallCond|LandContour_Tencode', u'OverallQual|BsmtQual_Tencode', u'GrLivArea|BsmtFullBath', u'LowQualFinSF|ScreenPorch', u'BsmtUnfSF|Functional_Tencode', u'Fence_Tencode|LandContour_Tencode', u'BsmtFullBath|LotFrontage', u'BsmtFullBath|BsmtHalfBath', u'BsmtQual_Tencode|BsmtHalfBath', u'RoofStyle_Tencode|LotConfig_Tencode', u'KitchenQual_Tencode|MSZoning_Tencode', u'BsmtUnfSF|BsmtFinType1_Tencode', u'Foundation_Tencode|GarageCond_Tencode', u'Exterior2nd_Tencode|GarageFinish_Tencode', u'GrLivArea|TotRmsAbvGrd', u'RoofMatl_Tencode|MasVnrType_Tencode', u'Condition2_Tencode|KitchenQual_Tencode', u'HeatingQC_Tencode|LotShape_Tencode', u'Exterior2nd_Tencode|BldgType_Tencode', u'LandSlope_Tencode|ScreenPorch', u'PoolArea|BsmtFinType1_Tencode', u'2ndFlrSF|Utilities_Tencode', u'YearBuilt|BsmtExposure_Tencode', u'Electrical_Tencode|MasVnrArea', u'GarageYrBlt|Condition1_Tencode', u'BsmtQual_Tencode|WoodDeckSF', u'GarageType_Tencode|HalfBath', u'LotFrontage|FireplaceQu_Tencode', u'BsmtFullBath|LotConfig_Tencode', u'EnclosedPorch|GarageCars', u'YearRemodAdd|GarageCond_Tencode', u'MSZoning_Tencode|GarageCars', u'BsmtFullBath|Electrical_Tencode', u'LotConfig_Tencode|MasVnrType_Tencode', u'GarageCond_Tencode|YrSold', u'HeatingQC_Tencode|Utilities_Tencode', u'GarageCond_Tencode|FullBath', u'MoSold|2ndFlrSF', u'FireplaceQu_Tencode|MasVnrType_Tencode', u'SaleCondition_Tencode|TotalBsmtSF', u'Alley_Tencode|Fireplaces', u'2ndFlrSF|BsmtFinSF1', u'Condition2_Tencode|Exterior1st_Tencode', u'Condition1_Tencode|LandContour_Tencode', u'SaleCondition_Tencode|BsmtExposure_Tencode', u'Utilities_Tencode|SaleType_Tencode', u'SaleCondition_Tencode|LowQualFinSF', u'1stFlrSF|PoolQC_Tencode', u'OpenPorchSF|MasVnrType_Tencode', u'2ndFlrSF|BsmtExposure_Tencode', u'YrSold|LotShape_Tencode', u'FireplaceQu_Tencode|GarageArea', u'BsmtCond_Tencode|SaleType_Tencode', u'TotalBsmtSF|Functional_Tencode', u'KitchenQual_Tencode|OpenPorchSF', u'RoofMatl_Tencode|BedroomAbvGr', u'2ndFlrSF|LowQualFinSF', u'HouseStyle_Tencode|Neighborhood_Tencode', u'ExterQual_Tencode|Neighborhood_Tencode', u'OverallQual|SaleType_Tencode', u'MoSold|Exterior2nd_Tencode', u'GarageYrBlt|Fireplaces', u'HouseStyle_Tencode|CentralAir_Tencode', u'BsmtUnfSF|MiscVal', u'BldgType_Tencode|BsmtHalfBath', u'ExterQual_Tencode|Fence_Tencode', u'KitchenAbvGr|LandContour_Tencode', u'ExterCond_Tencode|LandSlope_Tencode', u'Exterior1st_Tencode|PoolQC_Tencode', u'BsmtUnfSF|ExterCond_Tencode', u'RoofStyle_Tencode|MasVnrType_Tencode', u'PoolArea|SaleType_Tencode', u'BsmtFinType1_Tencode|WoodDeckSF', u'HouseStyle_Tencode|TotRmsAbvGrd', u'Exterior1st_Tencode|BsmtFinSF2', u'Exterior1st_Tencode|BsmtFinSF1', u'EnclosedPorch|MSSubClass', u'Condition2_Tencode|ExterQual_Tencode', u'MSSubClass|MSZoning_Tencode', u'FullBath|HouseStyle_Tencode', u'2ndFlrSF|Exterior2nd_Tencode', u'ExterQual_Tencode|LowQualFinSF', u'FireplaceQu_Tencode|Utilities_Tencode', u'YearBuilt|Fireplaces', u'RoofStyle_Tencode|GarageType_Tencode', u'PoolArea|BsmtExposure_Tencode', u'KitchenAbvGr|GarageType_Tencode', u'LotArea|BsmtFinSF2', u'HalfBath|BldgType_Tencode', u'Condition2_Tencode|EnclosedPorch', u'BsmtUnfSF|Neighborhood_Tencode', u'Fence_Tencode|BsmtFinSF1', u'FireplaceQu_Tencode|BsmtHalfBath', u'3SsnPorch|Foundation_Tencode', u'BsmtUnfSF|HalfBath', u'LotFrontage|MasVnrType_Tencode', u'GarageYrBlt|ExterCond_Tencode', u'BsmtFinSF2|BedroomAbvGr', u'HeatingQC_Tencode|YrSold', u'FireplaceQu_Tencode|BsmtCond_Tencode', u'Utilities_Tencode|GarageFinish_Tencode', u'LowQualFinSF|WoodDeckSF', u'EnclosedPorch|Condition1_Tencode', u'LotArea|ExterQual_Tencode', u'Street_Tencode|ExterQual_Tencode', u'YearBuilt|MiscVal', u'1stFlrSF|GarageArea', u'FireplaceQu_Tencode|1stFlrSF', u'Utilities_Tencode|MSZoning_Tencode', u'PavedDrive_Tencode|Condition1_Tencode', u'Heating_Tencode|CentralAir_Tencode', u'Functional_Tencode|LandContour_Tencode', u'MasVnrType_Tencode|BedroomAbvGr', u'GarageFinish_Tencode|MiscVal', u'MSSubClass|BsmtFinType1_Tencode', u'LotArea|SaleCondition_Tencode', u'FullBath|BsmtFinType1_Tencode', u'GarageFinish_Tencode|LandContour_Tencode', u'EnclosedPorch|ScreenPorch', u'LotConfig_Tencode|LowQualFinSF', u'LotFrontage|1stFlrSF', u'LowQualFinSF|Alley_Tencode', u'YearRemodAdd|Functional_Tencode', u'FullBath|SaleType_Tencode', u'LotConfig_Tencode|Fence_Tencode', u'2ndFlrSF|OverallCond', u'Alley_Tencode|Neighborhood_Tencode', u'GrLivArea|BldgType_Tencode', u'Utilities_Tencode|LandContour_Tencode', u'Fireplaces|BsmtExposure_Tencode', u'MSSubClass|LandContour_Tencode', u'YearRemodAdd|OverallCond', u'Fence_Tencode|GarageArea', u'LotFrontage|GarageType_Tencode', u'MiscFeature_Tencode|GarageCars', u'BsmtFinType1_Tencode|Fireplaces', u'RoofStyle_Tencode|BsmtFinSF1', u'RoofStyle_Tencode|BsmtFinSF2', u'MasVnrArea|BsmtFinSF1', u'GarageQual_Tencode|BsmtCond_Tencode', u'MasVnrArea|BsmtFinSF2', u'KitchenAbvGr|GarageArea', u'CentralAir_Tencode|BldgType_Tencode', u'GarageYrBlt|Alley_Tencode', u'BsmtFullBath|Utilities_Tencode', u'KitchenAbvGr|OverallCond', u'Condition2_Tencode|MiscFeature_Tencode', u'LotFrontage|GarageFinish_Tencode', u'Exterior2nd_Tencode|GarageCars', u'LotFrontage', u'FullBath|Utilities_Tencode', u'GarageType_Tencode|MasVnrType_Tencode', u'PoolQC_Tencode|SaleType_Tencode', u'LotFrontage|BsmtFinType1_Tencode', u'FullBath|BsmtFinSF2', u'LandSlope_Tencode|TotalBsmtSF', u'MiscFeature_Tencode|PoolArea', u'MiscVal|GarageCars', u'ExterCond_Tencode|YearBuilt', u'KitchenAbvGr|RoofMatl_Tencode', u'MasVnrType_Tencode|GarageCars', u'Alley_Tencode|LandSlope_Tencode', u'OverallCond|GarageFinish_Tencode', u'HouseStyle_Tencode|LotConfig_Tencode', u'GrLivArea|1stFlrSF', u'GarageFinish_Tencode|MSZoning_Tencode', u'MiscVal|ScreenPorch', u'EnclosedPorch|Street_Tencode', u'Electrical_Tencode|LowQualFinSF', u'OverallQual|MasVnrType_Tencode', u'Alley_Tencode|LandContour_Tencode', u'PoolQC_Tencode|ScreenPorch', u'Exterior2nd_Tencode|OverallCond', u'Exterior2nd_Tencode', u'TotRmsAbvGrd|Neighborhood_Tencode', u'BsmtCond_Tencode|LandSlope_Tencode', u'LotFrontage|PoolQC_Tencode', u'BsmtFinSF2|GarageCars', u'ExterQual_Tencode|HalfBath', u'BsmtCond_Tencode|TotalBsmtSF', u'ExterCond_Tencode|Electrical_Tencode', u'MiscFeature_Tencode|Foundation_Tencode', u'MoSold|YearBuilt', u'SaleCondition_Tencode|MasVnrArea', u'FullBath|GarageType_Tencode', u'FireplaceQu_Tencode|MoSold', u'KitchenAbvGr|YrSold', u'2ndFlrSF|PavedDrive_Tencode', u'BldgType_Tencode|LandSlope_Tencode', u'LowQualFinSF|BsmtExposure_Tencode', u'OpenPorchSF|MiscVal', u'GarageQual_Tencode|Condition1_Tencode', u'Electrical_Tencode|Fireplaces', u'OpenPorchSF|PoolQC_Tencode', u'MoSold|FullBath', u'LowQualFinSF|Fence_Tencode', u'HouseStyle_Tencode|ExterQual_Tencode', u'BsmtFullBath|BldgType_Tencode', u'Heating_Tencode|GarageCars', u'GrLivArea|TotalBsmtSF', u'CentralAir_Tencode|LotConfig_Tencode', u'KitchenAbvGr|WoodDeckSF', u'SaleCondition_Tencode|ExterCond_Tencode', u'GarageFinish_Tencode|TotRmsAbvGrd', u'BsmtFinType1_Tencode|LotShape_Tencode', u'YearRemodAdd|BsmtQual_Tencode', u'GrLivArea|SaleType_Tencode', u'MiscVal|LandContour_Tencode', u'ExterCond_Tencode|ScreenPorch', u'ExterCond_Tencode|RoofStyle_Tencode', u'MSZoning_Tencode', u'MiscVal|BedroomAbvGr', u'GarageCond_Tencode|MasVnrType_Tencode', u'HalfBath|MasVnrType_Tencode', u'LotFrontage|SaleType_Tencode', u'BldgType_Tencode|BsmtFinSF2', u'BldgType_Tencode|BsmtFinSF1', u'SaleCondition_Tencode|FullBath', u'MasVnrArea|1stFlrSF', u'MiscVal|MSZoning_Tencode', u'RoofMatl_Tencode|LandContour_Tencode', u'GarageQual_Tencode|PoolArea', u'BsmtQual_Tencode|PoolQC_Tencode', u'GarageYrBlt|GarageQual_Tencode', u'BsmtFinType1_Tencode|BsmtExposure_Tencode', u'GarageType_Tencode|OverallCond', u'LandSlope_Tencode|MSZoning_Tencode', u'YearRemodAdd|GarageQual_Tencode', u'2ndFlrSF|LandContour_Tencode', u'MiscFeature_Tencode|KitchenAbvGr', u'OverallQual|YearRemodAdd', u'PoolQC_Tencode|BsmtExposure_Tencode', u'ExterCond_Tencode|FullBath', u'GarageQual_Tencode|LotShape_Tencode', u'HalfBath|Condition1_Tencode', u'EnclosedPorch|FullBath', u'BsmtFullBath', u'YearRemodAdd|YearBuilt', u'OpenPorchSF|MasVnrArea', u'ExterCond_Tencode|SaleType_Tencode', u'CentralAir_Tencode|WoodDeckSF', u'GarageFinish_Tencode|Fence_Tencode', u'SaleCondition_Tencode|Condition1_Tencode', u'BldgType_Tencode|1stFlrSF', u'Condition2_Tencode|OverallCond', u'LotFrontage|WoodDeckSF', u'MoSold|BsmtQual_Tencode', u'BsmtHalfBath|MSZoning_Tencode', u'LowQualFinSF|PoolQC_Tencode', u'Electrical_Tencode|HalfBath', u'MasVnrArea|MSZoning_Tencode', u'MiscFeature_Tencode', u'BsmtFinType1_Tencode|HalfBath', u'YearBuilt|MasVnrArea', u'LowQualFinSF|BldgType_Tencode', u'Street_Tencode|Functional_Tencode', u'WoodDeckSF|PoolQC_Tencode', u'GarageFinish_Tencode|BsmtExposure_Tencode', u'KitchenAbvGr|Foundation_Tencode', u'MasVnrArea|LotShape_Tencode', u'LotArea|1stFlrSF', u'Heating_Tencode|GarageQual_Tencode', u'LotFrontage|BsmtQual_Tencode', u'OverallQual|TotalBsmtSF', u'GrLivArea|LowQualFinSF', u'HouseStyle_Tencode|MasVnrType_Tencode', u'YearRemodAdd|1stFlrSF', u'Condition2_Tencode|BsmtFinSF2', u'Condition2_Tencode|BsmtFinSF1', u'LotArea|Fireplaces', u'LowQualFinSF|Functional_Tencode', u'YearBuilt|BldgType_Tencode', u'ExterCond_Tencode|BsmtHalfBath', u'Street_Tencode|GarageFinish_Tencode', u'OpenPorchSF|ExterQual_Tencode', u'LotFrontage|TotalBsmtSF', u'MiscVal|Neighborhood_Tencode', u'Alley_Tencode|TotalBsmtSF', u'Condition2_Tencode|LowQualFinSF', u'HouseStyle_Tencode|TotalBsmtSF', u'HouseStyle_Tencode|YearBuilt', u'2ndFlrSF|BsmtFinSF2', u'BsmtCond_Tencode|ScreenPorch', u'TotRmsAbvGrd|Fence_Tencode', u'BsmtFinType2_Tencode|MasVnrArea', u'Street_Tencode|WoodDeckSF', u'BsmtCond_Tencode|BsmtFinSF2', u'BsmtUnfSF|YrSold', u'LotConfig_Tencode|BsmtFinSF1', u'ExterCond_Tencode|BsmtExposure_Tencode', u'KitchenQual_Tencode|MasVnrType_Tencode', u'BsmtCond_Tencode', u'PavedDrive_Tencode|BedroomAbvGr', u'ExterQual_Tencode|YearBuilt', u'GrLivArea|KitchenQual_Tencode', u'ExterQual_Tencode|GarageCars', u'BsmtHalfBath|Functional_Tencode', u'MSSubClass|LotShape_Tencode', u'CentralAir_Tencode|LowQualFinSF', u'MiscVal|GarageArea', u'LotFrontage|PavedDrive_Tencode', u'Street_Tencode|YearBuilt', u'HouseStyle_Tencode|PoolArea', u'BsmtFinType2_Tencode|GarageArea', u'GarageCond_Tencode|OverallCond', u'Neighborhood_Tencode|LotShape_Tencode', u'MiscFeature_Tencode|OverallCond', u'EnclosedPorch|BedroomAbvGr', u'OpenPorchSF|FullBath', u'BldgType_Tencode|YrSold', u'Alley_Tencode|BsmtFinSF2', u'2ndFlrSF|CentralAir_Tencode', u'Alley_Tencode|BsmtFinSF1', u'Utilities_Tencode|MiscVal', u'ExterQual_Tencode|GarageArea', u'WoodDeckSF|GarageArea', u'GarageFinish_Tencode|YrSold', u'LowQualFinSF|BedroomAbvGr', u'Street_Tencode|KitchenAbvGr', u'ExterQual_Tencode|LotShape_Tencode', u'OpenPorchSF|BsmtHalfBath', u'YearRemodAdd|BsmtFinSF2', u'YearRemodAdd|BsmtFinSF1', u'ExterCond_Tencode|TotalBsmtSF', u'LotArea|BsmtQual_Tencode', u'Alley_Tencode|WoodDeckSF', u'Heating_Tencode|1stFlrSF', u'Alley_Tencode|MasVnrArea', u'GarageCars', u'RoofStyle_Tencode|RoofMatl_Tencode', u'MSZoning_Tencode|LandContour_Tencode', u'MasVnrArea|Fireplaces'])\n",
      "()\n",
      "('Categorical =', [u'Foundation', u'MSZoning', u'LotConfig', u'BsmtExposure', u'Functional', u'RoofMatl', u'CentralAir', u'GarageFinish', u'BsmtFinType2', u'BsmtFinType1', u'Utilities', u'MiscFeature', u'BsmtQual', u'HeatingQC', u'LotShape', u'PavedDrive', u'LandSlope', u'Alley', u'KitchenQual', u'BldgType', u'SaleCondition', u'Street', u'HouseStyle', u'Fence', u'RoofStyle', u'SaleType', u'Exterior1st', u'FireplaceQu', u'Exterior2nd', u'ExterCond', u'Neighborhood', u'BsmtCond', u'ExterQual', u'Heating', u'Condition2', u'Condition1', u'GarageCond', u'Electrical', u'LandContour', u'PoolQC', u'GarageType', u'MasVnrType', u'GarageQual'])\n"
     ]
    }
   ],
   "source": [
    "encoded_combined_nums, cats = get_type_lists(frame=train)"
   ]
  },
  {
   "cell_type": "code",
   "execution_count": 18,
   "metadata": {
    "collapsed": false,
    "deletable": true,
    "editable": true
   },
   "outputs": [
    {
     "name": "stdout",
     "output_type": "stream",
     "text": [
      "True\n",
      "True\n"
     ]
    }
   ],
   "source": [
    "# check number of created variables is correct\n",
    "# 1 id column, 1 target column, 79 original + encoded numeric columns, 43 original categorical variables\n",
    "# sum(range(1, 79)) combined variables\n",
    "print(train.shape == (1001, sum(range(1, 79), (79 + 43 + 1 + 1))))\n",
    "print(test.shape == (1459, sum(range(1, 79), (79 + 43 + 1 + 1))))"
   ]
  },
  {
   "cell_type": "code",
   "execution_count": 19,
   "metadata": {
    "collapsed": false,
    "deletable": true,
    "editable": true
   },
   "outputs": [
    {
     "data": {
      "text/html": [
       "<table>\n",
       "<thead>\n",
       "<tr><th style=\"text-align: right;\">  OverallQual</th><th style=\"text-align: right;\">  PoolQC_Tencode</th><th style=\"text-align: right;\">  OverallQual|PoolQC_Tencode</th></tr>\n",
       "</thead>\n",
       "<tbody>\n",
       "<tr><td style=\"text-align: right;\">            6</td><td style=\"text-align: right;\">          182172</td><td style=\"text-align: right;\">                 1.09303e+06</td></tr>\n",
       "</tbody>\n",
       "</table>"
      ]
     },
     "metadata": {},
     "output_type": "display_data"
    },
    {
     "name": "stdout",
     "output_type": "stream",
     "text": [
      "\n"
     ]
    },
    {
     "data": {
      "text/html": [
       "<table>\n",
       "<thead>\n",
       "<tr><th style=\"text-align: right;\">  OverallQual</th><th style=\"text-align: right;\">  PoolQC_Tencode</th><th style=\"text-align: right;\">  OverallQual|PoolQC_Tencode</th></tr>\n",
       "</thead>\n",
       "<tbody>\n",
       "<tr><td style=\"text-align: right;\">            5</td><td style=\"text-align: right;\">          178193</td><td style=\"text-align: right;\">                      890967</td></tr>\n",
       "</tbody>\n",
       "</table>"
      ]
     },
     "metadata": {},
     "output_type": "display_data"
    },
    {
     "name": "stdout",
     "output_type": "stream",
     "text": [
      "\n",
      "1093031.75425\n",
      "890967.48366\n"
     ]
    }
   ],
   "source": [
    "# check multiplication for a random column\n",
    "ridx = np.random.choice(sum(range(1, 79)))\n",
    "combined_only = [name for name in encoded_combined_nums if name not in encoded_nums]\n",
    "combined_check_vars = combined_only[ridx].split('|')\n",
    "combined_check_vars.append(combined_only[ridx])\n",
    "\n",
    "print(train[736, combined_check_vars])\n",
    "print(test[637, combined_check_vars])\n",
    "\n",
    "print(train[736, combined_check_vars[0]]*train[736, combined_check_vars[1]])\n",
    "print(test[637, combined_check_vars[0]]*test[637, combined_check_vars[1]])"
   ]
  },
  {
   "cell_type": "markdown",
   "metadata": {
    "deletable": true,
    "editable": true
   },
   "source": [
    "## Train constituent models (for inspection purposes)"
   ]
  },
  {
   "cell_type": "code",
   "execution_count": 20,
   "metadata": {
    "collapsed": false,
    "deletable": true,
    "editable": true
   },
   "outputs": [],
   "source": [
    "h2o.show_progress()                                          # turn on progress bars\n",
    "from h2o.estimators.glm import H2OGeneralizedLinearEstimator # import GLM models\n",
    "from h2o.grid.grid_search import H2OGridSearch               # grid search"
   ]
  },
  {
   "cell_type": "code",
   "execution_count": 21,
   "metadata": {
    "collapsed": false,
    "deletable": true,
    "editable": true
   },
   "outputs": [
    {
     "data": {
      "text/html": [
       "<table>\n",
       "<thead>\n",
       "<tr><th style=\"text-align: right;\">  SalePrice</th></tr>\n",
       "</thead>\n",
       "<tbody>\n",
       "<tr><td style=\"text-align: right;\">    12.2477</td></tr>\n",
       "<tr><td style=\"text-align: right;\">    12.109 </td></tr>\n",
       "<tr><td style=\"text-align: right;\">    12.3172</td></tr>\n",
       "</tbody>\n",
       "</table>"
      ]
     },
     "metadata": {},
     "output_type": "display_data"
    },
    {
     "name": "stdout",
     "output_type": "stream",
     "text": [
      "\n"
     ]
    },
    {
     "data": {
      "image/png": "[encoded data removed]",
      "text/plain": [
       "<matplotlib.figure.Figure at 0x121408bd0>"
      ]
     },
     "metadata": {},
     "output_type": "display_data"
    }
   ],
   "source": [
    "# Check log transform - looks good\n",
    "%matplotlib inline\n",
    "train['SalePrice'].log().as_data_frame().hist()\n",
    "\n",
    "# Execute log transform\n",
    "train['SalePrice'] = train['SalePrice'].log()\n",
    "valid['SalePrice'] = valid['SalePrice'].log()\n",
    "print(train[0:3, 'SalePrice'])"
   ]
  },
  {
   "cell_type": "markdown",
   "metadata": {
    "deletable": true,
    "editable": true
   },
   "source": [
    "#### Split training data"
   ]
  },
  {
   "cell_type": "code",
   "execution_count": 22,
   "metadata": {
    "collapsed": false,
    "deletable": true,
    "editable": true
   },
   "outputs": [
    {
     "name": "stdout",
     "output_type": "stream",
     "text": [
      "(504, 3205)\n",
      "(230, 3205)\n",
      "(497, 3205)\n",
      "(229, 3205)\n"
     ]
    }
   ],
   "source": [
    "base_train, stack_train = train.split_frame([0.5], seed=12345)\n",
    "base_valid, stack_valid = valid.split_frame([0.5], seed=12345)\n",
    "print(base_train.shape)\n",
    "print(base_valid.shape)\n",
    "print(stack_train.shape)\n",
    "print(stack_valid.shape)"
   ]
  },
  {
   "cell_type": "markdown",
   "metadata": {
    "deletable": true,
    "editable": true
   },
   "source": [
    "#### Define model with grid search function"
   ]
  },
  {
   "cell_type": "code",
   "execution_count": 23,
   "metadata": {
    "collapsed": true,
    "deletable": true,
    "editable": true
   },
   "outputs": [],
   "source": [
    "def glm_grid(X, y, train, valid):\n",
    "    \n",
    "    \"\"\" Wrapper function for penalized GLM with alpha and lambda search.\n",
    "    \n",
    "    :param X: List of inputs.\n",
    "    :param y: Name of target variable.\n",
    "    :param train: Name of training H2OFrame.\n",
    "    :param valid: Name of validation H2OFrame.\n",
    "    :return: Best H2Omodel from H2OGeneralizedLinearEstimator\n",
    "\n",
    "    \"\"\"\n",
    "    \n",
    "    alpha_opts = [0.01, 0.25, 0.5, 0.99] # always keep some L2\n",
    "    hyper_parameters = {\"alpha\":alpha_opts}\n",
    "\n",
    "    # initialize grid search\n",
    "    grid = H2OGridSearch(\n",
    "        H2OGeneralizedLinearEstimator(\n",
    "            family=\"gaussian\",\n",
    "            lambda_search=True,\n",
    "            seed=12345),\n",
    "        hyper_params=hyper_parameters)\n",
    "    \n",
    "    # train grid\n",
    "    grid.train(y=y,\n",
    "               x=X, \n",
    "               training_frame=train,\n",
    "               validation_frame=valid)\n",
    "\n",
    "    # show grid search results\n",
    "    print(grid.show())\n",
    "\n",
    "    best = grid.get_grid()[0]\n",
    "    print(best)\n",
    "    \n",
    "    # plot top frame values\n",
    "    yhat_frame = valid.cbind(best.predict(valid))\n",
    "    print(yhat_frame[0:10, [y, 'predict']])\n",
    "\n",
    "    # plot sorted predictions\n",
    "    yhat_frame_df = yhat_frame[[y, 'predict']].as_data_frame()\n",
    "    yhat_frame_df.sort_values(by='predict', inplace=True)\n",
    "    yhat_frame_df.reset_index(inplace=True, drop=True)\n",
    "    _ = yhat_frame_df.plot(title='Ranked Predictions Plot')\n",
    "    \n",
    "    # select best model\n",
    "    return best\n"
   ]
  },
  {
   "cell_type": "markdown",
   "metadata": {
    "deletable": true,
    "editable": true
   },
   "source": [
    "## Train base level models"
   ]
  },
  {
   "cell_type": "markdown",
   "metadata": {
    "deletable": true,
    "editable": true
   },
   "source": [
    "#### First model on original numeric inputs"
   ]
  },
  {
   "cell_type": "code",
   "execution_count": 24,
   "metadata": {
    "collapsed": false,
    "deletable": true,
    "editable": true
   },
   "outputs": [
    {
     "name": "stdout",
     "output_type": "stream",
     "text": [
      "glm Grid Build progress: |████████████████████████████████████████████████| 100%\n",
      "      alpha                                                      model_ids  \\\n",
      "0    [0.99]  Grid_GLM_py_288_sid_b21f_model_python_1497195175535_1_model_3   \n",
      "1     [0.5]  Grid_GLM_py_288_sid_b21f_model_python_1497195175535_1_model_2   \n",
      "2    [0.25]  Grid_GLM_py_288_sid_b21f_model_python_1497195175535_1_model_1   \n",
      "3    [0.01]  Grid_GLM_py_288_sid_b21f_model_python_1497195175535_1_model_0   \n",
      "\n",
      "   residual_deviance  \n",
      "0  4.025940991543426  \n",
      "1  4.037235202840883  \n",
      "2  4.058507339499796  \n",
      "3  4.491994155264081  \n",
      "None\n",
      "Model Details\n",
      "=============\n",
      "H2OGeneralizedLinearEstimator :  Generalized Linear Modeling\n",
      "Model Key:  Grid_GLM_py_288_sid_b21f_model_python_1497195175535_1_model_3\n",
      "\n",
      "\n",
      "ModelMetricsRegressionGLM: glm\n",
      "** Reported on train data. **\n",
      "\n",
      "MSE: 0.0215644048394\n",
      "RMSE: 0.146848237441\n",
      "MAE: 0.0968636763708\n",
      "RMSLE: 0.0113642283417\n",
      "R^2: 0.862319569887\n",
      "Mean Residual Deviance: 0.0215644048394\n",
      "Null degrees of freedom: 503\n",
      "Residual degrees of freedom: 479\n",
      "Null deviance: 78.9397594861\n",
      "Residual deviance: 10.8684600391\n",
      "AIC: -451.412427378\n",
      "\n",
      "ModelMetricsRegressionGLM: glm\n",
      "** Reported on validation data. **\n",
      "\n",
      "MSE: 0.0175040912676\n",
      "RMSE: 0.132303028187\n",
      "MAE: 0.0946380252925\n",
      "RMSLE: 0.0102488155478\n",
      "R^2: 0.882049320423\n",
      "Mean Residual Deviance: 0.0175040912676\n",
      "Null degrees of freedom: 229\n",
      "Residual degrees of freedom: 205\n",
      "Null deviance: 34.6687578237\n",
      "Residual deviance: 4.02594099154\n",
      "AIC: -225.712021617\n",
      "Scoring History: \n"
     ]
    },
    {
     "data": {
      "text/html": [
       "<div style=\"overflow:auto\"><table style=\"width:50%\"><tr><td><b></b></td>\n",
       "<td><b>timestamp</b></td>\n",
       "<td><b>duration</b></td>\n",
       "<td><b>iteration</b></td>\n",
       "<td><b>lambda</b></td>\n",
       "<td><b>predictors</b></td>\n",
       "<td><b>deviance_train</b></td>\n",
       "<td><b>deviance_test</b></td></tr>\n",
       "<tr><td></td>\n",
       "<td>2017-06-11 11:44:31</td>\n",
       "<td> 0.000 sec</td>\n",
       "<td>0</td>\n",
       "<td>.31E0</td>\n",
       "<td>2</td>\n",
       "<td>0.1472858</td>\n",
       "<td>0.1420261</td></tr>\n",
       "<tr><td></td>\n",
       "<td>2017-06-11 11:44:31</td>\n",
       "<td> 0.001 sec</td>\n",
       "<td>0</td>\n",
       "<td>.3E0</td>\n",
       "<td>2</td>\n",
       "<td>0.1387711</td>\n",
       "<td>0.1340858</td></tr>\n",
       "<tr><td></td>\n",
       "<td>2017-06-11 11:44:31</td>\n",
       "<td> 0.003 sec</td>\n",
       "<td>0</td>\n",
       "<td>.29E0</td>\n",
       "<td>2</td>\n",
       "<td>0.1310096</td>\n",
       "<td>0.1268453</td></tr>\n",
       "<tr><td></td>\n",
       "<td>2017-06-11 11:44:31</td>\n",
       "<td> 0.004 sec</td>\n",
       "<td>0</td>\n",
       "<td>.27E0</td>\n",
       "<td>2</td>\n",
       "<td>0.1239348</td>\n",
       "<td>0.1202429</td></tr>\n",
       "<tr><td></td>\n",
       "<td>2017-06-11 11:44:31</td>\n",
       "<td> 0.006 sec</td>\n",
       "<td>0</td>\n",
       "<td>.26E0</td>\n",
       "<td>2</td>\n",
       "<td>0.1174861</td>\n",
       "<td>0.1142224</td></tr>\n",
       "<tr><td>---</td>\n",
       "<td>---</td>\n",
       "<td>---</td>\n",
       "<td>---</td>\n",
       "<td>---</td>\n",
       "<td>---</td>\n",
       "<td>---</td>\n",
       "<td>---</td></tr>\n",
       "<tr><td></td>\n",
       "<td>2017-06-11 11:44:32</td>\n",
       "<td> 1.385 sec</td>\n",
       "<td>0</td>\n",
       "<td>.39E-2</td>\n",
       "<td>28</td>\n",
       "<td>0.0211140</td>\n",
       "<td>0.0177064</td></tr>\n",
       "<tr><td></td>\n",
       "<td>2017-06-11 11:44:32</td>\n",
       "<td> 1.409 sec</td>\n",
       "<td>0</td>\n",
       "<td>.38E-2</td>\n",
       "<td>29</td>\n",
       "<td>0.0210799</td>\n",
       "<td>0.0177301</td></tr>\n",
       "<tr><td></td>\n",
       "<td>2017-06-11 11:44:32</td>\n",
       "<td> 1.441 sec</td>\n",
       "<td>0</td>\n",
       "<td>.36E-2</td>\n",
       "<td>30</td>\n",
       "<td>0.0210495</td>\n",
       "<td>0.0177502</td></tr>\n",
       "<tr><td></td>\n",
       "<td>2017-06-11 11:44:32</td>\n",
       "<td> 1.482 sec</td>\n",
       "<td>0</td>\n",
       "<td>.34E-2</td>\n",
       "<td>30</td>\n",
       "<td>0.0210200</td>\n",
       "<td>0.0177665</td></tr>\n",
       "<tr><td></td>\n",
       "<td>2017-06-11 11:44:32</td>\n",
       "<td> 1.515 sec</td>\n",
       "<td>0</td>\n",
       "<td>.33E-2</td>\n",
       "<td>31</td>\n",
       "<td>0.0209917</td>\n",
       "<td>0.0177857</td></tr></table></div>"
      ],
      "text/plain": [
       "     timestamp            duration    iteration    lambda    predictors    deviance_train    deviance_test\n",
       "---  -------------------  ----------  -----------  --------  ------------  ----------------  ---------------\n",
       "     2017-06-11 11:44:31  0.000 sec   0            .31E0     2             0.147285755015    0.142026082078\n",
       "     2017-06-11 11:44:31  0.001 sec   0            .3E0      2             0.138771094202    0.134085812898\n",
       "     2017-06-11 11:44:31  0.003 sec   0            .29E0     2             0.131009620396    0.126845307535\n",
       "     2017-06-11 11:44:31  0.004 sec   0            .27E0     2             0.123934841983    0.120242908912\n",
       "     2017-06-11 11:44:31  0.006 sec   0            .26E0     2             0.117486119907    0.11422238163\n",
       "---  ---                  ---         ---          ---       ---           ---               ---\n",
       "     2017-06-11 11:44:32  1.385 sec   0            .39E-2    28            0.0211139652076   0.0177064115322\n",
       "     2017-06-11 11:44:32  1.409 sec   0            .38E-2    29            0.021079919242    0.0177301286973\n",
       "     2017-06-11 11:44:32  1.441 sec   0            .36E-2    30            0.0210495180396   0.0177502176891\n",
       "     2017-06-11 11:44:32  1.482 sec   0            .34E-2    30            0.0210199933147   0.017766522628\n",
       "     2017-06-11 11:44:32  1.515 sec   0            .33E-2    31            0.0209917210598   0.0177856983626"
      ]
     },
     "metadata": {},
     "output_type": "display_data"
    },
    {
     "name": "stdout",
     "output_type": "stream",
     "text": [
      "\n",
      "See the whole table with table.as_data_frame()\n",
      "\n",
      "glm prediction progress: |████████████████████████████████████████████████| 100%\n"
     ]
    },
    {
     "data": {
      "text/html": [
       "<table>\n",
       "<thead>\n",
       "<tr><th style=\"text-align: right;\">  SalePrice</th><th style=\"text-align: right;\">  predict</th></tr>\n",
       "</thead>\n",
       "<tbody>\n",
       "<tr><td style=\"text-align: right;\">    11.8494</td><td style=\"text-align: right;\">  11.9833</td></tr>\n",
       "<tr><td style=\"text-align: right;\">    12.2061</td><td style=\"text-align: right;\">  12.3454</td></tr>\n",
       "<tr><td style=\"text-align: right;\">    11.6784</td><td style=\"text-align: right;\">  11.6651</td></tr>\n",
       "<tr><td style=\"text-align: right;\">    11.914 </td><td style=\"text-align: right;\">  11.8164</td></tr>\n",
       "<tr><td style=\"text-align: right;\">    12.6758</td><td style=\"text-align: right;\">  12.4798</td></tr>\n",
       "<tr><td style=\"text-align: right;\">    12.861 </td><td style=\"text-align: right;\">  12.7562</td></tr>\n",
       "<tr><td style=\"text-align: right;\">    12.1035</td><td style=\"text-align: right;\">  12.0074</td></tr>\n",
       "<tr><td style=\"text-align: right;\">    11.2898</td><td style=\"text-align: right;\">  11.3823</td></tr>\n",
       "<tr><td style=\"text-align: right;\">    11.7714</td><td style=\"text-align: right;\">  11.7068</td></tr>\n",
       "<tr><td style=\"text-align: right;\">    11.5843</td><td style=\"text-align: right;\">  11.4633</td></tr>\n",
       "</tbody>\n",
       "</table>"
      ]
     },
     "metadata": {},
     "output_type": "display_data"
    },
    {
     "name": "stdout",
     "output_type": "stream",
     "text": [
      "\n"
     ]
    },
    {
     "data": {
      "image/png": "[encoded data removed]",
      "text/plain": [
       "<matplotlib.figure.Figure at 0x1273bd2d0>"
      ]
     },
     "metadata": {},
     "output_type": "display_data"
    }
   ],
   "source": [
    "glm0 = glm_grid(original_nums, 'SalePrice', base_train, base_valid)"
   ]
  },
  {
   "cell_type": "markdown",
   "metadata": {
    "deletable": true,
    "editable": true
   },
   "source": [
    "#### Second model on encoded numeric inputs"
   ]
  },
  {
   "cell_type": "code",
   "execution_count": 25,
   "metadata": {
    "collapsed": false,
    "deletable": true,
    "editable": true
   },
   "outputs": [
    {
     "name": "stdout",
     "output_type": "stream",
     "text": [
      "glm Grid Build progress: |████████████████████████████████████████████████| 100%\n",
      "      alpha                                                      model_ids  \\\n",
      "0    [0.99]  Grid_GLM_py_288_sid_b21f_model_python_1497195175535_2_model_3   \n",
      "1     [0.5]  Grid_GLM_py_288_sid_b21f_model_python_1497195175535_2_model_2   \n",
      "2    [0.25]  Grid_GLM_py_288_sid_b21f_model_python_1497195175535_2_model_1   \n",
      "3    [0.01]  Grid_GLM_py_288_sid_b21f_model_python_1497195175535_2_model_0   \n",
      "\n",
      "    residual_deviance  \n",
      "0  3.4885728891445145  \n",
      "1  3.4904363096331164  \n",
      "2  3.4980313337552422  \n",
      "3   3.996223581261385  \n",
      "None\n",
      "Model Details\n",
      "=============\n",
      "H2OGeneralizedLinearEstimator :  Generalized Linear Modeling\n",
      "Model Key:  Grid_GLM_py_288_sid_b21f_model_python_1497195175535_2_model_3\n",
      "\n",
      "\n",
      "ModelMetricsRegressionGLM: glm\n",
      "** Reported on train data. **\n",
      "\n",
      "MSE: 0.0150939049598\n",
      "RMSE: 0.122857254404\n",
      "MAE: 0.0853796062523\n",
      "RMSLE: 0.00954875481955\n",
      "R^2: 0.903631222729\n",
      "Mean Residual Deviance: 0.0150939049598\n",
      "Null degrees of freedom: 503\n",
      "Residual degrees of freedom: 455\n",
      "Null deviance: 78.9397594861\n",
      "Residual deviance: 7.60732809973\n",
      "AIC: -583.215946424\n",
      "\n",
      "ModelMetricsRegressionGLM: glm\n",
      "** Reported on validation data. **\n",
      "\n",
      "MSE: 0.0151677082137\n",
      "RMSE: 0.123157249944\n",
      "MAE: 0.0909267497423\n",
      "RMSLE: 0.00952194735616\n",
      "R^2: 0.897792952283\n",
      "Mean Residual Deviance: 0.0151677082137\n",
      "Null degrees of freedom: 229\n",
      "Residual degrees of freedom: 181\n",
      "Null deviance: 34.6687578237\n",
      "Residual deviance: 3.48857288914\n",
      "AIC: -210.663185969\n",
      "Scoring History: \n"
     ]
    },
    {
     "data": {
      "text/html": [
       "<div style=\"overflow:auto\"><table style=\"width:50%\"><tr><td><b></b></td>\n",
       "<td><b>timestamp</b></td>\n",
       "<td><b>duration</b></td>\n",
       "<td><b>iteration</b></td>\n",
       "<td><b>lambda</b></td>\n",
       "<td><b>predictors</b></td>\n",
       "<td><b>deviance_train</b></td>\n",
       "<td><b>deviance_test</b></td></tr>\n",
       "<tr><td></td>\n",
       "<td>2017-06-11 11:45:13</td>\n",
       "<td> 0.000 sec</td>\n",
       "<td>0</td>\n",
       "<td>.31E0</td>\n",
       "<td>2</td>\n",
       "<td>0.1472858</td>\n",
       "<td>0.1420261</td></tr>\n",
       "<tr><td></td>\n",
       "<td>2017-06-11 11:45:13</td>\n",
       "<td> 0.004 sec</td>\n",
       "<td>0</td>\n",
       "<td>.3E0</td>\n",
       "<td>2</td>\n",
       "<td>0.1387711</td>\n",
       "<td>0.1340858</td></tr>\n",
       "<tr><td></td>\n",
       "<td>2017-06-11 11:45:13</td>\n",
       "<td> 0.024 sec</td>\n",
       "<td>0</td>\n",
       "<td>.29E0</td>\n",
       "<td>2</td>\n",
       "<td>0.1310096</td>\n",
       "<td>0.1268453</td></tr>\n",
       "<tr><td></td>\n",
       "<td>2017-06-11 11:45:13</td>\n",
       "<td> 0.033 sec</td>\n",
       "<td>0</td>\n",
       "<td>.27E0</td>\n",
       "<td>2</td>\n",
       "<td>0.1239348</td>\n",
       "<td>0.1202429</td></tr>\n",
       "<tr><td></td>\n",
       "<td>2017-06-11 11:45:13</td>\n",
       "<td> 0.042 sec</td>\n",
       "<td>0</td>\n",
       "<td>.26E0</td>\n",
       "<td>2</td>\n",
       "<td>0.1174861</td>\n",
       "<td>0.1142224</td></tr>\n",
       "<tr><td>---</td>\n",
       "<td>---</td>\n",
       "<td>---</td>\n",
       "<td>---</td>\n",
       "<td>---</td>\n",
       "<td>---</td>\n",
       "<td>---</td>\n",
       "<td>---</td></tr>\n",
       "<tr><td></td>\n",
       "<td>2017-06-11 11:45:13</td>\n",
       "<td> 0.638 sec</td>\n",
       "<td>0</td>\n",
       "<td>.39E-2</td>\n",
       "<td>53</td>\n",
       "<td>0.0144188</td>\n",
       "<td>0.0155839</td></tr>\n",
       "<tr><td></td>\n",
       "<td>2017-06-11 11:45:13</td>\n",
       "<td> 0.648 sec</td>\n",
       "<td>0</td>\n",
       "<td>.38E-2</td>\n",
       "<td>53</td>\n",
       "<td>0.0143700</td>\n",
       "<td>0.0156259</td></tr>\n",
       "<tr><td></td>\n",
       "<td>2017-06-11 11:45:13</td>\n",
       "<td> 0.653 sec</td>\n",
       "<td>0</td>\n",
       "<td>.36E-2</td>\n",
       "<td>54</td>\n",
       "<td>0.0143236</td>\n",
       "<td>0.0156811</td></tr>\n",
       "<tr><td></td>\n",
       "<td>2017-06-11 11:45:13</td>\n",
       "<td> 0.658 sec</td>\n",
       "<td>0</td>\n",
       "<td>.34E-2</td>\n",
       "<td>54</td>\n",
       "<td>0.0142813</td>\n",
       "<td>0.0157517</td></tr>\n",
       "<tr><td></td>\n",
       "<td>2017-06-11 11:45:13</td>\n",
       "<td> 0.668 sec</td>\n",
       "<td>0</td>\n",
       "<td>.33E-2</td>\n",
       "<td>56</td>\n",
       "<td>0.0142332</td>\n",
       "<td>0.0158264</td></tr></table></div>"
      ],
      "text/plain": [
       "     timestamp            duration    iteration    lambda    predictors    deviance_train    deviance_test\n",
       "---  -------------------  ----------  -----------  --------  ------------  ----------------  ---------------\n",
       "     2017-06-11 11:45:13  0.000 sec   0            .31E0     2             0.147285755015    0.142026082078\n",
       "     2017-06-11 11:45:13  0.004 sec   0            .3E0      2             0.138771094202    0.134085812898\n",
       "     2017-06-11 11:45:13  0.024 sec   0            .29E0     2             0.131009620396    0.126845307535\n",
       "     2017-06-11 11:45:13  0.033 sec   0            .27E0     2             0.123934841983    0.120242908912\n",
       "     2017-06-11 11:45:13  0.042 sec   0            .26E0     2             0.117486119907    0.11422238163\n",
       "---  ---                  ---         ---          ---       ---           ---               ---\n",
       "     2017-06-11 11:45:13  0.638 sec   0            .39E-2    53            0.0144187902932   0.015583884633\n",
       "     2017-06-11 11:45:13  0.648 sec   0            .38E-2    53            0.0143700090076   0.0156259313397\n",
       "     2017-06-11 11:45:13  0.653 sec   0            .36E-2    54            0.0143235790922   0.0156811221011\n",
       "     2017-06-11 11:45:13  0.658 sec   0            .34E-2    54            0.0142813261449   0.0157517081065\n",
       "     2017-06-11 11:45:13  0.668 sec   0            .33E-2    56            0.0142332126365   0.0158263586168"
      ]
     },
     "metadata": {},
     "output_type": "display_data"
    },
    {
     "name": "stdout",
     "output_type": "stream",
     "text": [
      "\n",
      "See the whole table with table.as_data_frame()\n",
      "\n",
      "glm prediction progress: |████████████████████████████████████████████████| 100%\n"
     ]
    },
    {
     "data": {
      "text/html": [
       "<table>\n",
       "<thead>\n",
       "<tr><th style=\"text-align: right;\">  SalePrice</th><th style=\"text-align: right;\">  predict</th></tr>\n",
       "</thead>\n",
       "<tbody>\n",
       "<tr><td style=\"text-align: right;\">    11.8494</td><td style=\"text-align: right;\">  12.1128</td></tr>\n",
       "<tr><td style=\"text-align: right;\">    12.2061</td><td style=\"text-align: right;\">  12.273 </td></tr>\n",
       "<tr><td style=\"text-align: right;\">    11.6784</td><td style=\"text-align: right;\">  11.8203</td></tr>\n",
       "<tr><td style=\"text-align: right;\">    11.914 </td><td style=\"text-align: right;\">  11.7812</td></tr>\n",
       "<tr><td style=\"text-align: right;\">    12.6758</td><td style=\"text-align: right;\">  12.4859</td></tr>\n",
       "<tr><td style=\"text-align: right;\">    12.861 </td><td style=\"text-align: right;\">  12.6813</td></tr>\n",
       "<tr><td style=\"text-align: right;\">    12.1035</td><td style=\"text-align: right;\">  11.93  </td></tr>\n",
       "<tr><td style=\"text-align: right;\">    11.2898</td><td style=\"text-align: right;\">  11.3451</td></tr>\n",
       "<tr><td style=\"text-align: right;\">    11.7714</td><td style=\"text-align: right;\">  11.6452</td></tr>\n",
       "<tr><td style=\"text-align: right;\">    11.5843</td><td style=\"text-align: right;\">  11.485 </td></tr>\n",
       "</tbody>\n",
       "</table>"
      ]
     },
     "metadata": {},
     "output_type": "display_data"
    },
    {
     "name": "stdout",
     "output_type": "stream",
     "text": [
      "\n"
     ]
    },
    {
     "data": {
      "image/png": "[encoded data removed]",
      "text/plain": [
       "<matplotlib.figure.Figure at 0x121748910>"
      ]
     },
     "metadata": {},
     "output_type": "display_data"
    }
   ],
   "source": [
    "glm1 = glm_grid(encoded_nums, 'SalePrice', base_train, base_valid)"
   ]
  },
  {
   "cell_type": "markdown",
   "metadata": {
    "deletable": true,
    "editable": true
   },
   "source": [
    "#### Third model on encoded numeric inputs"
   ]
  },
  {
   "cell_type": "code",
   "execution_count": 26,
   "metadata": {
    "collapsed": false,
    "deletable": true,
    "editable": true
   },
   "outputs": [
    {
     "name": "stdout",
     "output_type": "stream",
     "text": [
      "glm Grid Build progress: |████████████████████████████████████████████████| 100%\n",
      "      alpha                                                      model_ids  \\\n",
      "0    [0.01]  Grid_GLM_py_288_sid_b21f_model_python_1497195175535_3_model_0   \n",
      "1    [0.25]  Grid_GLM_py_288_sid_b21f_model_python_1497195175535_3_model_1   \n",
      "2     [0.5]  Grid_GLM_py_288_sid_b21f_model_python_1497195175535_3_model_2   \n",
      "3    [0.99]  Grid_GLM_py_288_sid_b21f_model_python_1497195175535_3_model_3   \n",
      "\n",
      "    residual_deviance  \n",
      "0   3.374448857815197  \n",
      "1  3.6401646053047854  \n",
      "2   3.654940127494247  \n",
      "3   3.693251907061741  \n",
      "None\n",
      "Model Details\n",
      "=============\n",
      "H2OGeneralizedLinearEstimator :  Generalized Linear Modeling\n",
      "Model Key:  Grid_GLM_py_288_sid_b21f_model_python_1497195175535_3_model_0\n",
      "\n",
      "\n",
      "ModelMetricsRegressionGLM: glm\n",
      "** Reported on train data. **\n",
      "\n",
      "MSE: 0.0132006502449\n",
      "RMSE: 0.114894082724\n",
      "MAE: 0.081992486008\n",
      "RMSLE: 0.00896216167634\n",
      "R^2: 0.91571892584\n",
      "Mean Residual Deviance: 0.0132006502449\n",
      "Null degrees of freedom: 503\n",
      "Residual degrees of freedom: -191\n",
      "Null deviance: 78.9397594861\n",
      "Residual deviance: 6.65312772342\n",
      "AIC: 641.235489898\n",
      "\n",
      "ModelMetricsRegressionGLM: glm\n",
      "** Reported on validation data. **\n",
      "\n",
      "MSE: 0.0146715167731\n",
      "RMSE: 0.121126036727\n",
      "MAE: 0.0877079728624\n",
      "RMSLE: 0.00937370539198\n",
      "R^2: 0.901136520179\n",
      "Mean Residual Deviance: 0.0146715167731\n",
      "Null degrees of freedom: 229\n",
      "Residual degrees of freedom: -465\n",
      "Null deviance: 34.6687578237\n",
      "Residual deviance: 3.37444885782\n",
      "AIC: 1073.68684643\n",
      "Scoring History: \n"
     ]
    },
    {
     "data": {
      "text/html": [
       "<div style=\"overflow:auto\"><table style=\"width:50%\"><tr><td><b></b></td>\n",
       "<td><b>timestamp</b></td>\n",
       "<td><b>duration</b></td>\n",
       "<td><b>iteration</b></td>\n",
       "<td><b>lambda</b></td>\n",
       "<td><b>predictors</b></td>\n",
       "<td><b>deviance_train</b></td>\n",
       "<td><b>deviance_test</b></td></tr>\n",
       "<tr><td></td>\n",
       "<td>2017-06-11 11:45:31</td>\n",
       "<td> 0.000 sec</td>\n",
       "<td>0</td>\n",
       "<td>.32E2</td>\n",
       "<td>29</td>\n",
       "<td>0.1539901</td>\n",
       "<td>0.1482904</td></tr>\n",
       "<tr><td></td>\n",
       "<td>2017-06-11 11:45:31</td>\n",
       "<td> 0.208 sec</td>\n",
       "<td>0</td>\n",
       "<td>.3E2</td>\n",
       "<td>37</td>\n",
       "<td>0.1490560</td>\n",
       "<td>0.1437262</td></tr>\n",
       "<tr><td></td>\n",
       "<td>2017-06-11 11:45:32</td>\n",
       "<td> 0.401 sec</td>\n",
       "<td>0</td>\n",
       "<td>.29E2</td>\n",
       "<td>61</td>\n",
       "<td>0.1432802</td>\n",
       "<td>0.1384600</td></tr>\n",
       "<tr><td></td>\n",
       "<td>2017-06-11 11:45:32</td>\n",
       "<td> 0.478 sec</td>\n",
       "<td>0</td>\n",
       "<td>.27E2</td>\n",
       "<td>96</td>\n",
       "<td>0.1364254</td>\n",
       "<td>0.1323264</td></tr>\n",
       "<tr><td></td>\n",
       "<td>2017-06-11 11:45:32</td>\n",
       "<td> 0.588 sec</td>\n",
       "<td>0</td>\n",
       "<td>.26E2</td>\n",
       "<td>114</td>\n",
       "<td>0.1292828</td>\n",
       "<td>0.1259531</td></tr>\n",
       "<tr><td>---</td>\n",
       "<td>---</td>\n",
       "<td>---</td>\n",
       "<td>---</td>\n",
       "<td>---</td>\n",
       "<td>---</td>\n",
       "<td>---</td>\n",
       "<td>---</td></tr>\n",
       "<tr><td></td>\n",
       "<td>2017-06-11 11:46:40</td>\n",
       "<td> 1 min  8.847 sec</td>\n",
       "<td>0</td>\n",
       "<td>.4E0</td>\n",
       "<td>684</td>\n",
       "<td>0.0123063</td>\n",
       "<td>0.0157754</td></tr>\n",
       "<tr><td></td>\n",
       "<td>2017-06-11 11:46:41</td>\n",
       "<td> 1 min 10.035 sec</td>\n",
       "<td>0</td>\n",
       "<td>.38E0</td>\n",
       "<td>680</td>\n",
       "<td>0.0121825</td>\n",
       "<td>0.0160873</td></tr>\n",
       "<tr><td></td>\n",
       "<td>2017-06-11 11:46:43</td>\n",
       "<td> 1 min 11.269 sec</td>\n",
       "<td>0</td>\n",
       "<td>.36E0</td>\n",
       "<td>677</td>\n",
       "<td>0.0120618</td>\n",
       "<td>0.0164256</td></tr>\n",
       "<tr><td></td>\n",
       "<td>2017-06-11 11:46:44</td>\n",
       "<td> 1 min 12.843 sec</td>\n",
       "<td>0</td>\n",
       "<td>.35E0</td>\n",
       "<td>672</td>\n",
       "<td>0.0119438</td>\n",
       "<td>0.0167876</td></tr>\n",
       "<tr><td></td>\n",
       "<td>2017-06-11 11:46:46</td>\n",
       "<td> 1 min 14.480 sec</td>\n",
       "<td>0</td>\n",
       "<td>.33E0</td>\n",
       "<td>668</td>\n",
       "<td>0.0118299</td>\n",
       "<td>0.0171736</td></tr></table></div>"
      ],
      "text/plain": [
       "     timestamp            duration          iteration    lambda    predictors    deviance_train    deviance_test\n",
       "---  -------------------  ----------------  -----------  --------  ------------  ----------------  ---------------\n",
       "     2017-06-11 11:45:31  0.000 sec         0            .32E2     29            0.15399014822     0.148290400135\n",
       "     2017-06-11 11:45:31  0.208 sec         0            .3E2      37            0.149056002311    0.143726234488\n",
       "     2017-06-11 11:45:32  0.401 sec         0            .29E2     61            0.143280223149    0.138460003783\n",
       "     2017-06-11 11:45:32  0.478 sec         0            .27E2     96            0.136425376905    0.132326383354\n",
       "     2017-06-11 11:45:32  0.588 sec         0            .26E2     114           0.129282842869    0.125953055341\n",
       "---  ---                  ---               ---          ---       ---           ---               ---\n",
       "     2017-06-11 11:46:40  1 min  8.847 sec  0            .4E0      684           0.0123062552678   0.0157753815017\n",
       "     2017-06-11 11:46:41  1 min 10.035 sec  0            .38E0     680           0.0121825402228   0.0160872872845\n",
       "     2017-06-11 11:46:43  1 min 11.269 sec  0            .36E0     677           0.0120618224645   0.016425572572\n",
       "     2017-06-11 11:46:44  1 min 12.843 sec  0            .35E0     672           0.0119437686881   0.0167876383259\n",
       "     2017-06-11 11:46:46  1 min 14.480 sec  0            .33E0     668           0.0118299205304   0.0171735771461"
      ]
     },
     "metadata": {},
     "output_type": "display_data"
    },
    {
     "name": "stdout",
     "output_type": "stream",
     "text": [
      "\n",
      "See the whole table with table.as_data_frame()\n",
      "\n",
      "glm prediction progress: |████████████████████████████████████████████████| 100%\n"
     ]
    },
    {
     "data": {
      "text/html": [
       "<table>\n",
       "<thead>\n",
       "<tr><th style=\"text-align: right;\">  SalePrice</th><th style=\"text-align: right;\">  predict</th></tr>\n",
       "</thead>\n",
       "<tbody>\n",
       "<tr><td style=\"text-align: right;\">    11.8494</td><td style=\"text-align: right;\">  12.0929</td></tr>\n",
       "<tr><td style=\"text-align: right;\">    12.2061</td><td style=\"text-align: right;\">  12.1957</td></tr>\n",
       "<tr><td style=\"text-align: right;\">    11.6784</td><td style=\"text-align: right;\">  11.8061</td></tr>\n",
       "<tr><td style=\"text-align: right;\">    11.914 </td><td style=\"text-align: right;\">  11.7908</td></tr>\n",
       "<tr><td style=\"text-align: right;\">    12.6758</td><td style=\"text-align: right;\">  12.4602</td></tr>\n",
       "<tr><td style=\"text-align: right;\">    12.861 </td><td style=\"text-align: right;\">  12.664 </td></tr>\n",
       "<tr><td style=\"text-align: right;\">    12.1035</td><td style=\"text-align: right;\">  11.9507</td></tr>\n",
       "<tr><td style=\"text-align: right;\">    11.2898</td><td style=\"text-align: right;\">  11.3781</td></tr>\n",
       "<tr><td style=\"text-align: right;\">    11.7714</td><td style=\"text-align: right;\">  11.6666</td></tr>\n",
       "<tr><td style=\"text-align: right;\">    11.5843</td><td style=\"text-align: right;\">  11.5337</td></tr>\n",
       "</tbody>\n",
       "</table>"
      ]
     },
     "metadata": {},
     "output_type": "display_data"
    },
    {
     "name": "stdout",
     "output_type": "stream",
     "text": [
      "\n"
     ]
    },
    {
     "data": {
      "image/png": "[encoded data removed]",
      "text/plain": [
       "<matplotlib.figure.Figure at 0x12b0c1b10>"
      ]
     },
     "metadata": {},
     "output_type": "display_data"
    }
   ],
   "source": [
    "glm2 = glm_grid(encoded_combined_nums, 'SalePrice', base_train, base_valid)"
   ]
  },
  {
   "cell_type": "markdown",
   "metadata": {
    "deletable": true,
    "editable": true
   },
   "source": [
    "## Train combiner model on second level data"
   ]
  },
  {
   "cell_type": "markdown",
   "metadata": {
    "deletable": true,
    "editable": true
   },
   "source": [
    "#### Add prediction features to second level data and test data"
   ]
  },
  {
   "cell_type": "code",
   "execution_count": 27,
   "metadata": {
    "collapsed": false,
    "deletable": true,
    "editable": true
   },
   "outputs": [
    {
     "name": "stdout",
     "output_type": "stream",
     "text": [
      "glm prediction progress: |████████████████████████████████████████████████| 100%\n",
      "glm prediction progress: |████████████████████████████████████████████████| 100%\n",
      "glm prediction progress: |████████████████████████████████████████████████| 100%\n",
      "glm prediction progress: |████████████████████████████████████████████████| 100%\n",
      "glm prediction progress: |████████████████████████████████████████████████| 100%\n",
      "glm prediction progress: |████████████████████████████████████████████████| 100%\n",
      "glm prediction progress: |████████████████████████████████████████████████| 100%\n",
      "glm prediction progress: |████████████████████████████████████████████████| 100%\n",
      "glm prediction progress: |████████████████████████████████████████████████| 100%\n"
     ]
    }
   ],
   "source": [
    "stack_train = stack_train.cbind(glm0.predict(stack_train))\n",
    "stack_valid = stack_valid.cbind(glm0.predict(stack_valid))\n",
    "stack_train = stack_train.cbind(glm1.predict(stack_train))\n",
    "stack_valid = stack_valid.cbind(glm1.predict(stack_valid))\n",
    "stack_train = stack_train.cbind(glm2.predict(stack_train))\n",
    "stack_valid = stack_valid.cbind(glm2.predict(stack_valid))\n",
    "\n",
    "test = test.cbind(glm0.predict(test))\n",
    "test = test.cbind(glm1.predict(test))\n",
    "test = test.cbind(glm2.predict(test))"
   ]
  },
  {
   "cell_type": "markdown",
   "metadata": {
    "deletable": true,
    "editable": true
   },
   "source": [
    "#### Train stack model"
   ]
  },
  {
   "cell_type": "code",
   "execution_count": 28,
   "metadata": {
    "collapsed": false,
    "deletable": true,
    "editable": true
   },
   "outputs": [
    {
     "name": "stdout",
     "output_type": "stream",
     "text": [
      "glm Grid Build progress: |████████████████████████████████████████████████| 100%\n",
      "      alpha                                                      model_ids  \\\n",
      "0     [0.5]  Grid_GLM_py_310_sid_b21f_model_python_1497195175535_4_model_2   \n",
      "1    [0.25]  Grid_GLM_py_310_sid_b21f_model_python_1497195175535_4_model_1   \n",
      "2    [0.99]  Grid_GLM_py_310_sid_b21f_model_python_1497195175535_4_model_3   \n",
      "3    [0.01]  Grid_GLM_py_310_sid_b21f_model_python_1497195175535_4_model_0   \n",
      "\n",
      "    residual_deviance  \n",
      "0   3.157344480313511  \n",
      "1   3.168314646248289  \n",
      "2   3.252692874443157  \n",
      "3  3.7511538959367354  \n",
      "None\n",
      "Model Details\n",
      "=============\n",
      "H2OGeneralizedLinearEstimator :  Generalized Linear Modeling\n",
      "Model Key:  Grid_GLM_py_310_sid_b21f_model_python_1497195175535_4_model_2\n",
      "\n",
      "\n",
      "ModelMetricsRegressionGLM: glm\n",
      "** Reported on train data. **\n",
      "\n",
      "MSE: 0.0131861209491\n",
      "RMSE: 0.114830836229\n",
      "MAE: 0.0816339712335\n",
      "RMSLE: 0.00893662542487\n",
      "R^2: 0.913682334465\n",
      "Mean Residual Deviance: 0.0131861209491\n",
      "Null degrees of freedom: 496\n",
      "Residual degrees of freedom: 463\n",
      "Null deviance: 75.9230694102\n",
      "Residual deviance: 6.55350211173\n",
      "AIC: -670.884549552\n",
      "\n",
      "ModelMetricsRegressionGLM: glm\n",
      "** Reported on validation data. **\n",
      "\n",
      "MSE: 0.0137875304817\n",
      "RMSE: 0.117420315456\n",
      "MAE: 0.0891741212631\n",
      "RMSLE: 0.00918321305241\n",
      "R^2: 0.926935522482\n",
      "Mean Residual Deviance: 0.0137875304817\n",
      "Null degrees of freedom: 228\n",
      "Residual degrees of freedom: 195\n",
      "Null deviance: 43.2192717027\n",
      "Residual deviance: 3.15734448031\n",
      "AIC: -261.160018333\n",
      "Scoring History: \n"
     ]
    },
    {
     "data": {
      "text/html": [
       "<div style=\"overflow:auto\"><table style=\"width:50%\"><tr><td><b></b></td>\n",
       "<td><b>timestamp</b></td>\n",
       "<td><b>duration</b></td>\n",
       "<td><b>iteration</b></td>\n",
       "<td><b>lambda</b></td>\n",
       "<td><b>predictors</b></td>\n",
       "<td><b>deviance_train</b></td>\n",
       "<td><b>deviance_test</b></td></tr>\n",
       "<tr><td></td>\n",
       "<td>2017-06-11 11:51:01</td>\n",
       "<td> 0.000 sec</td>\n",
       "<td>0</td>\n",
       "<td>.7E0</td>\n",
       "<td>3</td>\n",
       "<td>0.1436399</td>\n",
       "<td>0.1773126</td></tr>\n",
       "<tr><td></td>\n",
       "<td>2017-06-11 11:51:01</td>\n",
       "<td> 0.084 sec</td>\n",
       "<td>0</td>\n",
       "<td>.66E0</td>\n",
       "<td>3</td>\n",
       "<td>0.1342415</td>\n",
       "<td>0.1654547</td></tr>\n",
       "<tr><td></td>\n",
       "<td>2017-06-11 11:51:01</td>\n",
       "<td> 0.145 sec</td>\n",
       "<td>0</td>\n",
       "<td>.63E0</td>\n",
       "<td>3</td>\n",
       "<td>0.1255174</td>\n",
       "<td>0.1544250</td></tr>\n",
       "<tr><td></td>\n",
       "<td>2017-06-11 11:51:01</td>\n",
       "<td> 0.208 sec</td>\n",
       "<td>0</td>\n",
       "<td>.6E0</td>\n",
       "<td>3</td>\n",
       "<td>0.1174053</td>\n",
       "<td>0.1441455</td></tr>\n",
       "<tr><td></td>\n",
       "<td>2017-06-11 11:51:01</td>\n",
       "<td> 0.313 sec</td>\n",
       "<td>0</td>\n",
       "<td>.58E0</td>\n",
       "<td>3</td>\n",
       "<td>0.1098809</td>\n",
       "<td>0.1345888</td></tr>\n",
       "<tr><td>---</td>\n",
       "<td>---</td>\n",
       "<td>---</td>\n",
       "<td>---</td>\n",
       "<td>---</td>\n",
       "<td>---</td>\n",
       "<td>---</td>\n",
       "<td>---</td></tr>\n",
       "<tr><td></td>\n",
       "<td>2017-06-11 11:51:08</td>\n",
       "<td> 7.792 sec</td>\n",
       "<td>0</td>\n",
       "<td>.88E-2</td>\n",
       "<td>80</td>\n",
       "<td>0.0099657</td>\n",
       "<td>0.0150471</td></tr>\n",
       "<tr><td></td>\n",
       "<td>2017-06-11 11:51:09</td>\n",
       "<td> 7.943 sec</td>\n",
       "<td>0</td>\n",
       "<td>.84E-2</td>\n",
       "<td>85</td>\n",
       "<td>0.0098684</td>\n",
       "<td>0.0151770</td></tr>\n",
       "<tr><td></td>\n",
       "<td>2017-06-11 11:51:09</td>\n",
       "<td> 8.073 sec</td>\n",
       "<td>0</td>\n",
       "<td>.8E-2</td>\n",
       "<td>84</td>\n",
       "<td>0.0097672</td>\n",
       "<td>0.0153099</td></tr>\n",
       "<tr><td></td>\n",
       "<td>2017-06-11 11:51:09</td>\n",
       "<td> 8.284 sec</td>\n",
       "<td>0</td>\n",
       "<td>.76E-2</td>\n",
       "<td>86</td>\n",
       "<td>0.0096673</td>\n",
       "<td>0.0154216</td></tr>\n",
       "<tr><td></td>\n",
       "<td>2017-06-11 11:51:09</td>\n",
       "<td> 8.403 sec</td>\n",
       "<td>0</td>\n",
       "<td>.73E-2</td>\n",
       "<td>88</td>\n",
       "<td>0.0095639</td>\n",
       "<td>0.0155935</td></tr></table></div>"
      ],
      "text/plain": [
       "     timestamp            duration    iteration    lambda    predictors    deviance_train    deviance_test\n",
       "---  -------------------  ----------  -----------  --------  ------------  ----------------  ---------------\n",
       "     2017-06-11 11:51:01  0.000 sec   0            .7E0      3             0.143639928839    0.177312632222\n",
       "     2017-06-11 11:51:01  0.084 sec   0            .66E0     3             0.134241502429    0.165454654776\n",
       "     2017-06-11 11:51:01  0.145 sec   0            .63E0     3             0.125517443309    0.154425028616\n",
       "     2017-06-11 11:51:01  0.208 sec   0            .6E0      3             0.117405345381    0.144145472072\n",
       "     2017-06-11 11:51:01  0.313 sec   0            .58E0     3             0.10988090839     0.13458879751\n",
       "---  ---                  ---         ---          ---       ---           ---               ---\n",
       "     2017-06-11 11:51:08  7.792 sec   0            .88E-2    80            0.00996566523647  0.0150471014232\n",
       "     2017-06-11 11:51:09  7.943 sec   0            .84E-2    85            0.00986838172259  0.0151770429832\n",
       "     2017-06-11 11:51:09  8.073 sec   0            .8E-2     84            0.0097671622038   0.0153099451317\n",
       "     2017-06-11 11:51:09  8.284 sec   0            .76E-2    86            0.00966728213146  0.0154215569077\n",
       "     2017-06-11 11:51:09  8.403 sec   0            .73E-2    88            0.00956388410058  0.0155934905052"
      ]
     },
     "metadata": {},
     "output_type": "display_data"
    },
    {
     "name": "stdout",
     "output_type": "stream",
     "text": [
      "\n",
      "See the whole table with table.as_data_frame()\n",
      "\n",
      "glm prediction progress: |████████████████████████████████████████████████| 100%\n"
     ]
    },
    {
     "data": {
      "text/html": [
       "<table>\n",
       "<thead>\n",
       "<tr><th style=\"text-align: right;\">  SalePrice</th><th style=\"text-align: right;\">  predict</th></tr>\n",
       "</thead>\n",
       "<tbody>\n",
       "<tr><td style=\"text-align: right;\">    11.7906</td><td style=\"text-align: right;\">  11.8964</td></tr>\n",
       "<tr><td style=\"text-align: right;\">    11.9117</td><td style=\"text-align: right;\">  11.9742</td></tr>\n",
       "<tr><td style=\"text-align: right;\">    11.9767</td><td style=\"text-align: right;\">  11.9817</td></tr>\n",
       "<tr><td style=\"text-align: right;\">    11.8451</td><td style=\"text-align: right;\">  11.7998</td></tr>\n",
       "<tr><td style=\"text-align: right;\">    11.1346</td><td style=\"text-align: right;\">  11.3061</td></tr>\n",
       "<tr><td style=\"text-align: right;\">    11.8845</td><td style=\"text-align: right;\">  11.9415</td></tr>\n",
       "<tr><td style=\"text-align: right;\">    11.9382</td><td style=\"text-align: right;\">  11.8829</td></tr>\n",
       "<tr><td style=\"text-align: right;\">    11.8565</td><td style=\"text-align: right;\">  11.7301</td></tr>\n",
       "<tr><td style=\"text-align: right;\">    11.9704</td><td style=\"text-align: right;\">  12.0702</td></tr>\n",
       "<tr><td style=\"text-align: right;\">    12.6667</td><td style=\"text-align: right;\">  12.5792</td></tr>\n",
       "</tbody>\n",
       "</table>"
      ]
     },
     "metadata": {},
     "output_type": "display_data"
    },
    {
     "name": "stdout",
     "output_type": "stream",
     "text": [
      "\n"
     ]
    },
    {
     "data": {
      "image/png": "[encoded data removed]",
      "text/plain": [
       "<matplotlib.figure.Figure at 0x127f08610>"
      ]
     },
     "metadata": {},
     "output_type": "display_data"
    }
   ],
   "source": [
    "glm3 = glm_grid(encoded_combined_nums + ['predict', 'predict0', 'predict1'], 'SalePrice', stack_train, stack_valid)"
   ]
  },
  {
   "cell_type": "markdown",
   "metadata": {
    "deletable": true,
    "editable": true
   },
   "source": [
    "#### Score test data"
   ]
  },
  {
   "cell_type": "code",
   "execution_count": 29,
   "metadata": {
    "collapsed": false,
    "deletable": true,
    "editable": true
   },
   "outputs": [
    {
     "name": "stdout",
     "output_type": "stream",
     "text": [
      "glm prediction progress: |████████████████████████████████████████████████| 100%\n"
     ]
    },
    {
     "data": {
      "text/html": [
       "<table>\n",
       "<thead>\n",
       "<tr><th style=\"text-align: right;\">  Id</th><th style=\"text-align: right;\">  predict</th></tr>\n",
       "</thead>\n",
       "<tbody>\n",
       "<tr><td style=\"text-align: right;\">1461</td><td style=\"text-align: right;\">   110110</td></tr>\n",
       "<tr><td style=\"text-align: right;\">1462</td><td style=\"text-align: right;\">   146265</td></tr>\n",
       "<tr><td style=\"text-align: right;\">1463</td><td style=\"text-align: right;\">   164337</td></tr>\n",
       "<tr><td style=\"text-align: right;\">1464</td><td style=\"text-align: right;\">   184702</td></tr>\n",
       "<tr><td style=\"text-align: right;\">1465</td><td style=\"text-align: right;\">   202877</td></tr>\n",
       "<tr><td style=\"text-align: right;\">1466</td><td style=\"text-align: right;\">   162703</td></tr>\n",
       "<tr><td style=\"text-align: right;\">1467</td><td style=\"text-align: right;\">   176488</td></tr>\n",
       "<tr><td style=\"text-align: right;\">1468</td><td style=\"text-align: right;\">   160274</td></tr>\n",
       "<tr><td style=\"text-align: right;\">1469</td><td style=\"text-align: right;\">   181217</td></tr>\n",
       "<tr><td style=\"text-align: right;\">1470</td><td style=\"text-align: right;\">   113874</td></tr>\n",
       "</tbody>\n",
       "</table>"
      ]
     },
     "metadata": {},
     "output_type": "display_data"
    },
    {
     "name": "stdout",
     "output_type": "stream",
     "text": [
      "\n"
     ]
    }
   ],
   "source": [
    "sub = test['Id'].cbind(glm3.predict(test))\n",
    "sub['predict'] = sub['predict'].exp()\n",
    "print(sub.head())"
   ]
  },
  {
   "cell_type": "markdown",
   "metadata": {
    "deletable": true,
    "editable": true
   },
   "source": [
    "#### Create submission"
   ]
  },
  {
   "cell_type": "code",
   "execution_count": 31,
   "metadata": {
    "collapsed": false,
    "deletable": true,
    "editable": true
   },
   "outputs": [],
   "source": [
    "# create time stamp\n",
    "import re\n",
    "import time\n",
    "time_stamp = re.sub('[: ]', '_', time.asctime())\n",
    "\n",
    "# save file for submission\n",
    "sub.columns = ['Id', 'SalePrice']\n",
    "sub_fname = '../Desktop/submission_' + str(time_stamp) + '.csv'\n",
    "h2o.download_csv(sub, sub_fname)"
   ]
  },
  {
   "cell_type": "code",
   "execution_count": 28,
   "metadata": {
    "collapsed": false,
    "deletable": true,
    "editable": true
   },
   "outputs": [
    {
     "name": "stdout",
     "output_type": "stream",
     "text": [
      "Are you sure you want to shutdown the H2O instance running at http://127.0.0.1:54321 (Y/N)? y\n",
      "H2O session _sid_9c9b closed.\n"
     ]
    }
   ],
   "source": [
    "# Shutdown H2O - this will erase all your unsaved frames and models in H2O\n",
    "h2o.cluster().shutdown(prompt=True)"
   ]
  }
 ],
 "metadata": {
  "anaconda-cloud": {},
  "kernelspec": {
   "display_name": "Python [Root]",
   "language": "python",
   "name": "Python [Root]"
  },
  "language_info": {
   "codemirror_mode": {
    "name": "ipython",
    "version": 2
   },
   "file_extension": ".py",
   "mimetype": "text/x-python",
   "name": "python",
   "nbconvert_exporter": "python",
   "pygments_lexer": "ipython2",
   "version": "2.7.12"
  }
 },
 "nbformat": 4,
 "nbformat_minor": 2
}
